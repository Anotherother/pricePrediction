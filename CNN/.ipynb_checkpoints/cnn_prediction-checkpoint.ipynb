{
 "cells": [
  {
   "cell_type": "code",
   "execution_count": 15,
   "metadata": {},
   "outputs": [
    {
     "name": "stdout",
     "output_type": "stream",
     "text": [
      "The autoreload extension is already loaded. To reload it, use:\n",
      "  %reload_ext autoreload\n"
     ]
    }
   ],
   "source": [
    "import pandas as pd\n",
    "import numpy as np\n",
    "import random\n",
    "import matplotlib.pylab as plt\n",
    "import datetime\n",
    "import locale\n",
    "locale.setlocale(locale.LC_NUMERIC, \"\")\n",
    "\n",
    "\n",
    "from keras.models import Sequential\n",
    "from keras.layers.core import Dense, Dropout, Activation, Flatten\n",
    "from keras.layers.recurrent import LSTM, GRU\n",
    "from keras.layers import Convolution1D, MaxPooling1D, AtrousConvolution1D, RepeatVector\n",
    "from keras.callbacks import ModelCheckpoint, ReduceLROnPlateau, CSVLogger\n",
    "from keras.layers.wrappers import Bidirectional\n",
    "from keras import regularizers\n",
    "from keras.layers.normalization import BatchNormalization\n",
    "from keras.layers.advanced_activations import *\n",
    "from keras.optimizers import RMSprop, Adam, SGD, Nadam\n",
    "from keras.initializers import *\n",
    "import src.dataset_prepare as prepare\n",
    "\n",
    "%load_ext autoreload\n",
    "%autoreload 2\n",
    "\n",
    "import seaborn as sns\n",
    "from pylab import rcParams\n",
    "\n",
    "%matplotlib inline\n",
    "sns.set(style='whitegrid', palette='muted', font_scale=1.5)\n",
    "rcParams['figure.figsize'] = 14, 8"
   ]
  },
  {
   "cell_type": "code",
   "execution_count": 28,
   "metadata": {
    "collapsed": true
   },
   "outputs": [],
   "source": [
    "ASK_FNAME = \"rtf/eurusd002-ask.rtf\"\n",
    "BID_FNAME = \"rtf/eurusd002-BID.rtf\"\n",
    "\n",
    "WINDOW=90\n",
    "FORECAST=45\n",
    "EMB_SIZE=10\n",
    "STEP=1\n",
    "TRAIN_TEST_PERCENTAGE=0.9\n",
    "SAVE_NAME = \"classification_model.hdf5\"\n",
    "LOAD_NAME = \"classification_model.hdf5\"\n",
    "ENABLE_CSV_OUTPUT = 1\n",
    "NAME_CSV = \"classification\"\n",
    "TRAINING = 1\n",
    "TESTING = 0\n",
    "NUMBER_EPOCHS = 10\n",
    "TRADING_DAYS = 5"
   ]
  },
  {
   "cell_type": "code",
   "execution_count": 20,
   "metadata": {
    "collapsed": true
   },
   "outputs": [],
   "source": [
    "import src.get_data as get_data\n",
    "\n",
    "df = get_data.get_data_frame5minutes('USDT_BTC', 'poloniex')\n",
    "df = df[['open', 'close', 'low', 'high', 'volume', 'date']]"
   ]
  },
  {
   "cell_type": "code",
   "execution_count": 40,
   "metadata": {},
   "outputs": [
    {
     "name": "stderr",
     "output_type": "stream",
     "text": [
      "[autoreload of src.dataset_prepare failed: Traceback (most recent call last):\n",
      "  File \"/root/anaconda/lib/python3.6/site-packages/IPython/extensions/autoreload.py\", line 247, in check\n",
      "    superreload(m, reload, self.old_objects)\n",
      "  File \"/home/jacob/Github/pricePrediction/CNN/src/dataset_prepare.py\", line 108\n",
      "    print 'cleaning dataset ',i,'/',len(df.Volume)\n",
      "                            ^\n",
      "SyntaxError: invalid syntax\n",
      "]\n"
     ]
    },
    {
     "ename": "AttributeError",
     "evalue": "module 'src.dataset_prepare' has no attribute 'dataset_check'",
     "output_type": "error",
     "traceback": [
      "\u001b[0;31m---------------------------------------------------------------------------\u001b[0m",
      "\u001b[0;31mAttributeError\u001b[0m                            Traceback (most recent call last)",
      "\u001b[0;32m<ipython-input-40-8d0138a9bd76>\u001b[0m in \u001b[0;36m<module>\u001b[0;34m()\u001b[0m\n\u001b[0;32m----> 1\u001b[0;31m \u001b[0mprepare\u001b[0m\u001b[0;34m.\u001b[0m\u001b[0mdataset_check\u001b[0m\u001b[0;34m(\u001b[0m\u001b[0mdf\u001b[0m\u001b[0;34m)\u001b[0m\u001b[0;34m\u001b[0m\u001b[0m\n\u001b[0m",
      "\u001b[0;31mAttributeError\u001b[0m: module 'src.dataset_prepare' has no attribute 'dataset_check'"
     ]
    }
   ],
   "source": [
    "prepare.dataset_check(df)"
   ]
  },
  {
   "cell_type": "code",
   "execution_count": 35,
   "metadata": {},
   "outputs": [
    {
     "name": "stdout",
     "output_type": "stream",
     "text": [
      "\n",
      "INSPECTING DATABASE..\n",
      "\n",
      "DATABASE SIZE [ 70115 ]\n"
     ]
    }
   ],
   "source": [
    "check_dead = prepare.df_dead(df)"
   ]
  }
 ],
 "metadata": {
  "kernelspec": {
   "display_name": "Python 3",
   "language": "python",
   "name": "python3"
  },
  "language_info": {
   "codemirror_mode": {
    "name": "ipython",
    "version": 3
   },
   "file_extension": ".py",
   "mimetype": "text/x-python",
   "name": "python",
   "nbconvert_exporter": "python",
   "pygments_lexer": "ipython3",
   "version": "3.6.1"
  }
 },
 "nbformat": 4,
 "nbformat_minor": 2
}
