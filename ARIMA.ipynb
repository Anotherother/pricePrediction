{
 "cells": [
  {
   "cell_type": "code",
   "execution_count": 1,
   "metadata": {},
   "outputs": [
    {
     "name": "stderr",
     "output_type": "stream",
     "text": [
      "/home/jacob/anaconda3/lib/python3.6/site-packages/statsmodels/compat/pandas.py:56: FutureWarning: The pandas.core.datetools module is deprecated and will be removed in a future version. Please use the pandas.tseries module instead.\n",
      "  from pandas.core import datetools\n"
     ]
    }
   ],
   "source": [
    "import pandas as pd\n",
    "import numpy as np\n",
    "import matplotlib.pyplot as plt\n",
    "from pandas.tools.plotting import autocorrelation_plot\n",
    "from statsmodels.graphics.tsaplots import plot_pacf\n",
    "from statsmodels.tsa.arima_model import ARIMA, ARMAResults\n",
    "\n",
    "import datetime\n",
    "import sys\n",
    "import seaborn as sns\n",
    "import statsmodels\n",
    "import statsmodels.stats.diagnostic as diag\n",
    "from statsmodels.tsa.stattools import adfuller\n",
    "from arch import arch_model\n",
    "from scipy.stats.mstats import normaltest\n",
    "from matplotlib.pyplot import acorr\n",
    "%matplotlib inline\n",
    "import quandl"
   ]
  },
  {
   "cell_type": "code",
   "execution_count": 2,
   "metadata": {},
   "outputs": [
    {
     "data": {
      "text/html": [
       "<div>\n",
       "<style>\n",
       "    .dataframe thead tr:only-child th {\n",
       "        text-align: right;\n",
       "    }\n",
       "\n",
       "    .dataframe thead th {\n",
       "        text-align: left;\n",
       "    }\n",
       "\n",
       "    .dataframe tbody tr th {\n",
       "        vertical-align: top;\n",
       "    }\n",
       "</style>\n",
       "<table border=\"1\" class=\"dataframe\">\n",
       "  <thead>\n",
       "    <tr style=\"text-align: right;\">\n",
       "      <th></th>\n",
       "      <th>id</th>\n",
       "      <th>date_time</th>\n",
       "      <th>open</th>\n",
       "      <th>close</th>\n",
       "      <th>low</th>\n",
       "      <th>high</th>\n",
       "      <th>volume</th>\n",
       "      <th>pair_id</th>\n",
       "    </tr>\n",
       "    <tr>\n",
       "      <th>#</th>\n",
       "      <th></th>\n",
       "      <th></th>\n",
       "      <th></th>\n",
       "      <th></th>\n",
       "      <th></th>\n",
       "      <th></th>\n",
       "      <th></th>\n",
       "      <th></th>\n",
       "    </tr>\n",
       "  </thead>\n",
       "  <tbody>\n",
       "    <tr>\n",
       "      <th>1</th>\n",
       "      <td>10362847</td>\n",
       "      <td>2015-08-01 07:00:00.000000</td>\n",
       "      <td>284.000000</td>\n",
       "      <td>279.845023</td>\n",
       "      <td>275.724508</td>\n",
       "      <td>284.000000</td>\n",
       "      <td>301.376392</td>\n",
       "      <td>83</td>\n",
       "    </tr>\n",
       "    <tr>\n",
       "      <th>2</th>\n",
       "      <td>10362848</td>\n",
       "      <td>2015-08-02 07:00:00.000000</td>\n",
       "      <td>280.000000</td>\n",
       "      <td>286.438075</td>\n",
       "      <td>280.000000</td>\n",
       "      <td>286.438075</td>\n",
       "      <td>106.563859</td>\n",
       "      <td>83</td>\n",
       "    </tr>\n",
       "    <tr>\n",
       "      <th>3</th>\n",
       "      <td>10362849</td>\n",
       "      <td>2015-08-03 07:00:00.000000</td>\n",
       "      <td>285.438300</td>\n",
       "      <td>288.965644</td>\n",
       "      <td>284.286275</td>\n",
       "      <td>288.965644</td>\n",
       "      <td>75.706794</td>\n",
       "      <td>83</td>\n",
       "    </tr>\n",
       "    <tr>\n",
       "      <th>4</th>\n",
       "      <td>10362850</td>\n",
       "      <td>2015-08-04 07:00:00.000000</td>\n",
       "      <td>281.104486</td>\n",
       "      <td>288.000000</td>\n",
       "      <td>281.104486</td>\n",
       "      <td>288.000000</td>\n",
       "      <td>11.947218</td>\n",
       "      <td>83</td>\n",
       "    </tr>\n",
       "    <tr>\n",
       "      <th>5</th>\n",
       "      <td>10362851</td>\n",
       "      <td>2015-08-05 07:00:00.000000</td>\n",
       "      <td>288.200000</td>\n",
       "      <td>287.569800</td>\n",
       "      <td>279.793314</td>\n",
       "      <td>288.965425</td>\n",
       "      <td>9.297527</td>\n",
       "      <td>83</td>\n",
       "    </tr>\n",
       "  </tbody>\n",
       "</table>\n",
       "</div>"
      ],
      "text/plain": [
       "         id                   date_time        open       close         low  \\\n",
       "#                                                                             \n",
       "1  10362847  2015-08-01 07:00:00.000000  284.000000  279.845023  275.724508   \n",
       "2  10362848  2015-08-02 07:00:00.000000  280.000000  286.438075  280.000000   \n",
       "3  10362849  2015-08-03 07:00:00.000000  285.438300  288.965644  284.286275   \n",
       "4  10362850  2015-08-04 07:00:00.000000  281.104486  288.000000  281.104486   \n",
       "5  10362851  2015-08-05 07:00:00.000000  288.200000  287.569800  279.793314   \n",
       "\n",
       "         high      volume  pair_id  \n",
       "#                                   \n",
       "1  284.000000  301.376392       83  \n",
       "2  286.438075  106.563859       83  \n",
       "3  288.965644   75.706794       83  \n",
       "4  288.000000   11.947218       83  \n",
       "5  288.965425    9.297527       83  "
      ]
     },
     "execution_count": 2,
     "metadata": {},
     "output_type": "execute_result"
    }
   ],
   "source": [
    "df = pd.read_csv(\"data/24h_candle.csv\", delimiter=',', index_col=0)\n",
    "df.head()"
   ]
  },
  {
   "cell_type": "code",
   "execution_count": 3,
   "metadata": {
    "collapsed": true
   },
   "outputs": [],
   "source": [
    "timeseries = df[['date_time','close', 'volume']][:-1]"
   ]
  },
  {
   "cell_type": "code",
   "execution_count": 4,
   "metadata": {
    "collapsed": true
   },
   "outputs": [],
   "source": [
    "timeseries['TSClose']= timeseries.close\n",
    "timeseries['logTS']= np.log(timeseries['TSClose'])\n",
    "timeseries['diflogTS'] = timeseries['logTS'] - timeseries['logTS'].shift(periods=-1)\n",
    "timeseries = timeseries.dropna()"
   ]
  },
  {
   "cell_type": "code",
   "execution_count": 5,
   "metadata": {},
   "outputs": [
    {
     "data": {
      "text/html": [
       "<div>\n",
       "<style>\n",
       "    .dataframe thead tr:only-child th {\n",
       "        text-align: right;\n",
       "    }\n",
       "\n",
       "    .dataframe thead th {\n",
       "        text-align: left;\n",
       "    }\n",
       "\n",
       "    .dataframe tbody tr th {\n",
       "        vertical-align: top;\n",
       "    }\n",
       "</style>\n",
       "<table border=\"1\" class=\"dataframe\">\n",
       "  <thead>\n",
       "    <tr style=\"text-align: right;\">\n",
       "      <th></th>\n",
       "      <th>date_time</th>\n",
       "      <th>close</th>\n",
       "      <th>volume</th>\n",
       "      <th>TSClose</th>\n",
       "      <th>logTS</th>\n",
       "      <th>diflogTS</th>\n",
       "    </tr>\n",
       "    <tr>\n",
       "      <th>#</th>\n",
       "      <th></th>\n",
       "      <th></th>\n",
       "      <th></th>\n",
       "      <th></th>\n",
       "      <th></th>\n",
       "      <th></th>\n",
       "    </tr>\n",
       "  </thead>\n",
       "  <tbody>\n",
       "    <tr>\n",
       "      <th>707</th>\n",
       "      <td>2017-07-07 07:00:00.000000</td>\n",
       "      <td>2477.000000</td>\n",
       "      <td>3.032787e+07</td>\n",
       "      <td>2477.000000</td>\n",
       "      <td>7.814803</td>\n",
       "      <td>-0.028760</td>\n",
       "    </tr>\n",
       "    <tr>\n",
       "      <th>708</th>\n",
       "      <td>2017-07-08 07:00:00.000000</td>\n",
       "      <td>2549.272532</td>\n",
       "      <td>2.205981e+07</td>\n",
       "      <td>2549.272532</td>\n",
       "      <td>7.843563</td>\n",
       "      <td>0.030330</td>\n",
       "    </tr>\n",
       "    <tr>\n",
       "      <th>709</th>\n",
       "      <td>2017-07-09 07:00:00.000000</td>\n",
       "      <td>2473.114739</td>\n",
       "      <td>1.449431e+07</td>\n",
       "      <td>2473.114739</td>\n",
       "      <td>7.813234</td>\n",
       "      <td>0.065637</td>\n",
       "    </tr>\n",
       "    <tr>\n",
       "      <th>710</th>\n",
       "      <td>2017-07-10 07:00:00.000000</td>\n",
       "      <td>2316.000000</td>\n",
       "      <td>4.587192e+07</td>\n",
       "      <td>2316.000000</td>\n",
       "      <td>7.747597</td>\n",
       "      <td>0.013915</td>\n",
       "    </tr>\n",
       "    <tr>\n",
       "      <th>711</th>\n",
       "      <td>2017-07-11 07:00:00.000000</td>\n",
       "      <td>2283.995523</td>\n",
       "      <td>5.741912e+07</td>\n",
       "      <td>2283.995523</td>\n",
       "      <td>7.733682</td>\n",
       "      <td>-0.039461</td>\n",
       "    </tr>\n",
       "  </tbody>\n",
       "</table>\n",
       "</div>"
      ],
      "text/plain": [
       "                      date_time        close        volume      TSClose  \\\n",
       "#                                                                         \n",
       "707  2017-07-07 07:00:00.000000  2477.000000  3.032787e+07  2477.000000   \n",
       "708  2017-07-08 07:00:00.000000  2549.272532  2.205981e+07  2549.272532   \n",
       "709  2017-07-09 07:00:00.000000  2473.114739  1.449431e+07  2473.114739   \n",
       "710  2017-07-10 07:00:00.000000  2316.000000  4.587192e+07  2316.000000   \n",
       "711  2017-07-11 07:00:00.000000  2283.995523  5.741912e+07  2283.995523   \n",
       "\n",
       "        logTS  diflogTS  \n",
       "#                        \n",
       "707  7.814803 -0.028760  \n",
       "708  7.843563  0.030330  \n",
       "709  7.813234  0.065637  \n",
       "710  7.747597  0.013915  \n",
       "711  7.733682 -0.039461  "
      ]
     },
     "execution_count": 5,
     "metadata": {},
     "output_type": "execute_result"
    }
   ],
   "source": [
    "timeseries.tail()"
   ]
  },
  {
   "cell_type": "code",
   "execution_count": 6,
   "metadata": {},
   "outputs": [
    {
     "data": {
      "text/plain": [
       "<matplotlib.text.Text at 0x7f15af42b550>"
      ]
     },
     "execution_count": 6,
     "metadata": {},
     "output_type": "execute_result"
    },
    {
     "data": {
      "image/png": "[encoded data removed]",
      "text/plain": [
       "<matplotlib.figure.Figure at 0x7f15b1237080>"
      ]
     },
     "metadata": {},
     "output_type": "display_data"
    }
   ],
   "source": [
    "fig, ax = plt.subplots(figsize=(12,8))\n",
    "\n",
    "plt.subplot(2, 1, 1)\n",
    "plt.plot(timeseries.index, timeseries.TSClose, label = \"Log of TS Closing Price\")\n",
    "plt.title(\"Level TS Closing Price\", size = 20,)\n",
    "plt.ylabel(\"Price in Dollars\", size = 10)\n",
    "\n",
    "plt.subplot(2, 1, 2)\n",
    "plt.plot(timeseries.index, timeseries.diflogTS, label = '1st Diffrence of Log of TS', color = 'g')\n",
    "plt.title(\"Difference between Log of TS Closing Price\", size = 10,)\n",
    "plt.ylabel(\"Difference between TS Closing Price\", size = 10)\n",
    "plt.xlabel('Day', size = 10)"
   ]
  },
  {
   "cell_type": "markdown",
   "metadata": {},
   "source": [
    "Тест Дики-Фуллера для проверки стационарности ряда. Чем меньше значение р, тем больше ряд является стационарным"
   ]
  },
  {
   "cell_type": "code",
   "execution_count": 7,
   "metadata": {},
   "outputs": [
    {
     "name": "stdout",
     "output_type": "stream",
     "text": [
      "Results of Dickey-Fuller Test:\n",
      "Test Statistic                 -30.762220\n",
      "p-value                          0.000000\n",
      "# Lags Used                      0.000000\n",
      "Number of Observations Used    710.000000\n",
      "Critical Value (1%)             -3.439594\n",
      "Critical Value (5%)             -2.865619\n",
      "Critical Value (10%)            -2.568942\n",
      "dtype: float64\n"
     ]
    }
   ],
   "source": [
    "print ('Results of Dickey-Fuller Test:')\n",
    "dftest = adfuller(timeseries.diflogTS, autolag='AIC')\n",
    "\n",
    "dfoutput = pd.Series(dftest[0:4], index=['Test Statistic','p-value','# Lags Used','Number of Observations Used'])\n",
    "for key,value in dftest[4].items():\n",
    "    dfoutput['Critical Value (%s)'%key] = value\n",
    "print (dfoutput)"
   ]
  },
  {
   "cell_type": "markdown",
   "metadata": {},
   "source": [
    "ARIMA (Auto-Regressive-Integrated-Moving-Average).\n",
    "\n",
    "Уравнение прогнозирования ARIMA для стационарного временного ряда является линейным (то есть регрессионным), предсказатели состоят из лагов зависимой переменной и/или лагов ошибок прогноза. \n",
    "\n",
    "То есть:\n",
    "Прогнозируемое значение Y = константа и/или взвешенная сумма одного или нескольких последних значений Y и/или взвешенной суммы одного или нескольких последних значений ошибок."
   ]
  },
  {
   "cell_type": "code",
   "execution_count": 8,
   "metadata": {},
   "outputs": [
    {
     "name": "stdout",
     "output_type": "stream",
     "text": [
      "(0, 1, 0) -2663.02690605\n",
      "(0, 1, 1) -2676.8099153774815\n",
      "(0, 1, 2) -2675.1456084534207\n",
      "(1, 1, 0) -2675.872186299441\n",
      "(1, 1, 1) -2675.2241502253996\n",
      "(2, 1, 0) -2674.8062755548385\n",
      "(2, 1, 1) -2673.253312406549\n",
      "(2, 1, 2) -2671.0388659768246\n",
      "Best Model is : (0, 1, 1)\n"
     ]
    },
    {
     "name": "stderr",
     "output_type": "stream",
     "text": [
      "/home/jacob/anaconda3/lib/python3.6/site-packages/statsmodels/base/model.py:473: HessianInversionWarning: Inverting hessian failed, no bse or cov_params available\n",
      "  'available', HessianInversionWarning)\n"
     ]
    }
   ],
   "source": [
    "ararray = (timeseries.logTS.dropna().as_matrix())\n",
    "p=0\n",
    "q=0\n",
    "d=1\n",
    "pdq=[]\n",
    "aic=[]\n",
    "\n",
    "for p in range(3):\n",
    "    for q in range(3):\n",
    "        try:\n",
    "            model = ARIMA(ararray, (p,d,q)).fit()\n",
    "            x = model.aic\n",
    "            x1 = (p,d,q)\n",
    "            print (x1, x)\n",
    "            aic.append(x)\n",
    "            pdq.append(x1)\n",
    "        except:\n",
    "            pass\n",
    "            \n",
    "keys = pdq\n",
    "values = aic\n",
    "d = dict(zip(keys, values))\n",
    "minaic=min(d, key=d.get)\n",
    "\n",
    "for i in range(3):\n",
    "    p=minaic[0]\n",
    "    d=minaic[1]\n",
    "    q=minaic[2]\n",
    "print (\"Best Model is :\", (p,d,q))\n",
    "ARIMIAmod = ARIMA(ararray, (p,d,q)).fit()"
   ]
  },
  {
   "cell_type": "code",
   "execution_count": 9,
   "metadata": {},
   "outputs": [
    {
     "name": "stdout",
     "output_type": "stream",
     "text": [
      "1 Steps Ahead Forecast  is: [ 2300.65966898]\n",
      "1 Steps Ahead 95 percent CI is: [ 2141.48760155  2471.66264639]\n"
     ]
    }
   ],
   "source": [
    "numofsteps = 1\n",
    "stepahead = ARIMIAmod.forecast(numofsteps)[0]\n",
    "ferrors = ARIMIAmod.forecast(numofsteps)[2]\n",
    "ferrors\n",
    "\n",
    "print ('%s Steps Ahead Forecast  is:' % numofsteps, np.exp(stepahead))\n",
    "print ('%s Steps Ahead 95 percent CI is:' % numofsteps, np.exp(ferrors[0])) #доверительный интервал для сделки\n"
   ]
  },
  {
   "cell_type": "code",
   "execution_count": 10,
   "metadata": {},
   "outputs": [
    {
     "data": {
      "text/html": [
       "<div>\n",
       "<style>\n",
       "    .dataframe thead tr:only-child th {\n",
       "        text-align: right;\n",
       "    }\n",
       "\n",
       "    .dataframe thead th {\n",
       "        text-align: left;\n",
       "    }\n",
       "\n",
       "    .dataframe tbody tr th {\n",
       "        vertical-align: top;\n",
       "    }\n",
       "</style>\n",
       "<table border=\"1\" class=\"dataframe\">\n",
       "  <thead>\n",
       "    <tr style=\"text-align: right;\">\n",
       "      <th></th>\n",
       "      <th>date_time</th>\n",
       "      <th>close</th>\n",
       "      <th>volume</th>\n",
       "    </tr>\n",
       "    <tr>\n",
       "      <th>#</th>\n",
       "      <th></th>\n",
       "      <th></th>\n",
       "      <th></th>\n",
       "    </tr>\n",
       "  </thead>\n",
       "  <tbody>\n",
       "    <tr>\n",
       "      <th>709</th>\n",
       "      <td>2017-07-09 07:00:00.000000</td>\n",
       "      <td>2473.114739</td>\n",
       "      <td>1.449431e+07</td>\n",
       "    </tr>\n",
       "    <tr>\n",
       "      <th>710</th>\n",
       "      <td>2017-07-10 07:00:00.000000</td>\n",
       "      <td>2316.000000</td>\n",
       "      <td>4.587192e+07</td>\n",
       "    </tr>\n",
       "    <tr>\n",
       "      <th>711</th>\n",
       "      <td>2017-07-11 07:00:00.000000</td>\n",
       "      <td>2283.995523</td>\n",
       "      <td>5.741912e+07</td>\n",
       "    </tr>\n",
       "    <tr>\n",
       "      <th>712</th>\n",
       "      <td>2017-07-12 07:00:00.000000</td>\n",
       "      <td>2375.925000</td>\n",
       "      <td>4.011239e+07</td>\n",
       "    </tr>\n",
       "    <tr>\n",
       "      <th>713</th>\n",
       "      <td>2017-07-13 07:00:00.000000</td>\n",
       "      <td>2336.010066</td>\n",
       "      <td>1.062421e+07</td>\n",
       "    </tr>\n",
       "  </tbody>\n",
       "</table>\n",
       "</div>"
      ],
      "text/plain": [
       "                      date_time        close        volume\n",
       "#                                                         \n",
       "709  2017-07-09 07:00:00.000000  2473.114739  1.449431e+07\n",
       "710  2017-07-10 07:00:00.000000  2316.000000  4.587192e+07\n",
       "711  2017-07-11 07:00:00.000000  2283.995523  5.741912e+07\n",
       "712  2017-07-12 07:00:00.000000  2375.925000  4.011239e+07\n",
       "713  2017-07-13 07:00:00.000000  2336.010066  1.062421e+07"
      ]
     },
     "execution_count": 10,
     "metadata": {},
     "output_type": "execute_result"
    }
   ],
   "source": [
    "df[['date_time','close', 'volume']].tail()"
   ]
  },
  {
   "cell_type": "code",
   "execution_count": 11,
   "metadata": {},
   "outputs": [
    {
     "data": {
      "text/html": [
       "<div>\n",
       "<style>\n",
       "    .dataframe thead tr:only-child th {\n",
       "        text-align: right;\n",
       "    }\n",
       "\n",
       "    .dataframe thead th {\n",
       "        text-align: left;\n",
       "    }\n",
       "\n",
       "    .dataframe tbody tr th {\n",
       "        vertical-align: top;\n",
       "    }\n",
       "</style>\n",
       "<table border=\"1\" class=\"dataframe\">\n",
       "  <thead>\n",
       "    <tr style=\"text-align: right;\">\n",
       "      <th></th>\n",
       "      <th>date_time</th>\n",
       "      <th>close</th>\n",
       "      <th>volume</th>\n",
       "      <th>TSClose</th>\n",
       "      <th>logTS</th>\n",
       "      <th>diflogTS</th>\n",
       "    </tr>\n",
       "    <tr>\n",
       "      <th>#</th>\n",
       "      <th></th>\n",
       "      <th></th>\n",
       "      <th></th>\n",
       "      <th></th>\n",
       "      <th></th>\n",
       "      <th></th>\n",
       "    </tr>\n",
       "  </thead>\n",
       "  <tbody>\n",
       "    <tr>\n",
       "      <th>707</th>\n",
       "      <td>2017-07-07 07:00:00.000000</td>\n",
       "      <td>2477.000000</td>\n",
       "      <td>3.032787e+07</td>\n",
       "      <td>2477.000000</td>\n",
       "      <td>7.814803</td>\n",
       "      <td>-0.028760</td>\n",
       "    </tr>\n",
       "    <tr>\n",
       "      <th>708</th>\n",
       "      <td>2017-07-08 07:00:00.000000</td>\n",
       "      <td>2549.272532</td>\n",
       "      <td>2.205981e+07</td>\n",
       "      <td>2549.272532</td>\n",
       "      <td>7.843563</td>\n",
       "      <td>0.030330</td>\n",
       "    </tr>\n",
       "    <tr>\n",
       "      <th>709</th>\n",
       "      <td>2017-07-09 07:00:00.000000</td>\n",
       "      <td>2473.114739</td>\n",
       "      <td>1.449431e+07</td>\n",
       "      <td>2473.114739</td>\n",
       "      <td>7.813234</td>\n",
       "      <td>0.065637</td>\n",
       "    </tr>\n",
       "    <tr>\n",
       "      <th>710</th>\n",
       "      <td>2017-07-10 07:00:00.000000</td>\n",
       "      <td>2316.000000</td>\n",
       "      <td>4.587192e+07</td>\n",
       "      <td>2316.000000</td>\n",
       "      <td>7.747597</td>\n",
       "      <td>0.013915</td>\n",
       "    </tr>\n",
       "    <tr>\n",
       "      <th>711</th>\n",
       "      <td>2017-07-11 07:00:00.000000</td>\n",
       "      <td>2283.995523</td>\n",
       "      <td>5.741912e+07</td>\n",
       "      <td>2283.995523</td>\n",
       "      <td>7.733682</td>\n",
       "      <td>-0.039461</td>\n",
       "    </tr>\n",
       "  </tbody>\n",
       "</table>\n",
       "</div>"
      ],
      "text/plain": [
       "                      date_time        close        volume      TSClose  \\\n",
       "#                                                                         \n",
       "707  2017-07-07 07:00:00.000000  2477.000000  3.032787e+07  2477.000000   \n",
       "708  2017-07-08 07:00:00.000000  2549.272532  2.205981e+07  2549.272532   \n",
       "709  2017-07-09 07:00:00.000000  2473.114739  1.449431e+07  2473.114739   \n",
       "710  2017-07-10 07:00:00.000000  2316.000000  4.587192e+07  2316.000000   \n",
       "711  2017-07-11 07:00:00.000000  2283.995523  5.741912e+07  2283.995523   \n",
       "\n",
       "        logTS  diflogTS  \n",
       "#                        \n",
       "707  7.814803 -0.028760  \n",
       "708  7.843563  0.030330  \n",
       "709  7.813234  0.065637  \n",
       "710  7.747597  0.013915  \n",
       "711  7.733682 -0.039461  "
      ]
     },
     "execution_count": 11,
     "metadata": {},
     "output_type": "execute_result"
    }
   ],
   "source": [
    "timeseries.tail()"
   ]
  },
  {
   "cell_type": "code",
   "execution_count": 12,
   "metadata": {},
   "outputs": [
    {
     "name": "stdout",
     "output_type": "stream",
     "text": [
      "4 Steps Ahead Forecast  is: [ 2300.65966898  2307.47621885  2314.31296525  2321.16996803]\n",
      "4 Steps Ahead 95 percent CI is: [ 2141.48760155  2471.66264639]\n"
     ]
    }
   ],
   "source": [
    "numofsteps = 4\n",
    "stepahead = ARIMIAmod.forecast(numofsteps)[0]\n",
    "ferrors = ARIMIAmod.forecast(numofsteps)[2]\n",
    "ferrors\n",
    "\n",
    "print ('%s Steps Ahead Forecast  is:' % numofsteps, np.exp(stepahead))\n",
    "print ('%s Steps Ahead 95 percent CI is:' % numofsteps, np.exp(ferrors[0])) #доверительный интервал для сделки\n"
   ]
  }
 ],
 "metadata": {
  "kernelspec": {
   "display_name": "Python 3",
   "language": "python",
   "name": "python3"
  },
  "language_info": {
   "codemirror_mode": {
    "name": "ipython",
    "version": 3
   },
   "file_extension": ".py",
   "mimetype": "text/x-python",
   "name": "python",
   "nbconvert_exporter": "python",
   "pygments_lexer": "ipython3",
   "version": "3.6.1"
  }
 },
 "nbformat": 4,
 "nbformat_minor": 2
}
