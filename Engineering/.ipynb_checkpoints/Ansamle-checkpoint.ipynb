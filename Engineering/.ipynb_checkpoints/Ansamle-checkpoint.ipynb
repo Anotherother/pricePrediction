{
 "cells": [
  {
   "cell_type": "code",
   "execution_count": 70,
   "metadata": {
    "collapsed": true
   },
   "outputs": [],
   "source": [
    "import get_data as get_data\n",
    "import load_data as load\n",
    "\n",
    "import pandas as pd\n",
    "import seaborn as sns\n",
    "from pylab import rcParams\n",
    "import numpy as np\n",
    "import matplotlib.pyplot as plt\n",
    "\n",
    "%matplotlib inline\n",
    "\n",
    "sns.set(style='whitegrid', palette='muted', font_scale=1.5)\n",
    "\n",
    "rcParams['figure.figsize'] = 14, 8"
   ]
  },
  {
   "cell_type": "code",
   "execution_count": 71,
   "metadata": {},
   "outputs": [],
   "source": [
    "data = pd.read_csv('./data_research/dump_for_Jakob.csv', names=\\\n",
    "                   ['exchange', 'pair', 'model', 'prediction_close', 'prediction_trend',\n",
    "                   'prediction_percentage_trend', 'date', 'real_close', 'real_trend',\n",
    "                   'real_percentage_trend', 'close_diff', 'trend_diff',\n",
    "                   'trend_percentage_diff', 'percentage_diff',\n",
    "                   'prediction_close_on_precentage'])\n",
    "\n",
    "frame = data[['date', 'prediction_close', 'real_close', 'model', 'pair', 'prediction_trend']]\n",
    "frame = frame.dropna()\n",
    "frame = frame.reset_index()\n",
    "frame = frame.dropna()[['prediction_close','real_close', 'date','pair' ,'model','prediction_trend']]"
   ]
  },
  {
   "cell_type": "code",
   "execution_count": 72,
   "metadata": {
    "collapsed": true
   },
   "outputs": [],
   "source": [
    "LSTMCloseFeature = frame[frame.model == 'LSTMCloseFeature'].copy()\n",
    "LSTM5Features = frame[frame.model == 'LSTM5Features'].copy()\n",
    "LSTMHighLow  = frame[frame.model == 'LSTMHighLow'].copy()\n",
    "LSTMHighLowRaw = frame[frame.model == 'LSTMHighLowRaw'].copy()\n",
    "Atr14Moment20 = frame[frame.model == 'Atr14Moment20'].copy()\n",
    "Atr14Moment20LowHigh = frame[frame.model == 'Atr14Moment20LowHigh'].copy()\n",
    "Macd_12_26_9stoch_d_14_3roc_14 = frame[frame.model == 'Macd_12_26_9stoch_d_14_3roc_14'].copy()\n",
    "Moment_20ema_rel_diff_10ma_rel_diff_50 = frame[frame.model == 'Moment_20ema_rel_diff_10ma_rel_diff_50'].copy()\n",
    "Roc_14moment_20ema_rel_diff_10 = frame[frame.model == 'Roc_14moment_20ema_rel_diff_10'].copy()"
   ]
  },
  {
   "cell_type": "code",
   "execution_count": 75,
   "metadata": {},
   "outputs": [
    {
     "name": "stdout",
     "output_type": "stream",
     "text": [
      "number model:  4\n",
      "[4 1 4 3 4 4 4 4 2 0 0 2 4 4 4 4 4 2 0]\n",
      "probability:  [ 100.   25.  100.   75.  100.  100.  100.  100.   50.    0.    0.   50.\n",
      "  100.  100.  100.  100.  100.   50.    0.] %\n",
      "VOTE:  [ 1.  0.  1.  1.  1.  1.  1.  1.  0.  0.  0.  0.  1.  1.  1.  1.  1.  0.\n",
      "  0.]\n",
      "[1 1 1 1 0 1 1 0 1 1 1 0 0 1 1 0 1 1 0]\n"
     ]
    },
    {
     "data": {
      "text/plain": [
       "52.631578947368418"
      ]
     },
     "execution_count": 75,
     "metadata": {},
     "output_type": "execute_result"
    }
   ],
   "source": [
    "model_names = [\n",
    "#    LSTMCloseFeature,\n",
    " #   LSTM5Features,\n",
    "  #  LSTMHighLow,\n",
    "   # LSTMHighLowRaw,\n",
    "    Atr14Moment20,######!!!!!\n",
    "    Atr14Moment20LowHigh,#######!!!!!\n",
    "    Macd_12_26_9stoch_d_14_3roc_14,######\n",
    "    Moment_20ema_rel_diff_10ma_rel_diff_50,\n",
    "    Roc_14moment_20ema_rel_diff_10\n",
    "\n",
    "]\n",
    "model_results = []\n",
    "\n",
    "for model in model_names:\n",
    "    pr_model = pd.DataFrame()\n",
    "    for i in frame.pair.unique():\n",
    "        a =  model[model.pair == i].copy()\n",
    "        a ['pr_label'] = (a ['prediction_close'] > a['prediction_close'].shift(-1)).astype('int') \n",
    "        a['real_label'] = (a['real_close'] > a['real_close'].shift(-1)).astype('int')  \n",
    "        pr_model =pr_model.append(a.copy())\n",
    "    model_results.append(pr_model.reset_index()) \n",
    "    \n",
    "    \n",
    "for i in range(len(model_names)):\n",
    "    model_names[i] = model_results[i]\n",
    "\n",
    "result_voting = []\n",
    "res_close = []\n",
    "for j in ['USDT_BTC']: # Когда будут предсказания для всех типов рынка - не только для BTC\n",
    "                       # добавляем через frame.pair.unique()\n",
    "    a = 0  \n",
    "    z = 0\n",
    "    for i in range(len(model_names)):\n",
    "        a+= model_names[i][model_names[i].pair == j].pr_label.values.reshape(-1,1)\n",
    "       \n",
    "        z += model_names[i][model_names[i].pair == j].prediction_close.shift(-1).values.reshape(-1,1) \n",
    "        #z += model_names[i][model_names[i].pair == j].prediction_trend.values.reshape(-1,1)\n",
    "\n",
    "    result_voting.append(a)\n",
    "    res_close.append(z)\n",
    "\n",
    "result_voting = np.array(result_voting).reshape(-1,)\n",
    "\n",
    "probability = np.array(result_voting / len(model_names))\n",
    "VOTING = np.round(probability)\n",
    "\n",
    "TRUE_LABELS  = model_names[0][model_names[0].pair == \"USDT_BTC\"].real_label.values\n",
    "print ('number model: ', len(model_names))\n",
    "print (result_voting)\n",
    "print ('probability: ' , probability*100, '%')\n",
    "print ('VOTE: ' ,VOTING)\n",
    "print (TRUE_LABELS)\n",
    "\n",
    "np.array(VOTING == TRUE_LABELS).astype('int').sum()/VOTING.shape[0] *100"
   ]
  },
  {
   "cell_type": "code",
   "execution_count": 76,
   "metadata": {},
   "outputs": [
    {
     "name": "stdout",
     "output_type": "stream",
     "text": [
      "              model   quality\n",
      "0  LSTMCloseFeature  0.536842\n",
      "           model   quality\n",
      "0  LSTM5Features  0.612903\n",
      "         model   quality\n",
      "0  LSTMHighLow  0.516129\n",
      "            model   quality\n",
      "0  LSTMHighLowRaw  0.526882\n"
     ]
    }
   ],
   "source": [
    "quality = pd.DataFrame({'model': [], 'quality': []})\n",
    "\n",
    "for i in range(len(model_results)):\n",
    "\n",
    "    quality_m = (model_results[i].real_label == model_results[i].pr_label)\\\n",
    "                .astype('int').sum()/model_results[i].shape[0]\n",
    "        \n",
    "    name_m = list(model_results[i].model.unique())\n",
    "    print (pd.DataFrame(data = {'model': name_m, 'quality':quality_m }))\n",
    "    quality = quality.append (pd.DataFrame(data = {'model': name_m, 'quality':quality_m }))"
   ]
  },
  {
   "cell_type": "code",
   "execution_count": null,
   "metadata": {
    "collapsed": true
   },
   "outputs": [],
   "source": [
    "quality.quality.sum()"
   ]
  },
  {
   "cell_type": "code",
   "execution_count": null,
   "metadata": {
    "collapsed": true
   },
   "outputs": [],
   "source": [
    "plt.plot(np.array(res_close).reshape(-1,)/4)\n",
    "model_names[0][model_names[0].pair == 'USDT_BTC'].real_close.plot()"
   ]
  }
 ],
 "metadata": {
  "kernelspec": {
   "display_name": "Python 3",
   "language": "python",
   "name": "python3"
  },
  "language_info": {
   "codemirror_mode": {
    "name": "ipython",
    "version": 3
   },
   "file_extension": ".py",
   "mimetype": "text/x-python",
   "name": "python",
   "nbconvert_exporter": "python",
   "pygments_lexer": "ipython3",
   "version": "3.6.1"
  }
 },
 "nbformat": 4,
 "nbformat_minor": 2
}
