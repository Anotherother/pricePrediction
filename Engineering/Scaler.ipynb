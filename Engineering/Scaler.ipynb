{
 "cells": [
  {
   "cell_type": "code",
   "execution_count": 1,
   "metadata": {},
   "outputs": [
    {
     "name": "stderr",
     "output_type": "stream",
     "text": [
      "Using TensorFlow backend.\n"
     ]
    },
    {
     "name": "stdout",
     "output_type": "stream",
     "text": [
      "Couldn't import dot_parser, loading of dot files will not be possible.\n"
     ]
    },
    {
     "data": {
      "text/html": [
       "<script>requirejs.config({paths: { 'plotly': ['https://cdn.plot.ly/plotly-latest.min']},});if(!window.Plotly) {{require(['plotly'],function(plotly) {window.Plotly=plotly;});}}</script>"
      ],
      "text/vnd.plotly.v1+html": [
       "<script>requirejs.config({paths: { 'plotly': ['https://cdn.plot.ly/plotly-latest.min']},});if(!window.Plotly) {{require(['plotly'],function(plotly) {window.Plotly=plotly;});}}</script>"
      ]
     },
     "metadata": {},
     "output_type": "display_data"
    }
   ],
   "source": [
    "import get_data as get_data\n",
    "import load_data as load\n",
    "import numpy as np\n",
    "from sklearn.preprocessing import MinMaxScaler\n",
    "import pandas as pd\n",
    "import datetime \n",
    "\n",
    "from keras.callbacks import History \n",
    "from keras.layers.core import Dense, Activation, Dropout\n",
    "from keras.layers.recurrent import LSTM\n",
    "from keras.models import Sequential, load_model, save_model\n",
    "from keras import backend as K \n",
    "\n",
    "import time\n",
    "from sklearn import metrics\n",
    "\n",
    "import matplotlib.pyplot as plt\n",
    "import seaborn as sns\n",
    "from pylab import rcParams\n",
    "\n",
    "%matplotlib inline\n",
    "\n",
    "sns.set(style='whitegrid', palette='muted', font_scale=1.5)\n",
    "rcParams['figure.figsize'] = 14, 8\n",
    "\n",
    "\n",
    "import plotly as py\n",
    "import plotly.graph_objs as go\n",
    "from plotly.offline import init_notebook_mode, iplot\n",
    "\n",
    "init_notebook_mode(connected=True)\n",
    "\n",
    "WINDOW = 22\n"
   ]
  },
  {
   "cell_type": "code",
   "execution_count": 2,
   "metadata": {
    "collapsed": true
   },
   "outputs": [],
   "source": [
    "data = pd.read_csv('./data_research/recount_data.csv')"
   ]
  },
  {
   "cell_type": "code",
   "execution_count": 4,
   "metadata": {},
   "outputs": [
    {
     "data": {
      "text/plain": [
       "Index(['exchange', 'pair', 'model', 'prediction_close', 'prediction_trend',\n",
       "       'prediction_percentage_trend', 'date', 'real_close', 'real_trend',\n",
       "       'real_percentage_trend', 'close_diff', 'trend_diff',\n",
       "       'trend_percentage_diff', 'percentage_diff',\n",
       "       'prediction_close_on_precentage'],\n",
       "      dtype='object')"
      ]
     },
     "execution_count": 4,
     "metadata": {},
     "output_type": "execute_result"
    }
   ],
   "source": [
    "data.columns\n"
   ]
  },
  {
   "cell_type": "code",
   "execution_count": 12,
   "metadata": {},
   "outputs": [],
   "source": [
    "frame = data[['date', 'prediction_close', 'real_close','prediction_trend','real_trend',\n",
    "       'prediction_percentage_trend',  \n",
    "       'real_percentage_trend' ]]"
   ]
  },
  {
   "cell_type": "code",
   "execution_count": 13,
   "metadata": {},
   "outputs": [
    {
     "data": {
      "text/html": [
       "<div>\n",
       "<style>\n",
       "    .dataframe thead tr:only-child th {\n",
       "        text-align: right;\n",
       "    }\n",
       "\n",
       "    .dataframe thead th {\n",
       "        text-align: left;\n",
       "    }\n",
       "\n",
       "    .dataframe tbody tr th {\n",
       "        vertical-align: top;\n",
       "    }\n",
       "</style>\n",
       "<table border=\"1\" class=\"dataframe\">\n",
       "  <thead>\n",
       "    <tr style=\"text-align: right;\">\n",
       "      <th></th>\n",
       "      <th>date</th>\n",
       "      <th>prediction_close</th>\n",
       "      <th>real_close</th>\n",
       "      <th>prediction_trend</th>\n",
       "      <th>real_trend</th>\n",
       "      <th>prediction_percentage_trend</th>\n",
       "      <th>real_percentage_trend</th>\n",
       "    </tr>\n",
       "  </thead>\n",
       "  <tbody>\n",
       "    <tr>\n",
       "      <th>0</th>\n",
       "      <td>2017-08-07</td>\n",
       "      <td>2813.034912</td>\n",
       "      <td>NaN</td>\n",
       "      <td>100.770996</td>\n",
       "      <td>NaN</td>\n",
       "      <td>3.715383</td>\n",
       "      <td>NaN</td>\n",
       "    </tr>\n",
       "    <tr>\n",
       "      <th>1</th>\n",
       "      <td>2017-08-06</td>\n",
       "      <td>2712.263916</td>\n",
       "      <td>3229.000000</td>\n",
       "      <td>105.269043</td>\n",
       "      <td>-27.536656</td>\n",
       "      <td>4.037946</td>\n",
       "      <td>-0.845581</td>\n",
       "    </tr>\n",
       "    <tr>\n",
       "      <th>2</th>\n",
       "      <td>2017-08-05</td>\n",
       "      <td>2606.994873</td>\n",
       "      <td>3256.536656</td>\n",
       "      <td>-14.516357</td>\n",
       "      <td>393.526657</td>\n",
       "      <td>-0.553740</td>\n",
       "      <td>13.745207</td>\n",
       "    </tr>\n",
       "    <tr>\n",
       "      <th>3</th>\n",
       "      <td>2017-08-04</td>\n",
       "      <td>2621.511230</td>\n",
       "      <td>2863.009999</td>\n",
       "      <td>-13.585693</td>\n",
       "      <td>68.119999</td>\n",
       "      <td>-0.515567</td>\n",
       "      <td>2.437305</td>\n",
       "    </tr>\n",
       "    <tr>\n",
       "      <th>4</th>\n",
       "      <td>2017-08-03</td>\n",
       "      <td>2635.096924</td>\n",
       "      <td>2794.890000</td>\n",
       "      <td>-16.734131</td>\n",
       "      <td>95.890000</td>\n",
       "      <td>-0.631041</td>\n",
       "      <td>3.552797</td>\n",
       "    </tr>\n",
       "    <tr>\n",
       "      <th>5</th>\n",
       "      <td>2017-08-02</td>\n",
       "      <td>2651.831055</td>\n",
       "      <td>2699.000000</td>\n",
       "      <td>-13.101562</td>\n",
       "      <td>-37.482685</td>\n",
       "      <td>-0.491628</td>\n",
       "      <td>-1.369740</td>\n",
       "    </tr>\n",
       "    <tr>\n",
       "      <th>6</th>\n",
       "      <td>2017-08-01</td>\n",
       "      <td>2664.932617</td>\n",
       "      <td>2736.482685</td>\n",
       "      <td>8.259277</td>\n",
       "      <td>-118.517315</td>\n",
       "      <td>0.310888</td>\n",
       "      <td>-4.151219</td>\n",
       "    </tr>\n",
       "    <tr>\n",
       "      <th>7</th>\n",
       "      <td>2017-07-31</td>\n",
       "      <td>2656.673340</td>\n",
       "      <td>2855.000000</td>\n",
       "      <td>19.948975</td>\n",
       "      <td>102.000000</td>\n",
       "      <td>0.756582</td>\n",
       "      <td>3.705049</td>\n",
       "    </tr>\n",
       "    <tr>\n",
       "      <th>8</th>\n",
       "      <td>2017-07-30</td>\n",
       "      <td>2636.724365</td>\n",
       "      <td>2753.000000</td>\n",
       "      <td>26.781494</td>\n",
       "      <td>34.000000</td>\n",
       "      <td>1.026133</td>\n",
       "      <td>1.250460</td>\n",
       "    </tr>\n",
       "    <tr>\n",
       "      <th>9</th>\n",
       "      <td>2017-07-29</td>\n",
       "      <td>2609.942871</td>\n",
       "      <td>2719.000000</td>\n",
       "      <td>10.716064</td>\n",
       "      <td>-70.981200</td>\n",
       "      <td>0.412279</td>\n",
       "      <td>-2.544146</td>\n",
       "    </tr>\n",
       "    <tr>\n",
       "      <th>10</th>\n",
       "      <td>2017-07-28</td>\n",
       "      <td>2599.226807</td>\n",
       "      <td>2789.981200</td>\n",
       "      <td>21.196289</td>\n",
       "      <td>119.981202</td>\n",
       "      <td>0.822189</td>\n",
       "      <td>4.493678</td>\n",
       "    </tr>\n",
       "    <tr>\n",
       "      <th>11</th>\n",
       "      <td>2017-07-27</td>\n",
       "      <td>2578.030518</td>\n",
       "      <td>2669.999998</td>\n",
       "      <td>12.927246</td>\n",
       "      <td>143.649351</td>\n",
       "      <td>0.503966</td>\n",
       "      <td>5.686042</td>\n",
       "    </tr>\n",
       "    <tr>\n",
       "      <th>12</th>\n",
       "      <td>2017-07-26</td>\n",
       "      <td>2565.103271</td>\n",
       "      <td>2526.350647</td>\n",
       "      <td>-1.108643</td>\n",
       "      <td>-39.649353</td>\n",
       "      <td>-0.043202</td>\n",
       "      <td>-1.545181</td>\n",
       "    </tr>\n",
       "  </tbody>\n",
       "</table>\n",
       "</div>"
      ],
      "text/plain": [
       "          date  prediction_close   real_close  prediction_trend  real_trend  \\\n",
       "0   2017-08-07       2813.034912          NaN        100.770996         NaN   \n",
       "1   2017-08-06       2712.263916  3229.000000        105.269043  -27.536656   \n",
       "2   2017-08-05       2606.994873  3256.536656        -14.516357  393.526657   \n",
       "3   2017-08-04       2621.511230  2863.009999        -13.585693   68.119999   \n",
       "4   2017-08-03       2635.096924  2794.890000        -16.734131   95.890000   \n",
       "5   2017-08-02       2651.831055  2699.000000        -13.101562  -37.482685   \n",
       "6   2017-08-01       2664.932617  2736.482685          8.259277 -118.517315   \n",
       "7   2017-07-31       2656.673340  2855.000000         19.948975  102.000000   \n",
       "8   2017-07-30       2636.724365  2753.000000         26.781494   34.000000   \n",
       "9   2017-07-29       2609.942871  2719.000000         10.716064  -70.981200   \n",
       "10  2017-07-28       2599.226807  2789.981200         21.196289  119.981202   \n",
       "11  2017-07-27       2578.030518  2669.999998         12.927246  143.649351   \n",
       "12  2017-07-26       2565.103271  2526.350647         -1.108643  -39.649353   \n",
       "\n",
       "    prediction_percentage_trend  real_percentage_trend  \n",
       "0                      3.715383                    NaN  \n",
       "1                      4.037946              -0.845581  \n",
       "2                     -0.553740              13.745207  \n",
       "3                     -0.515567               2.437305  \n",
       "4                     -0.631041               3.552797  \n",
       "5                     -0.491628              -1.369740  \n",
       "6                      0.310888              -4.151219  \n",
       "7                      0.756582               3.705049  \n",
       "8                      1.026133               1.250460  \n",
       "9                      0.412279              -2.544146  \n",
       "10                     0.822189               4.493678  \n",
       "11                     0.503966               5.686042  \n",
       "12                    -0.043202              -1.545181  "
      ]
     },
     "execution_count": 13,
     "metadata": {},
     "output_type": "execute_result"
    }
   ],
   "source": [
    "frame"
   ]
  },
  {
   "cell_type": "code",
   "execution_count": 59,
   "metadata": {},
   "outputs": [],
   "source": [
    "K = (frame.real_close.shift(-1) / frame.prediction_close.shift(-1)) # K\n",
    "\n",
    "perc_K = K * frame.prediction_percentage_trend / 100\n",
    "\n",
    "predicition = perc_K * frame.real_close.shift(-1) + frame.real_close.shift(-1)\n",
    "\n",
    "frame['pred_scaled'] = predicition\n",
    "\n",
    "a = frame[['date', 'prediction_close', 'real_close', 'pred_scaled']]"
   ]
  },
  {
   "cell_type": "code",
   "execution_count": 56,
   "metadata": {},
   "outputs": [
    {
     "data": {
      "image/png": "[encoded data removed]",
      "text/plain": [
       "<matplotlib.figure.Figure at 0x7f36458c5208>"
      ]
     },
     "metadata": {},
     "output_type": "display_data"
    }
   ],
   "source": [
    "frame[['pred_scaled']].plot(color = 'red')\n",
    "frame['real_close'].plot(color = 'blue')\n",
    "plt.show()"
   ]
  },
  {
   "cell_type": "code",
   "execution_count": 68,
   "metadata": {},
   "outputs": [
    {
     "data": {
      "text/html": [
       "<div>\n",
       "<style>\n",
       "    .dataframe thead tr:only-child th {\n",
       "        text-align: right;\n",
       "    }\n",
       "\n",
       "    .dataframe thead th {\n",
       "        text-align: left;\n",
       "    }\n",
       "\n",
       "    .dataframe tbody tr th {\n",
       "        vertical-align: top;\n",
       "    }\n",
       "</style>\n",
       "<table border=\"1\" class=\"dataframe\">\n",
       "  <thead>\n",
       "    <tr style=\"text-align: right;\">\n",
       "      <th></th>\n",
       "      <th>prediction_close</th>\n",
       "      <th>real_close</th>\n",
       "    </tr>\n",
       "  </thead>\n",
       "  <tbody>\n",
       "    <tr>\n",
       "      <th>0</th>\n",
       "      <td>2813.034912</td>\n",
       "      <td>NaN</td>\n",
       "    </tr>\n",
       "    <tr>\n",
       "      <th>1</th>\n",
       "      <td>2712.263916</td>\n",
       "      <td>3229.000000</td>\n",
       "    </tr>\n",
       "    <tr>\n",
       "      <th>2</th>\n",
       "      <td>2606.994873</td>\n",
       "      <td>3256.536656</td>\n",
       "    </tr>\n",
       "    <tr>\n",
       "      <th>3</th>\n",
       "      <td>2621.511230</td>\n",
       "      <td>2863.009999</td>\n",
       "    </tr>\n",
       "    <tr>\n",
       "      <th>4</th>\n",
       "      <td>2635.096924</td>\n",
       "      <td>2794.890000</td>\n",
       "    </tr>\n",
       "    <tr>\n",
       "      <th>5</th>\n",
       "      <td>2651.831055</td>\n",
       "      <td>2699.000000</td>\n",
       "    </tr>\n",
       "    <tr>\n",
       "      <th>6</th>\n",
       "      <td>2664.932617</td>\n",
       "      <td>2736.482685</td>\n",
       "    </tr>\n",
       "    <tr>\n",
       "      <th>7</th>\n",
       "      <td>2656.673340</td>\n",
       "      <td>2855.000000</td>\n",
       "    </tr>\n",
       "    <tr>\n",
       "      <th>8</th>\n",
       "      <td>2636.724365</td>\n",
       "      <td>2753.000000</td>\n",
       "    </tr>\n",
       "    <tr>\n",
       "      <th>9</th>\n",
       "      <td>2609.942871</td>\n",
       "      <td>2719.000000</td>\n",
       "    </tr>\n",
       "    <tr>\n",
       "      <th>10</th>\n",
       "      <td>2599.226807</td>\n",
       "      <td>2789.981200</td>\n",
       "    </tr>\n",
       "    <tr>\n",
       "      <th>11</th>\n",
       "      <td>2578.030518</td>\n",
       "      <td>2669.999998</td>\n",
       "    </tr>\n",
       "    <tr>\n",
       "      <th>12</th>\n",
       "      <td>2565.103271</td>\n",
       "      <td>2526.350647</td>\n",
       "    </tr>\n",
       "  </tbody>\n",
       "</table>\n",
       "</div>"
      ],
      "text/plain": [
       "    prediction_close   real_close\n",
       "0        2813.034912          NaN\n",
       "1        2712.263916  3229.000000\n",
       "2        2606.994873  3256.536656\n",
       "3        2621.511230  2863.009999\n",
       "4        2635.096924  2794.890000\n",
       "5        2651.831055  2699.000000\n",
       "6        2664.932617  2736.482685\n",
       "7        2656.673340  2855.000000\n",
       "8        2636.724365  2753.000000\n",
       "9        2609.942871  2719.000000\n",
       "10       2599.226807  2789.981200\n",
       "11       2578.030518  2669.999998\n",
       "12       2565.103271  2526.350647"
      ]
     },
     "execution_count": 68,
     "metadata": {},
     "output_type": "execute_result"
    }
   ],
   "source": [
    "frame[['prediction_close', 'real_close']]"
   ]
  },
  {
   "cell_type": "code",
   "execution_count": 91,
   "metadata": {
    "collapsed": true
   },
   "outputs": [],
   "source": [
    "percentage_real_close = (frame.real_close - frame.real_close[frame.last_valid_index()]) \\\n",
    "                            / frame.real_close[frame.last_valid_index()]"
   ]
  },
  {
   "cell_type": "code",
   "execution_count": 92,
   "metadata": {},
   "outputs": [],
   "source": [
    "percentage_pred_close = (frame.prediction_close - frame.prediction_close[frame.last_valid_index()]) \\\n",
    "                            / frame.prediction_close[frame.last_valid_index()]"
   ]
  },
  {
   "cell_type": "code",
   "execution_count": 93,
   "metadata": {},
   "outputs": [
    {
     "data": {
      "text/plain": [
       "0     0.096656\n",
       "1     0.057370\n",
       "2     0.016331\n",
       "3     0.021991\n",
       "4     0.027287\n",
       "5     0.033811\n",
       "6     0.038918\n",
       "7     0.035698\n",
       "8     0.027921\n",
       "9     0.017481\n",
       "10    0.013303\n",
       "11    0.005040\n",
       "12    0.000000\n",
       "Name: prediction_close, dtype: float64"
      ]
     },
     "execution_count": 93,
     "metadata": {},
     "output_type": "execute_result"
    }
   ],
   "source": [
    "percentage_pred_close"
   ]
  },
  {
   "cell_type": "code",
   "execution_count": 102,
   "metadata": {},
   "outputs": [],
   "source": [
    "z = pd.DataFrame()\n",
    "z['percentage_real_close' ] =percentage_real_close\n",
    "z['percentage_pred_close'] = percentage_pred_close"
   ]
  },
  {
   "cell_type": "code",
   "execution_count": 104,
   "metadata": {},
   "outputs": [],
   "source": [
    "z['div_perc'] = z.percentage_real_close/z.percentage_pred_close"
   ]
  },
  {
   "cell_type": "code",
   "execution_count": 109,
   "metadata": {},
   "outputs": [
    {
     "data": {
      "text/plain": [
       "5.583820063998267"
      ]
     },
     "execution_count": 109,
     "metadata": {},
     "output_type": "execute_result"
    }
   ],
   "source": [
    "np.sum(np.abs(z.div_perc))/(z.shape[0]-1)"
   ]
  },
  {
   "cell_type": "code",
   "execution_count": 128,
   "metadata": {
    "collapsed": true
   },
   "outputs": [],
   "source": [
    "z['new_close_perc'] = z.percentage_pred_close * np.min(z.div_perc)"
   ]
  },
  {
   "cell_type": "code",
   "execution_count": 129,
   "metadata": {},
   "outputs": [],
   "source": [
    "z['new_close'] = z['new_close_perc'] * frame.prediction_close[frame.last_valid_index()] +  frame.prediction_close"
   ]
  },
  {
   "cell_type": "code",
   "execution_count": 130,
   "metadata": {},
   "outputs": [],
   "source": [
    "z['real_close'] = frame.real_close"
   ]
  },
  {
   "cell_type": "code",
   "execution_count": 131,
   "metadata": {},
   "outputs": [
    {
     "data": {
      "text/html": [
       "<div>\n",
       "<style>\n",
       "    .dataframe thead tr:only-child th {\n",
       "        text-align: right;\n",
       "    }\n",
       "\n",
       "    .dataframe thead th {\n",
       "        text-align: left;\n",
       "    }\n",
       "\n",
       "    .dataframe tbody tr th {\n",
       "        vertical-align: top;\n",
       "    }\n",
       "</style>\n",
       "<table border=\"1\" class=\"dataframe\">\n",
       "  <thead>\n",
       "    <tr style=\"text-align: right;\">\n",
       "      <th></th>\n",
       "      <th>percentage_real_close</th>\n",
       "      <th>percentage_pred_close</th>\n",
       "      <th>div_perc</th>\n",
       "      <th>new_close</th>\n",
       "      <th>new_close_perc</th>\n",
       "      <th>real_close</th>\n",
       "    </tr>\n",
       "  </thead>\n",
       "  <tbody>\n",
       "    <tr>\n",
       "      <th>0</th>\n",
       "      <td>NaN</td>\n",
       "      <td>0.096656</td>\n",
       "      <td>NaN</td>\n",
       "      <td>3314.164321</td>\n",
       "      <td>0.195364</td>\n",
       "      <td>NaN</td>\n",
       "    </tr>\n",
       "    <tr>\n",
       "      <th>1</th>\n",
       "      <td>0.278128</td>\n",
       "      <td>0.057370</td>\n",
       "      <td>4.847951</td>\n",
       "      <td>3009.710933</td>\n",
       "      <td>0.115959</td>\n",
       "      <td>3229.000000</td>\n",
       "    </tr>\n",
       "    <tr>\n",
       "      <th>2</th>\n",
       "      <td>0.289028</td>\n",
       "      <td>0.016331</td>\n",
       "      <td>17.697738</td>\n",
       "      <td>2691.667864</td>\n",
       "      <td>0.033010</td>\n",
       "      <td>3256.536656</td>\n",
       "    </tr>\n",
       "    <tr>\n",
       "      <th>3</th>\n",
       "      <td>0.133259</td>\n",
       "      <td>0.021991</td>\n",
       "      <td>6.059845</td>\n",
       "      <td>2735.525267</td>\n",
       "      <td>0.044448</td>\n",
       "      <td>2863.009999</td>\n",
       "    </tr>\n",
       "    <tr>\n",
       "      <th>4</th>\n",
       "      <td>0.106295</td>\n",
       "      <td>0.027287</td>\n",
       "      <td>3.895476</td>\n",
       "      <td>2776.570911</td>\n",
       "      <td>0.055153</td>\n",
       "      <td>2794.890000</td>\n",
       "    </tr>\n",
       "    <tr>\n",
       "      <th>5</th>\n",
       "      <td>0.068339</td>\n",
       "      <td>0.033811</td>\n",
       "      <td>2.021240</td>\n",
       "      <td>2827.128740</td>\n",
       "      <td>0.068339</td>\n",
       "      <td>2699.000000</td>\n",
       "    </tr>\n",
       "    <tr>\n",
       "      <th>6</th>\n",
       "      <td>0.083176</td>\n",
       "      <td>0.038918</td>\n",
       "      <td>2.137201</td>\n",
       "      <td>2866.711708</td>\n",
       "      <td>0.078663</td>\n",
       "      <td>2736.482685</td>\n",
       "    </tr>\n",
       "    <tr>\n",
       "      <th>7</th>\n",
       "      <td>0.130089</td>\n",
       "      <td>0.035698</td>\n",
       "      <td>3.644102</td>\n",
       "      <td>2841.758447</td>\n",
       "      <td>0.072155</td>\n",
       "      <td>2855.000000</td>\n",
       "    </tr>\n",
       "    <tr>\n",
       "      <th>8</th>\n",
       "      <td>0.089714</td>\n",
       "      <td>0.027921</td>\n",
       "      <td>3.213104</td>\n",
       "      <td>2781.487802</td>\n",
       "      <td>0.056436</td>\n",
       "      <td>2753.000000</td>\n",
       "    </tr>\n",
       "    <tr>\n",
       "      <th>9</th>\n",
       "      <td>0.076256</td>\n",
       "      <td>0.017481</td>\n",
       "      <td>4.362315</td>\n",
       "      <td>2700.574474</td>\n",
       "      <td>0.035333</td>\n",
       "      <td>2719.000000</td>\n",
       "    </tr>\n",
       "    <tr>\n",
       "      <th>10</th>\n",
       "      <td>0.104352</td>\n",
       "      <td>0.013303</td>\n",
       "      <td>7.844278</td>\n",
       "      <td>2668.198669</td>\n",
       "      <td>0.026889</td>\n",
       "      <td>2789.981200</td>\n",
       "    </tr>\n",
       "    <tr>\n",
       "      <th>11</th>\n",
       "      <td>0.056860</td>\n",
       "      <td>0.005040</td>\n",
       "      <td>11.282592</td>\n",
       "      <td>2604.159588</td>\n",
       "      <td>0.010186</td>\n",
       "      <td>2669.999998</td>\n",
       "    </tr>\n",
       "    <tr>\n",
       "      <th>12</th>\n",
       "      <td>0.000000</td>\n",
       "      <td>0.000000</td>\n",
       "      <td>NaN</td>\n",
       "      <td>2565.103271</td>\n",
       "      <td>0.000000</td>\n",
       "      <td>2526.350647</td>\n",
       "    </tr>\n",
       "  </tbody>\n",
       "</table>\n",
       "</div>"
      ],
      "text/plain": [
       "    percentage_real_close  percentage_pred_close   div_perc    new_close  \\\n",
       "0                     NaN               0.096656        NaN  3314.164321   \n",
       "1                0.278128               0.057370   4.847951  3009.710933   \n",
       "2                0.289028               0.016331  17.697738  2691.667864   \n",
       "3                0.133259               0.021991   6.059845  2735.525267   \n",
       "4                0.106295               0.027287   3.895476  2776.570911   \n",
       "5                0.068339               0.033811   2.021240  2827.128740   \n",
       "6                0.083176               0.038918   2.137201  2866.711708   \n",
       "7                0.130089               0.035698   3.644102  2841.758447   \n",
       "8                0.089714               0.027921   3.213104  2781.487802   \n",
       "9                0.076256               0.017481   4.362315  2700.574474   \n",
       "10               0.104352               0.013303   7.844278  2668.198669   \n",
       "11               0.056860               0.005040  11.282592  2604.159588   \n",
       "12               0.000000               0.000000        NaN  2565.103271   \n",
       "\n",
       "    new_close_perc   real_close  \n",
       "0         0.195364          NaN  \n",
       "1         0.115959  3229.000000  \n",
       "2         0.033010  3256.536656  \n",
       "3         0.044448  2863.009999  \n",
       "4         0.055153  2794.890000  \n",
       "5         0.068339  2699.000000  \n",
       "6         0.078663  2736.482685  \n",
       "7         0.072155  2855.000000  \n",
       "8         0.056436  2753.000000  \n",
       "9         0.035333  2719.000000  \n",
       "10        0.026889  2789.981200  \n",
       "11        0.010186  2669.999998  \n",
       "12        0.000000  2526.350647  "
      ]
     },
     "execution_count": 131,
     "metadata": {},
     "output_type": "execute_result"
    }
   ],
   "source": [
    "z"
   ]
  },
  {
   "cell_type": "code",
   "execution_count": 133,
   "metadata": {},
   "outputs": [
    {
     "data": {
      "text/plain": [
       "<matplotlib.axes._subplots.AxesSubplot at 0x7f36458984e0>"
      ]
     },
     "execution_count": 133,
     "metadata": {},
     "output_type": "execute_result"
    },
    {
     "data": {
      "image/png": "[encoded data removed]",
      "text/plain": [
       "<matplotlib.figure.Figure at 0x7f364590b320>"
      ]
     },
     "metadata": {},
     "output_type": "display_data"
    }
   ],
   "source": [
    "z[['new_close', 'real_close']].plot()"
   ]
  },
  {
   "cell_type": "code",
   "execution_count": null,
   "metadata": {
    "collapsed": true
   },
   "outputs": [],
   "source": []
  }
 ],
 "metadata": {
  "kernelspec": {
   "display_name": "Python 3",
   "language": "python",
   "name": "python3"
  },
  "language_info": {
   "codemirror_mode": {
    "name": "ipython",
    "version": 3
   },
   "file_extension": ".py",
   "mimetype": "text/x-python",
   "name": "python",
   "nbconvert_exporter": "python",
   "pygments_lexer": "ipython3",
   "version": "3.6.1"
  }
 },
 "nbformat": 4,
 "nbformat_minor": 2
}
