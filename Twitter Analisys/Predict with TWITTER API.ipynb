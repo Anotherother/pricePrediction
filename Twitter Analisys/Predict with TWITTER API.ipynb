{
 "cells": [
  {
   "cell_type": "code",
   "execution_count": 2,
   "metadata": {
    "collapsed": true
   },
   "outputs": [],
   "source": [
    "#! pip install tweepy  # install TWITTER API\n"
   ]
  },
  {
   "cell_type": "code",
   "execution_count": 1,
   "metadata": {
    "collapsed": true
   },
   "outputs": [],
   "source": [
    "import tweepy as TW\n",
    "\n",
    "# connect to twitter API\n",
    "\n",
    "CONSUMER_KEY = 'XkmU3czKdJ1jfzUAIWELFC9y8'\n",
    "CONSUMER_SECRET = 'HlxpwfuShIh8OXRGjWgT2h3fD9JMC6HNtQ11N28WFFDzpCUHO0'\n",
    "ACCESS_TOKEN = \t'4826647649-GRcsvzCoPjdTdosCCgYY9zalhBytNbSuVaemIvH'\n",
    "ACCESS_TOKEN_SECRET = '93l4Mh1KLfexPNxwqZ4mtjUhseGWe5xQecS0Sd7YfdCbm'\n",
    "\n",
    "auth =TW.OAuthHandler(CONSUMER_KEY, CONSUMER_SECRET)\n",
    "auth.set_access_token(ACCESS_TOKEN, ACCESS_TOKEN_SECRET)  \n",
    "api = TW.API(auth)"
   ]
  },
  {
   "cell_type": "code",
   "execution_count": 2,
   "metadata": {
    "collapsed": true
   },
   "outputs": [],
   "source": [
    "import pandas as pd\n",
    "\n",
    "data = pd.DataFrame()"
   ]
  },
  {
   "cell_type": "code",
   "execution_count": null,
   "metadata": {
    "collapsed": true
   },
   "outputs": [],
   "source": [
    "searched_tweets = [status for status in TW.Cursor(api.search, q='btc').items(max_tweets)]"
   ]
  },
  {
   "cell_type": "code",
   "execution_count": 43,
   "metadata": {},
   "outputs": [],
   "source": [
    "# Load data in Dataframe with Twitter API\n",
    "import csv\n",
    "csvFile = open('Twiits_bitcoin.csv', 'a')\n",
    "csvWriter = csv.writer(csvFile)\n",
    "\n",
    "#data = {'created_at': [], 'text': []}\n",
    "\n",
    "for tweet in TW.Cursor(api.search, \n",
    "                    q=\"blockchain\",                       \n",
    "                    since=\"2017-06-10\", \n",
    "                    until=\"2017-08-10\", \n",
    "                    lang=\"en\").items(100):   \n",
    "    \n",
    "        csvWriter.writerow([tweet.created_at, tweet.text.encode('utf-8')])\n",
    "        #print ([tweet.text,tweet.created_at])\n",
    "        #data['text'].append( tweet.text)\n",
    "        #data['created_at'].append(tweet.created_at)"
   ]
  },
  {
   "cell_type": "code",
   "execution_count": 41,
   "metadata": {},
   "outputs": [
    {
     "data": {
      "text/plain": [
       "(1989, 2)"
      ]
     },
     "execution_count": 41,
     "metadata": {},
     "output_type": "execute_result"
    }
   ],
   "source": [
    "pd.read_csv('Twiits_bitcoin.csv')"
   ]
  },
  {
   "cell_type": "markdown",
   "metadata": {},
   "source": [
    "Преобразование дат"
   ]
  },
  {
   "cell_type": "code",
   "execution_count": null,
   "metadata": {
    "collapsed": true
   },
   "outputs": [],
   "source": [
    "data1['Date'] = pd.to_datetime(data1['Date'], format=\"%d/%m/%y %H:%M\")"
   ]
  },
  {
   "cell_type": "markdown",
   "metadata": {},
   "source": [
    "Фильтрация символов"
   ]
  },
  {
   "cell_type": "code",
   "execution_count": null,
   "metadata": {
    "collapsed": true
   },
   "outputs": [],
   "source": [
    "#Remove some special characters in the Tweet column \n",
    "\n",
    "data['Tweet'] = data.Tweet.str.replace('\\r\\n','') #Remove the new-line character\n",
    "data['Tweet'] = data.Tweet.str.replace('\\r','') #Remove the tab character\n",
    "data['Tweet'] = data.Tweet.str.replace('\\n','') #Remove the tab character\n",
    "data['Tweet'] = data.Tweet.str.replace('\\,','') #Remove the single quote\n",
    "data['Tweet'] = data.Tweet.str.replace('\\,','') #Remove the comma\n",
    "data['Tweet'] = data.Tweet.str.replace('\\@','') #Remove the @ mark\n",
    "data['Tweet'] = data.Tweet.str.replace('\\\"','') #Remove the double quote\n",
    "data['Tweet'] = data.Tweet.str.replace('\\t','') #Remove the tab character\n",
    "data['Tweet'] = data.Tweet.str.replace('\\#','') #Remove the tab character\n",
    "data['Tweet'] = data.Tweet.str.replace('http\\S+','') #Remove the tab character"
   ]
  },
  {
   "cell_type": "markdown",
   "metadata": {},
   "source": [
    "Удалим смайлы"
   ]
  },
  {
   "cell_type": "code",
   "execution_count": null,
   "metadata": {
    "collapsed": true
   },
   "outputs": [],
   "source": [
    "\n",
    "def remove_emoji(data):\n",
    "    if not data:\n",
    "        return data\n",
    "    if not isinstance(data, basestring):\n",
    "        return data\n",
    "    try:\n",
    "        patt = re.compile(u'([\\U00002600-\\U000027BF])|([\\U0001f300-\\U0001f64F])|([\\U0001f680-\\U0001f6FF])')\n",
    "    except re.error:\n",
    "        patt = re.compile(u'([\\u2600-\\u27BF])|([\\uD83C][\\uDF00-\\uDFFF])|([\\uD83D][\\uDC00-\\uDE4F])|([\\uD83D][\\uDE80-\\uDEFF])')\n",
    "    return patt.sub('', data)"
   ]
  },
  {
   "cell_type": "code",
   "execution_count": null,
   "metadata": {
    "collapsed": true
   },
   "outputs": [],
   "source": [
    "Уд"
   ]
  }
 ],
 "metadata": {
  "kernelspec": {
   "display_name": "Python 3",
   "language": "python",
   "name": "python3"
  },
  "language_info": {
   "codemirror_mode": {
    "name": "ipython",
    "version": 3
   },
   "file_extension": ".py",
   "mimetype": "text/x-python",
   "name": "python",
   "nbconvert_exporter": "python",
   "pygments_lexer": "ipython3",
   "version": "3.6.1"
  }
 },
 "nbformat": 4,
 "nbformat_minor": 2
}
