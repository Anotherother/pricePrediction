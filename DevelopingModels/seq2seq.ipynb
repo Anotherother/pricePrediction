{
 "cells": [
  {
   "cell_type": "code",
   "execution_count": 8,
   "metadata": {},
   "outputs": [
    {
     "data": {
      "text/html": [
       "<script>requirejs.config({paths: { 'plotly': ['https://cdn.plot.ly/plotly-latest.min']},});if(!window.Plotly) {{require(['plotly'],function(plotly) {window.Plotly=plotly;});}}</script>"
      ],
      "text/vnd.plotly.v1+html": [
       "<script>requirejs.config({paths: { 'plotly': ['https://cdn.plot.ly/plotly-latest.min']},});if(!window.Plotly) {{require(['plotly'],function(plotly) {window.Plotly=plotly;});}}</script>"
      ]
     },
     "metadata": {},
     "output_type": "display_data"
    }
   ],
   "source": [
    "# Here we inplement seq2seq architecture LSTM for timeSeries prediction\n",
    "\n"
   ]
  },
  {
   "cell_type": "code",
   "execution_count": null,
   "metadata": {
    "collapsed": true
   },
   "outputs": [],
   "source": [
    "import pandas as pd\n",
    "import numpy as np\n",
    "\n",
    "import keras\n",
    "from scipy import stats\n",
    "from keras.layers.core import Dense, Activation, Dropout\n",
    "from keras.layers.recurrent import LSTM\n",
    "from keras.models import Sequential, load_model, save_model\n",
    "\n",
    "import datetime \n",
    "import seaborn as sns\n",
    "from pylab import rcParams\n",
    "from sklearn.preprocessing import MinMaxScaler\n",
    "from sklearn import metrics\n",
    "import time\n",
    "\n",
    "import plotly as py\n",
    "import plotly.graph_objs as go\n",
    "from plotly.offline import init_notebook_mode, iplot\n",
    "\n",
    "import sqlalchemy\n",
    "\n",
    "init_notebook_mode(connected=True)\n",
    "\n",
    "%matplotlib inline\n",
    "\n",
    "sns.set(style='whitegrid', palette='muted', font_scale=1.5)\n",
    "\n",
    "rcParams['figure.figsize'] = 14, 8\n",
    "\n",
    "RANDOM_SEED = 42\n",
    "\n",
    "WINDOW = 22"
   ]
  },
  {
   "cell_type": "code",
   "execution_count": 4,
   "metadata": {},
   "outputs": [],
   "source": [
    "def connect(user, password, db, host: str, port: int, echo=True):\n",
    "    url = 'postgresql+psycopg2://{}:{}@{}:{}/{}'\n",
    "    url = url.format(user, password, host, port, db)\n",
    "    eng = sqlalchemy.create_engine(url, client_encoding='utf8', echo=echo)\n",
    "    meta = sqlalchemy.MetaData(bind=eng)\n",
    "    return eng, meta\n",
    "\n",
    "def get_data_frame(pair: str = 'USDT_BTC', exchange: str = 'poloniex') -> pd.DataFrame:\n",
    "\n",
    "    engine, meta = connect(user='postgres', password='password', db='btccandles', host='94.230.125.199', port=16432)\n",
    "    df = pd.read_sql_query(\n",
    "        \"SELECT date, time, open, close, low, high, volume, pair.\\\"name\\\"\"\n",
    "        \"FROM candlestick, pair WHERE candlestick.pair_id = pair.id AND pair.id IN (\"\n",
    "        \"SELECT pair.id FROM pair, exchange WHERE (\"\n",
    "        \"SELECT pair.id FROM pair WHERE pair.name = '\" + pair +\n",
    "        \"') = pair.alias_id AND pair.exchange_id = (SELECT exchange.id FROM exchange WHERE exchange.\\\"name\\\" = '\" + exchange + \"')) ORDER BY candlestick.date;\",\n",
    "        con=engine)\n",
    "    return df"
   ]
  },
  {
   "cell_type": "code",
   "execution_count": 75,
   "metadata": {
    "scrolled": false
   },
   "outputs": [],
   "source": [
    "def load_data(X, seq_len):\n",
    "    train_size=0.95\n",
    "    amount_of_features = X.shape[1] \n",
    "    X_mat = X.as_matrix() \n",
    "    \n",
    "    sequence_length = seq_len + 1 \n",
    "    data = []\n",
    "\n",
    "    for index in range(len(X_mat) + 1 - sequence_length):\n",
    "        data.append(X_mat[index: index + sequence_length])\n",
    "    \n",
    "    data = np.array(data)\n",
    "    train_split = int(round(train_size * data.shape[0]))\n",
    "    train_data = data[:train_split, :]\n",
    "    \n",
    "    x_train = train_data[:, :-1]\n",
    "    y_train = train_data[:, -1][:,-1]\n",
    "    \n",
    "    x_test = data[train_split:, :-1] \n",
    "    y_test = data[train_split:, -1][:,-1]\n",
    "\n",
    "    x_train = np.reshape(x_train, (x_train.shape[0], x_train.shape[1], amount_of_features))\n",
    "    x_test = np.reshape(x_test, (x_test.shape[0], x_test.shape[1], amount_of_features))  \n",
    "\n",
    "    return x_train, y_train, x_test, y_test\n",
    "\n",
    "def seq2seq(layers):\n",
    "        d = 0.3\n",
    "        model = Sequential()\n",
    "        model.add(LSTM(128, input_shape=(layers[1], layers[0]), return_sequences=True))\n",
    "        model.add(Dropout(d))\n",
    "        \n",
    "        model.add(LSTM(64, input_shape=(layers[1], layers[0]), return_sequences=False))\n",
    "        model.add(Dropout(d))\n",
    "        \n",
    "        model.add(Dense(16, activation='relu'))         \n",
    "        model.add(Dense(1, activation='linear'))\n",
    "        \n",
    "        model.compile(loss='mse',optimizer='rmsprop',metrics=['accuracy'])\n",
    "        print(\"Compilation Time : \", time.time() - start)\n",
    "        \n",
    "        return model\n"
   ]
  },
  {
   "cell_type": "code",
   "execution_count": 76,
   "metadata": {},
   "outputs": [
    {
     "name": "stdout",
     "output_type": "stream",
     "text": [
      "2017-07-26 15:17:59,548 INFO sqlalchemy.engine.base.Engine select version()\n",
      "2017-07-26 15:17:59,549 INFO sqlalchemy.engine.base.Engine {}\n",
      "2017-07-26 15:17:59,550 INFO sqlalchemy.engine.base.Engine select current_schema()\n",
      "2017-07-26 15:17:59,551 INFO sqlalchemy.engine.base.Engine {}\n",
      "2017-07-26 15:17:59,553 INFO sqlalchemy.engine.base.Engine SELECT CAST('test plain returns' AS VARCHAR(60)) AS anon_1\n",
      "2017-07-26 15:17:59,553 INFO sqlalchemy.engine.base.Engine {}\n",
      "2017-07-26 15:17:59,554 INFO sqlalchemy.engine.base.Engine SELECT CAST('test unicode returns' AS VARCHAR(60)) AS anon_1\n",
      "2017-07-26 15:17:59,555 INFO sqlalchemy.engine.base.Engine {}\n",
      "2017-07-26 15:17:59,556 INFO sqlalchemy.engine.base.Engine show standard_conforming_strings\n",
      "2017-07-26 15:17:59,557 INFO sqlalchemy.engine.base.Engine {}\n",
      "2017-07-26 15:17:59,558 INFO sqlalchemy.engine.base.Engine SELECT date, time, open, close, low, high, volume, pair.\"name\"FROM candlestick, pair WHERE candlestick.pair_id = pair.id AND pair.id IN (SELECT pair.id FROM pair, exchange WHERE (SELECT pair.id FROM pair WHERE pair.name = 'USDT_BTC') = pair.alias_id AND pair.exchange_id = (SELECT exchange.id FROM exchange WHERE exchange.\"name\" = 'poloniex')) ORDER BY candlestick.date;\n",
      "2017-07-26 15:17:59,558 INFO sqlalchemy.engine.base.Engine {}\n",
      "X_train: (668, 22, 3)\n",
      "y_train: (668,)\n",
      "X_test: (35, 22, 3)\n",
      "y_test: (35,)\n"
     ]
    }
   ],
   "source": [
    "from sklearn.preprocessing import MinMaxScaler\n",
    "\n",
    "data = get_data_frame()\n",
    "data = data[['open', 'high', 'close']]\n",
    "\n",
    "x_scaler = MinMaxScaler()\n",
    "y_scaler = MinMaxScaler()\n",
    "\n",
    "x = data[['open', 'high']].copy()\n",
    "y = data['close'].copy()\n",
    "\n",
    "x[['open', 'high']] = x_scaler.fit_transform(x)\n",
    "\n",
    "y = y_scaler.fit_transform(y.values.reshape(-1, 1))\n",
    "x['close'] = y\n",
    "\n",
    "seq_length = 22\n",
    "\n",
    "X_train, y_train, X_test, y_test = load_data(x, seq_length)\n",
    "\n",
    "print(\"X_train:\", X_train.shape)\n",
    "print(\"y_train:\", y_train.shape)\n",
    "\n",
    "print(\"X_test:\", X_test.shape)\n",
    "print(\"y_test:\", y_test.shape)\n",
    "\n",
    "model = seq2seq([3, seq_length ,1])"
   ]
  },
  {
   "cell_type": "code",
   "execution_count": 78,
   "metadata": {},
   "outputs": [
    {
     "data": {
      "text/plain": [
       "<keras.callbacks.History at 0x7f3574c42358>"
      ]
     },
     "execution_count": 78,
     "metadata": {},
     "output_type": "execute_result"
    }
   ],
   "source": [
    "model.fit(\n",
    "    X_train,\n",
    "    y_train,\n",
    "    batch_size=32,\n",
    "    epochs=100,\n",
    "    validation_split=0.1,\n",
    "    verbose=0)"
   ]
  },
  {
   "cell_type": "code",
   "execution_count": 112,
   "metadata": {},
   "outputs": [
    {
     "name": "stderr",
     "output_type": "stream",
     "text": [
      "/root/anaconda/lib/python3.6/site-packages/sklearn/preprocessing/data.py:374: DeprecationWarning:\n",
      "\n",
      "Passing 1d arrays as data is deprecated in 0.17 and will raise ValueError in 0.19. Reshape your data either using X.reshape(-1, 1) if your data has a single feature or X.reshape(1, -1) if it contains a single sample.\n",
      "\n",
      "/root/anaconda/lib/python3.6/site-packages/sklearn/preprocessing/data.py:374: DeprecationWarning:\n",
      "\n",
      "Passing 1d arrays as data is deprecated in 0.17 and will raise ValueError in 0.19. Reshape your data either using X.reshape(-1, 1) if your data has a single feature or X.reshape(1, -1) if it contains a single sample.\n",
      "\n",
      "/root/anaconda/lib/python3.6/site-packages/sklearn/preprocessing/data.py:374: DeprecationWarning:\n",
      "\n",
      "Passing 1d arrays as data is deprecated in 0.17 and will raise ValueError in 0.19. Reshape your data either using X.reshape(-1, 1) if your data has a single feature or X.reshape(1, -1) if it contains a single sample.\n",
      "\n",
      "/root/anaconda/lib/python3.6/site-packages/sklearn/preprocessing/data.py:374: DeprecationWarning:\n",
      "\n",
      "Passing 1d arrays as data is deprecated in 0.17 and will raise ValueError in 0.19. Reshape your data either using X.reshape(-1, 1) if your data has a single feature or X.reshape(1, -1) if it contains a single sample.\n",
      "\n",
      "/root/anaconda/lib/python3.6/site-packages/sklearn/preprocessing/data.py:374: DeprecationWarning:\n",
      "\n",
      "Passing 1d arrays as data is deprecated in 0.17 and will raise ValueError in 0.19. Reshape your data either using X.reshape(-1, 1) if your data has a single feature or X.reshape(1, -1) if it contains a single sample.\n",
      "\n"
     ]
    },
    {
     "name": "stdout",
     "output_type": "stream",
     "text": [
      "Train Score: 753602.24 RMSE\n",
      "Train Score: 753602.24 RMSE\n",
      "Expected value:  [ 2565.99999948]\n",
      "Last Prediction:  [ 2326.08398438]\n"
     ]
    },
    {
     "data": {
      "image/png": "[encoded data removed]",
      "text/plain": [
       "<matplotlib.figure.Figure at 0x7f355e156630>"
      ]
     },
     "metadata": {},
     "output_type": "display_data"
    },
    {
     "name": "stdout",
     "output_type": "stream",
     "text": [
      "The Stock values have been plotted.\n"
     ]
    }
   ],
   "source": [
    "import math\n",
    "\n",
    "train_predict = model.predict(X_train)\n",
    "test_predict = model.predict(X_test)\n",
    "\n",
    "trainScore = metrics.mean_squared_error(y_scaler.inverse_transform(y_train), \\\n",
    "                                        y_scaler.inverse_transform(train_predict) ** .5)\n",
    "print('Train Score: %.2f RMSE' % (trainScore))\n",
    "\n",
    "testScore = metrics.mean_squared_error(y_scaler.inverse_transform(y_test), \\\n",
    "                                        y_scaler.inverse_transform(test_predict) ** .5)\n",
    "print('Train Score: %.2f RMSE' % (trainScore))\n",
    "                            \n",
    "    \n",
    "\n",
    "window = 22\n",
    "diff=[]\n",
    "ratio=[]\n",
    "\n",
    "\n",
    "\n",
    "\n",
    "for u in range(0, len(X_test)):\n",
    "    pr = p[u][0]\n",
    "    ratio.append((y_test[u]/pr)-1)\n",
    "    diff.append(abs(y_test[u]- pr))\n",
    "\n",
    "import matplotlib.pyplot as plt2\n",
    "\n",
    "print(\"Expected value: \",(y_scaler.inverse_transform([y_test[-1]])))\n",
    "print(\"Last Prediction: \",(y_scaler.inverse_transform(p[-1])))\n",
    "plt2.plot(y_scaler.inverse_transform(p) ,color='red', label='prediction')\n",
    "plt2.plot(y_scaler.inverse_transform(y_test) ,color='blue', label='y_test')\n",
    "plt2.show()\n",
    "\n",
    "print(\"The Stock values have been plotted.\")\n"
   ]
  }
 ],
 "metadata": {
  "kernelspec": {
   "display_name": "Python 3",
   "language": "python",
   "name": "python3"
  },
  "language_info": {
   "codemirror_mode": {
    "name": "ipython",
    "version": 3
   },
   "file_extension": ".py",
   "mimetype": "text/x-python",
   "name": "python",
   "nbconvert_exporter": "python",
   "pygments_lexer": "ipython3",
   "version": "3.6.1"
  }
 },
 "nbformat": 4,
 "nbformat_minor": 2
}
