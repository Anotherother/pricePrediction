{
 "cells": [
  {
   "cell_type": "code",
   "execution_count": 8,
   "metadata": {},
   "outputs": [
    {
     "data": {
      "text/html": [
       "<script>requirejs.config({paths: { 'plotly': ['https://cdn.plot.ly/plotly-latest.min']},});if(!window.Plotly) {{require(['plotly'],function(plotly) {window.Plotly=plotly;});}}</script>"
      ],
      "text/vnd.plotly.v1+html": [
       "<script>requirejs.config({paths: { 'plotly': ['https://cdn.plot.ly/plotly-latest.min']},});if(!window.Plotly) {{require(['plotly'],function(plotly) {window.Plotly=plotly;});}}</script>"
      ]
     },
     "metadata": {},
     "output_type": "display_data"
    }
   ],
   "source": [
    "import pandas as pd\n",
    "import numpy as np\n",
    "\n",
    "import keras\n",
    "from scipy import stats\n",
    "from keras.layers.core import Dense, Activation, Dropout\n",
    "from keras.layers.recurrent import LSTM\n",
    "from keras.models import Sequential, load_model, save_model\n",
    "\n",
    "import datetime \n",
    "import seaborn as sns\n",
    "from pylab import rcParams\n",
    "from sklearn.preprocessing import MinMaxScaler\n",
    "from sklearn import metrics\n",
    "import time\n",
    "\n",
    "import plotly as py\n",
    "import plotly.graph_objs as go\n",
    "from plotly.offline import init_notebook_mode, iplot\n",
    "\n",
    "import sqlalchemy\n",
    "\n",
    "init_notebook_mode(connected=True)\n",
    "\n",
    "%matplotlib inline\n",
    "\n",
    "sns.set(style='whitegrid', palette='muted', font_scale=1.5)\n",
    "\n",
    "rcParams['figure.figsize'] = 14, 8\n",
    "\n",
    "RANDOM_SEED = 42\n",
    "\n",
    "WINDOW = 22"
   ]
  },
  {
   "cell_type": "code",
   "execution_count": 4,
   "metadata": {},
   "outputs": [],
   "source": [
    "def connect(user, password, db, host: str, port: int, echo=True):\n",
    "    url = 'postgresql+psycopg2://{}:{}@{}:{}/{}'\n",
    "    url = url.format(user, password, host, port, db)\n",
    "    eng = sqlalchemy.create_engine(url, client_encoding='utf8', echo=echo)\n",
    "    meta = sqlalchemy.MetaData(bind=eng)\n",
    "    return eng, meta\n",
    "\n",
    "def get_data_frame(pair: str = 'USDT_BTC', exchange: str = 'poloniex') -> pd.DataFrame:\n",
    "    \"\"\"Метод стягивания данных из базы в датафрейм.\n",
    "    По умолчанию тянет все значения в базе для валютной пары доллар биткоин.\n",
    "    Список спаршенных пар смотри в таблице Pair\n",
    "    Цепляться будет отовсюду где есть инетрнет\"\"\"\n",
    "    engine, meta = connect(user='postgres', password='password', db='btccandles', host='94.230.125.199', port=16432)\n",
    "    df = pd.read_sql_query(\n",
    "        \"SELECT date, time, open, close, low, high, volume, pair.\\\"name\\\"\"\n",
    "        \"FROM candlestick, pair WHERE candlestick.pair_id = pair.id AND pair.id IN (\"\n",
    "        \"SELECT pair.id FROM pair, exchange WHERE (\"\n",
    "        \"SELECT pair.id FROM pair WHERE pair.name = '\" + pair +\n",
    "        \"') = pair.alias_id AND pair.exchange_id = (SELECT exchange.id FROM exchange WHERE exchange.\\\"name\\\" = '\" + exchange + \"')) ORDER BY candlestick.date;\",\n",
    "        con=engine)\n",
    "    return df"
   ]
  },
  {
   "cell_type": "code",
   "execution_count": 5,
   "metadata": {
    "scrolled": false
   },
   "outputs": [],
   "source": [
    "\n",
    "def load_data(stock, seq_len):\n",
    "    amount_of_features = len(stock.columns)\n",
    "    data = stock.as_matrix() #pd.DataFrame(stock)\n",
    "    sequence_length = seq_len + 1\n",
    "    result = []\n",
    "    for index in range(len(data) - sequence_length):\n",
    "        result.append(data[index: index + sequence_length])\n",
    "\n",
    "    result = np.array(result)\n",
    "    row = round(0.95 * result.shape[0])\n",
    "    train = result[:int(row), :]\n",
    "    x_train = train[:, :-1]\n",
    "    y_train = train[:, -1][:,-1]\n",
    "    x_test = result[int(row):, :-1]\n",
    "    y_test = result[int(row):, -1][:,-1]\n",
    "\n",
    "    x_train = np.reshape(x_train, (x_train.shape[0], x_train.shape[1], amount_of_features))\n",
    "    x_test = np.reshape(x_test, (x_test.shape[0], x_test.shape[1], amount_of_features))  \n",
    "\n",
    "    return [x_train, y_train, x_test, y_test]\n",
    "\n",
    "#LSTM\n",
    "\n",
    "def lstm_model(layers):\n",
    "    model = Sequential()\n",
    "\n",
    "    model.add(LSTM(\n",
    "        input_dim=layers[0],\n",
    "        output_dim=layers[1],\n",
    "        return_sequences=True))\n",
    "    model.add(Dropout(0.2))\n",
    "\n",
    "    model.add(LSTM(\n",
    "        layers[2],\n",
    "        return_sequences=False))\n",
    "    model.add(Dropout(0.2))\n",
    "\n",
    "    model.add(Dense(\n",
    "        output_dim=layers[2]))\n",
    "    model.add(Activation(\"linear\"))\n",
    "\n",
    "    start = time.time()\n",
    "    model.compile(loss=\"mse\", optimizer=\"rmsprop\",metrics=['accuracy'])\n",
    "    print(\"Compilation Time : \", time.time() - start)\n",
    "    return model\n",
    "\n",
    "#seq2seq model\n",
    "\n",
    "def seq2seq(layers):\n",
    "        d = 0.3\n",
    "        model = Sequential()\n",
    "        model.add(LSTM(128, input_shape=(layers[1], layers[0]), return_sequences=True))\n",
    "        model.add(Dropout(d))\n",
    "        model.add(LSTM(64, input_shape=(layers[1], layers[0]), return_sequences=False))\n",
    "        model.add(Dropout(d))\n",
    "        model.add(Dense(16, activation='relu'))        \n",
    "        model.add(Dense(1, activation='linear'))\n",
    "        model.compile(loss='mse',optimizer='rmsprop',metrics=['accuracy'])\n",
    "        return model\n"
   ]
  },
  {
   "cell_type": "code",
   "execution_count": 6,
   "metadata": {},
   "outputs": [
    {
     "name": "stdout",
     "output_type": "stream",
     "text": [
      "2017-07-26 13:12:00,827 INFO sqlalchemy.engine.base.Engine select version()\n",
      "2017-07-26 13:12:00,828 INFO sqlalchemy.engine.base.Engine {}\n",
      "2017-07-26 13:12:00,830 INFO sqlalchemy.engine.base.Engine select current_schema()\n",
      "2017-07-26 13:12:00,831 INFO sqlalchemy.engine.base.Engine {}\n",
      "2017-07-26 13:12:00,833 INFO sqlalchemy.engine.base.Engine SELECT CAST('test plain returns' AS VARCHAR(60)) AS anon_1\n",
      "2017-07-26 13:12:00,833 INFO sqlalchemy.engine.base.Engine {}\n",
      "2017-07-26 13:12:00,835 INFO sqlalchemy.engine.base.Engine SELECT CAST('test unicode returns' AS VARCHAR(60)) AS anon_1\n",
      "2017-07-26 13:12:00,835 INFO sqlalchemy.engine.base.Engine {}\n",
      "2017-07-26 13:12:00,837 INFO sqlalchemy.engine.base.Engine show standard_conforming_strings\n",
      "2017-07-26 13:12:00,837 INFO sqlalchemy.engine.base.Engine {}\n",
      "2017-07-26 13:12:00,839 INFO sqlalchemy.engine.base.Engine SELECT date, time, open, close, low, high, volume, pair.\"name\"FROM candlestick, pair WHERE candlestick.pair_id = pair.id AND pair.id IN (SELECT pair.id FROM pair, exchange WHERE (SELECT pair.id FROM pair WHERE pair.name = 'USDT_BTC') = pair.alias_id AND pair.exchange_id = (SELECT exchange.id FROM exchange WHERE exchange.\"name\" = 'poloniex')) ORDER BY candlestick.date;\n",
      "2017-07-26 13:12:00,839 INFO sqlalchemy.engine.base.Engine {}\n",
      "       open      high     close\n",
      "0  2.840000  2.840000  2.798450\n",
      "1  2.800000  2.864381  2.864381\n",
      "2  2.854383  2.889656  2.889656\n",
      "3  2.811045  2.880000  2.880000\n",
      "4  2.882000  2.889654  2.875698\n",
      "X_train: (667, 22, 3)\n",
      "y_train: (667,)\n",
      "X_test: (35, 22, 3)\n",
      "y_test: (35,)\n"
     ]
    }
   ],
   "source": [
    "#Get Data\n",
    "\n",
    "data = get_data_frame()\n",
    "data = data[['open', 'high', 'close']]\n",
    "\n",
    "\n",
    "#Feauture Scaling\n",
    "\n",
    "data['high'] = data['high'] / 100\n",
    "data['open'] = data['open'] / 100\n",
    "data['close'] = data['close'] / 100\n",
    "print(data.head(5))\n",
    "\n",
    "#Separate Data\n",
    "\n",
    "#Chosen the days when exchange is operating\n",
    "seq_length = 22\n",
    "X_train, y_train, X_test, y_test = load_data(data[::-1], seq_length)\n",
    "print(\"X_train:\", X_train.shape)\n",
    "print(\"y_train:\", y_train.shape)\n",
    "print(\"X_test:\", X_test.shape)\n",
    "print(\"y_test:\", y_test.shape)\n",
    "\n",
    "# model = build_model([3,lag,1])\n",
    "model = seq2seq([3, seq_length ,1])\n",
    "\n"
   ]
  },
  {
   "cell_type": "code",
   "execution_count": 11,
   "metadata": {},
   "outputs": [
    {
     "ename": "NameError",
     "evalue": "name 'math' is not defined",
     "output_type": "error",
     "traceback": [
      "\u001b[0;31m---------------------------------------------------------------------------\u001b[0m",
      "\u001b[0;31mNameError\u001b[0m                                 Traceback (most recent call last)",
      "\u001b[0;32m<ipython-input-11-b1112f6d0664>\u001b[0m in \u001b[0;36m<module>\u001b[0;34m()\u001b[0m\n\u001b[1;32m     21\u001b[0m \u001b[0;34m\u001b[0m\u001b[0m\n\u001b[1;32m     22\u001b[0m \u001b[0mtrainScore\u001b[0m \u001b[0;34m=\u001b[0m \u001b[0mmodel\u001b[0m\u001b[0;34m.\u001b[0m\u001b[0mevaluate\u001b[0m\u001b[0;34m(\u001b[0m\u001b[0mX_train\u001b[0m\u001b[0;34m,\u001b[0m \u001b[0my_train\u001b[0m\u001b[0;34m,\u001b[0m \u001b[0mverbose\u001b[0m\u001b[0;34m=\u001b[0m\u001b[0;36m0\u001b[0m\u001b[0;34m)\u001b[0m\u001b[0;34m\u001b[0m\u001b[0m\n\u001b[0;32m---> 23\u001b[0;31m \u001b[0mprint\u001b[0m\u001b[0;34m(\u001b[0m\u001b[0;34m'Train Score: %.2f MSE (%.2f RMSE)'\u001b[0m \u001b[0;34m%\u001b[0m \u001b[0;34m(\u001b[0m\u001b[0mtrainScore\u001b[0m\u001b[0;34m[\u001b[0m\u001b[0;36m0\u001b[0m\u001b[0;34m]\u001b[0m\u001b[0;34m,\u001b[0m \u001b[0mmath\u001b[0m\u001b[0;34m.\u001b[0m\u001b[0msqrt\u001b[0m\u001b[0;34m(\u001b[0m\u001b[0mtrainScore\u001b[0m\u001b[0;34m[\u001b[0m\u001b[0;36m0\u001b[0m\u001b[0;34m]\u001b[0m\u001b[0;34m)\u001b[0m\u001b[0;34m)\u001b[0m\u001b[0;34m)\u001b[0m\u001b[0;34m\u001b[0m\u001b[0m\n\u001b[0m\u001b[1;32m     24\u001b[0m \u001b[0;34m\u001b[0m\u001b[0m\n\u001b[1;32m     25\u001b[0m \u001b[0mtestScore\u001b[0m \u001b[0;34m=\u001b[0m \u001b[0mmodel\u001b[0m\u001b[0;34m.\u001b[0m\u001b[0mevaluate\u001b[0m\u001b[0;34m(\u001b[0m\u001b[0mX_test\u001b[0m\u001b[0;34m,\u001b[0m \u001b[0my_test\u001b[0m\u001b[0;34m,\u001b[0m \u001b[0mverbose\u001b[0m\u001b[0;34m=\u001b[0m\u001b[0;36m0\u001b[0m\u001b[0;34m)\u001b[0m\u001b[0;34m\u001b[0m\u001b[0m\n",
      "\u001b[0;31mNameError\u001b[0m: name 'math' is not defined"
     ]
    }
   ],
   "source": [
    "class LossHistory(keras.callbacks.Callback):\n",
    "    def on_train_begin(self, logs={}):\n",
    "        self.losses = []\n",
    "\n",
    "    def on_batch_end(self, batch, logs={}):\n",
    "        self.losses.append(logs.get('loss'))\n",
    "        \n",
    "history = LossHistory()\n",
    "\n",
    "model.fit(\n",
    "    X_train,\n",
    "    y_train,\n",
    "    batch_size=32,\n",
    "    epochs=100,\n",
    "    validation_split=0.1,\n",
    "    verbose=0, \n",
    "    callbacks=[history])\n",
    "\n",
    "\n"
   ]
  },
  {
   "cell_type": "code",
   "execution_count": 12,
   "metadata": {},
   "outputs": [
    {
     "name": "stdout",
     "output_type": "stream",
     "text": [
      "Train Score: 0.28 MSE (0.53 RMSE)\n",
      "Test Score: 0.28 MSE (0.53 RMSE)\n",
      "Expected value:  286.438075\n",
      "Last Input:  [[ 228.4526468   236.99999909  211.        ]\n",
      " [ 230.25950309  236.14959975  228.4526468 ]\n",
      " [ 233.13000271  285.          230.25950309]\n",
      " [ 229.65637733  242.0500026   233.13000186]\n",
      " [ 226.99999785  241.75778125  234.        ]\n",
      " [ 191.29999999  241.876825    226.99999929]\n",
      " [ 262.38059156  262.38059156  178.7193125 ]\n",
      " [ 257.00000516  263.884775    262.37255219]\n",
      " [ 257.89777067  264.818575    256.76429583]\n",
      " [ 265.          267.          258.27685   ]\n",
      " [ 260.143425    265.          265.        ]\n",
      " [ 263.39255361  269.87728091  263.        ]\n",
      " [ 269.25604587  275.6263664   265.413175  ]\n",
      " [ 266.21932357  269.25604587  269.25604587]\n",
      " [ 266.21932357  266.21932357  266.21932357]\n",
      " [ 263.          269.75811042  268.86343705]\n",
      " [ 280.99991008  282.235975    263.        ]\n",
      " [ 277.22849063  277.22849063  275.9225    ]\n",
      " [ 279.79331405  283.738175    283.738175  ]\n",
      " [ 288.19999998  288.965425    287.5698    ]\n",
      " [ 281.10448572  288.          288.        ]\n",
      " [ 285.4383      288.96564431  288.96564431]]\n",
      "Last Prediction:  [ 323.91940308]\n"
     ]
    },
    {
     "data": {
      "image/png": "[encoded data removed]",
      "text/plain": [
       "<matplotlib.figure.Figure at 0x7f358a1ec7f0>"
      ]
     },
     "metadata": {},
     "output_type": "display_data"
    },
    {
     "name": "stdout",
     "output_type": "stream",
     "text": [
      "The Stock values have been plotted.\n"
     ]
    }
   ],
   "source": [
    "import math\n",
    "\n",
    "#Score\n",
    "\n",
    "trainScore = model.evaluate(X_train, y_train, verbose=0)\n",
    "print('Train Score: %.2f MSE (%.2f RMSE)' % (trainScore[0], math.sqrt(trainScore[0])))\n",
    "\n",
    "testScore = model.evaluate(X_test, y_test, verbose=0)\n",
    "print('Test Score: %.2f MSE (%.2f RMSE)' % (testScore[0], math.sqrt(testScore[0])))\n",
    "\n",
    "window = 22\n",
    "diff=[]\n",
    "ratio=[]\n",
    "p = model.predict(X_test)\n",
    "\n",
    "for u in range(0, len(X_test)):\n",
    "    pr = p[u][0]\n",
    "    ratio.append((y_test[u]/pr)-1)\n",
    "    diff.append(abs(y_test[u]- pr))\n",
    "\n",
    "\n",
    "import matplotlib.pyplot as plt2\n",
    "\n",
    "print(\"Expected value: \",(y_test[-1] * 100))\n",
    "print(\"Last Input: \",(X_test[-1] * 100))\n",
    "print(\"Last Prediction: \",(p[-1] * 100))\n",
    "plt2.plot(p ,color='red', label='prediction')\n",
    "plt2.plot(y_test ,color='blue', label='y_test')\n",
    "plt2.show()\n",
    "\n",
    "print(\"The Stock values have been plotted.\")"
   ]
  }
 ],
 "metadata": {
  "kernelspec": {
   "display_name": "Python 3",
   "language": "python",
   "name": "python3"
  },
  "language_info": {
   "codemirror_mode": {
    "name": "ipython",
    "version": 3
   },
   "file_extension": ".py",
   "mimetype": "text/x-python",
   "name": "python",
   "nbconvert_exporter": "python",
   "pygments_lexer": "ipython3",
   "version": "3.6.1"
  }
 },
 "nbformat": 4,
 "nbformat_minor": 2
}
