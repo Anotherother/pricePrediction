{
 "cells": [
  {
   "cell_type": "code",
   "execution_count": 14,
   "metadata": {
    "collapsed": true
   },
   "outputs": [],
   "source": [
    "import src.get_data as get_data\n",
    "import numpy as np\n",
    "from sklearn.preprocessing import MinMaxScaler\n",
    "import pandas as pd\n",
    "import datetime \n",
    "\n",
    "from keras.layers.core import Dense, Activation, Dropout\n",
    "from keras.layers.recurrent import LSTM\n",
    "from keras.models import Sequential, load_model, save_model\n",
    "\n",
    "import time\n",
    "from sklearn import metrics\n",
    "\n",
    "WINDOW = 22"
   ]
  },
  {
   "cell_type": "code",
   "execution_count": 19,
   "metadata": {
    "collapsed": true
   },
   "outputs": [],
   "source": [
    "def load_data(X, seq_len, train_size=1):\n",
    "    \n",
    "    amount_of_features = X.shape[1] \n",
    "    X_mat = np.array(X)\n",
    "    \n",
    "    data = []\n",
    "    \n",
    "    for index in range(len(X_mat)  - seq_len):\n",
    "        data.append(X_mat[index: index + seq_len +1])\n",
    "    \n",
    "    data = np.array(data)\n",
    "    train_split = int(round(train_size * data.shape[0]))\n",
    "    train_data = data[:train_split, :]\n",
    "    \n",
    "    x_train = train_data[:, :-1]\n",
    "    y_train = train_data[:, -1][:,-1]\n",
    "    \n",
    "    x_train = np.reshape(x_train, (x_train.shape[0], x_train.shape[1], amount_of_features))\n",
    "\n",
    "    return x_train, y_train\n",
    "\n",
    "def build_model(input_shape):\n",
    "    d = 0.2\n",
    "    model = Sequential()\n",
    "    \n",
    "    model.add(LSTM(128, input_shape=input_shape, return_sequences=True))\n",
    "    model.add(Dropout(d))\n",
    "        \n",
    "    model.add(LSTM(128, input_shape=input_shape, return_sequences=False))\n",
    "    model.add(Dropout(d))\n",
    "        \n",
    "    model.add(Dense(32,kernel_initializer=\"normal\",activation='relu'))        \n",
    "    model.add(Dense(1,kernel_initializer=\"normal\",activation='linear'))\n",
    "    \n",
    "    model.compile(loss='mse',optimizer='adam', metrics=['accuracy'])\n",
    "    \n",
    "    return model\n",
    "\n",
    "def predictNumDay(num, pathModel, data, scaler):\n",
    "    m = load_model(pathModel)\n",
    "    \n",
    "    prediction = []\n",
    "    lastbatch = (data[-WINDOW:])\n",
    "    for i in np.arange(num):    \n",
    "        res = m.predict([lastbatch.reshape(1,22, 1)])\n",
    "        prediction.append(scaler.inverse_transform(res))\n",
    "        lastbatch = np.concatenate([lastbatch[1:],res])\n",
    "        m.train_on_batch(lastbatch.reshape(1,22,1), res)\n",
    "           \n",
    "    return np.array(prediction) "
   ]
  },
  {
   "cell_type": "code",
   "execution_count": 22,
   "metadata": {
    "collapsed": true
   },
   "outputs": [],
   "source": [
    "def nextDayPredictionEWMA(typeBlockchain, N = 1, plotPrediction = False):    \n",
    "    \n",
    "    df = get_data.get_data_frame(typeBlockchain)\n",
    "\n",
    "    scaler = MinMaxScaler()\n",
    "\n",
    "\n",
    "    x = df['close'].copy()\n",
    "    y = df['close'].copy()\n",
    "    \n",
    "    x = pd.ewma(x, halflife=3)\n",
    "    y = pd.ewma(y, halflife=3)\n",
    "    \n",
    "    x = scaler.fit_transform(x.values.reshape(-1, 1))\n",
    "\n",
    "    y = scaler.fit_transform(y.values.reshape(-1, 1))\n",
    "    \n",
    "    X_train, y_train = load_data(x, WINDOW)\n",
    "    \n",
    "    print (X_train.shape, y_train.shape)\n",
    "    \n",
    "    model = build_model(input_shape=(WINDOW, 1))\n",
    "    \n",
    "    print('START FIT MODEL...')\n",
    "\n",
    "    #model.fit(X_train, y_train, batch_size=32, epochs=500,verbose=1)\n",
    "\n",
    "    \n",
    "    today = time.strftime(\"_%d_%m_%Y\")\n",
    "    \n",
    "    pathModel = \"../models/model_1f_\" + typeBlockchain + today +\".h5\"\n",
    "    save_model(model, pathModel)\n",
    "    \n",
    "    #model = load_model(pathModel)\n",
    "\n",
    " \n",
    "    lastDate =str(df.date[df.last_valid_index()]).split('-')\n",
    "    currentData = datetime.date(int(lastDate[0]),int(lastDate[1]),int(lastDate[2])) + datetime.timedelta(1)\n",
    "    predictionDate = pd.date_range(currentData,periods=N)\n",
    "    predictNday =  (predictNumDay(N, pathModel, x, scaler)).reshape(-1,)\n",
    "\n",
    "    prediction = pd.DataFrame(predictNday, columns=[\"predictionPrice\"], index = predictionDate.values)\n",
    "\n",
    "    return prediction"
   ]
  },
  {
   "cell_type": "code",
   "execution_count": null,
   "metadata": {
    "collapsed": true
   },
   "outputs": [],
   "source": [
    "def nextDayPredictionSINGLECLOSE(typeBlockchain, N = 1, plotPrediction = False):    \n",
    "    \n",
    "    df = get_data.get_data_frame(typeBlockchain)\n",
    "\n",
    "    scaler = MinMaxScaler()\n",
    "\n",
    "\n",
    "    x = df['close'].copy()\n",
    "    y = df['close'].copy()\n",
    "    \n",
    "    x = pd.ewma(x, halflife=3)\n",
    "    y = pd.ewma(y, halflife=3)\n",
    "    \n",
    "    x = scaler.fit_transform(x.values.reshape(-1, 1))\n",
    "\n",
    "    y = scaler.fit_transform(y.values.reshape(-1, 1))\n",
    "    \n",
    "    X_train, y_train = load_data(x, WINDOW)\n",
    "    \n",
    "    print (X_train.shape, y_train.shape)\n",
    "    \n",
    "    model = build_model(input_shape=(WINDOW, 1))\n",
    "    \n",
    "    print('START FIT MODEL...')\n",
    "\n",
    "    model.fit(X_train, y_train, batch_size=32, epochs=500,verbose=1)\n",
    "\n",
    "    \n",
    "    today = time.strftime(\"_%d_%m_%Y\")\n",
    "    \n",
    "    pathModel = \"../models/model_1f_\" + typeBlockchain + today +\".h5\"\n",
    "    save_model(model, pathModel)\n",
    "    \n",
    "    #model = load_model(pathModel)\n",
    "\n",
    " \n",
    "    lastDate =str(df.date[df.last_valid_index()]).split('-')\n",
    "    currentData = datetime.date(int(lastDate[0]),int(lastDate[1]),int(lastDate[2])) + datetime.timedelta(1)\n",
    "    predictionDate = pd.date_range(currentData,periods=N)\n",
    "    predictNday =  (predictNumDay(N, pathModel, x, scaler)).reshape(-1,)\n",
    "\n",
    "    prediction = pd.DataFrame(predictNday, columns=[\"predictionPrice\"], index = predictionDate.values)\n",
    "\n",
    "    return prediction"
   ]
  },
  {
   "cell_type": "code",
   "execution_count": 23,
   "metadata": {},
   "outputs": [
    {
     "name": "stderr",
     "output_type": "stream",
     "text": [
      "/root/anaconda/lib/python3.6/site-packages/ipykernel_launcher.py:11: FutureWarning: pd.ewm_mean is deprecated for Series and will be removed in a future version, replace with \n",
      "\tSeries.ewm(halflife=3,min_periods=0,adjust=True,ignore_na=False).mean()\n",
      "  # This is added back by InteractiveShellApp.init_path()\n",
      "/root/anaconda/lib/python3.6/site-packages/ipykernel_launcher.py:12: FutureWarning: pd.ewm_mean is deprecated for Series and will be removed in a future version, replace with \n",
      "\tSeries.ewm(halflife=3,min_periods=0,adjust=True,ignore_na=False).mean()\n",
      "  if sys.path[0] == '':\n"
     ]
    },
    {
     "name": "stdout",
     "output_type": "stream",
     "text": [
      "(705, 22, 1) (705,)\n",
      "START FIT MODEL...\n"
     ]
    }
   ],
   "source": [
    "USDT_BTC = nextDayPrediction('USDT_BTC', 'poloniex',N = 1)\n",
    "USDT_LTC = nextDayPrediction('USDT_LTC', 'poloniex',N = 1)\n",
    "USDT_ETH = nextDayPrediction('USDT_ETH', 'poloniex',N = 1)\n",
    "USDT_ETC = nextDayPrediction('USDT_ETC', 'poloniex',N = 1)\n",
    "USDT_XRP = nextDayPrediction('USDT_XRP', 'poloniex',N = 1)"
   ]
  },
  {
   "cell_type": "code",
   "execution_count": null,
   "metadata": {
    "collapsed": true
   },
   "outputs": [],
   "source": [
    "print ('predictionValues on', datetime.date.today())\n",
    "\n",
    "allCurrency = ['USDT_BTC', 'USDT_LTC', 'USDT_ETH', 'USDT_ETC', 'USDT_XRP']\n",
    "predictedValues = [USDT_BTC, USDT_LTC, USDT_ETH, USDT_ETC, USDT_XRP]\n",
    "\n",
    "for index in np.arange(len(allCurrency)):\n",
    "    print(allCurrency[index], '\\n' , predictedValues[index] )"
   ]
  }
 ],
 "metadata": {
  "kernelspec": {
   "display_name": "Python 3",
   "language": "python",
   "name": "python3"
  },
  "language_info": {
   "codemirror_mode": {
    "name": "ipython",
    "version": 3
   },
   "file_extension": ".py",
   "mimetype": "text/x-python",
   "name": "python",
   "nbconvert_exporter": "python",
   "pygments_lexer": "ipython3",
   "version": "3.6.1"
  }
 },
 "nbformat": 4,
 "nbformat_minor": 2
}
