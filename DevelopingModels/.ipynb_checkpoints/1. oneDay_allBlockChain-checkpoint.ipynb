{
 "cells": [
  {
   "cell_type": "code",
   "execution_count": 1,
   "metadata": {},
   "outputs": [
    {
     "name": "stderr",
     "output_type": "stream",
     "text": [
      "Using TensorFlow backend.\n"
     ]
    },
    {
     "name": "stdout",
     "output_type": "stream",
     "text": [
      "Couldn't import dot_parser, loading of dot files will not be possible.\n"
     ]
    },
    {
     "data": {
      "text/html": [
       "<script>requirejs.config({paths: { 'plotly': ['https://cdn.plot.ly/plotly-latest.min']},});if(!window.Plotly) {{require(['plotly'],function(plotly) {window.Plotly=plotly;});}}</script>"
      ],
      "text/vnd.plotly.v1+html": [
       "<script>requirejs.config({paths: { 'plotly': ['https://cdn.plot.ly/plotly-latest.min']},});if(!window.Plotly) {{require(['plotly'],function(plotly) {window.Plotly=plotly;});}}</script>"
      ]
     },
     "metadata": {},
     "output_type": "display_data"
    }
   ],
   "source": [
    "import pandas as pd\n",
    "import numpy as np\n",
    "import pickle\n",
    "import matplotlib.pyplot as plt\n",
    "from scipy import stats\n",
    "from keras.layers.core import Dense, Activation, Dropout\n",
    "from keras.layers.recurrent import LSTM\n",
    "from keras.models import Sequential, load_model, save_model\n",
    "import datetime \n",
    "\n",
    "import seaborn as sns\n",
    "from pylab import rcParams\n",
    "from sklearn.preprocessing import MinMaxScaler\n",
    "from sklearn import metrics\n",
    "import time\n",
    "\n",
    "import plotly as py\n",
    "import plotly.graph_objs as go\n",
    "from plotly.offline import init_notebook_mode, iplot\n",
    "\n",
    "import sqlalchemy#\n",
    "\n",
    "init_notebook_mode(connected=True)\n",
    "\n",
    "%matplotlib inline\n",
    "\n",
    "sns.set(style='whitegrid', palette='muted', font_scale=1.5)\n",
    "\n",
    "rcParams['figure.figsize'] = 14, 8\n",
    "\n",
    "RANDOM_SEED = 42\n",
    "\n",
    "WINDOW = 22"
   ]
  },
  {
   "cell_type": "code",
   "execution_count": 2,
   "metadata": {
    "collapsed": true
   },
   "outputs": [],
   "source": [
    "\"\"\"\n",
    "Парсинг данных\n",
    "\n",
    "\"\"\"\n",
    "def connect(user, password, db, host: str, port: int, echo=False):\n",
    "    url = 'postgresql+psycopg2://{}:{}@{}:{}/{}'\n",
    "    url = url.format(user, password, host, port, db)\n",
    "    eng = sqlalchemy.create_engine(url, client_encoding='utf8', echo=echo)\n",
    "    meta = sqlalchemy.MetaData(bind=eng)\n",
    "\n",
    "    return eng, meta\n",
    "\n",
    "            \n",
    "\n",
    "def get_data_frame(pair: str = 'USDT_BTC', exchange: str = 'poloniex') -> pd.DataFrame:\n",
    "    \"\"\"Метод стягивания данных из базы в датафрейм.\n",
    "    По умолчанию тянет все значения в базе для валютной пары доллар биткоин.\n",
    "    Список спаршенных пар смотри в таблице Pair\n",
    "    Цепляться будет отовсюду где есть инетрнет\"\"\"\n",
    "    engine, meta = connect(user='postgres', password='password', db='btc_dev', host='94.230.125.199', port=16432)\n",
    "    df = pd.read_sql_query(\n",
    "        \"SELECT date, time, open, close, low, high, volume, pair.\\\"name\\\"\"\n",
    "        \"FROM candlestick, pair, exchange WHERE candlestick.exchange_id = exchange.id \"\n",
    "        \"AND pair.id = candlestick.pair_id AND exchange.name = '\" + exchange + \"' AND candlestick.pair_id IN (SELECT pair.id FROM pair \"\n",
    "        \"WHERE pair.alias_id = (SELECT pair.id FROM pair WHERE pair.name = '\" + pair + \"') OR pair.name = '\" + pair + \"');\",con=engine)\n",
    "    return df\n",
    "\n",
    "\"\"\"\n",
    "Загрузка данных\n",
    "\"\"\"\n",
    "def load_data(X, seq_len, train_size=1):\n",
    "    # Определяем число фич\n",
    "    amount_of_features = X.shape[1] \n",
    "    \n",
    "    sequence_length = seq_len + 1 \n",
    "    data = []\n",
    "    \n",
    "    # Бьем тренировочные данные на блоки по размеру окна\n",
    "    for index in range(len(X)+1 - sequence_length):\n",
    "        data.append(X[index: index + sequence_length])\n",
    "    \n",
    "    data = np.array(data)\n",
    "    train_split = int(round(train_size * data.shape[0]))\n",
    "    train_data = data[:train_split, :]\n",
    "    \n",
    "    x_train = train_data[:, :-1]\n",
    "    y_train = train_data[:, -1][:,-1]\n",
    "    \n",
    "    # Меняем размер входного фрейма на [dim, window, featureNumber]\n",
    "    x_train = np.reshape(x_train, (x_train.shape[0], x_train.shape[1], amount_of_features))\n",
    "    return x_train, y_train\n",
    "\n",
    "\"\"\"\n",
    "Собираем LSTM\n",
    "\"\"\"\n",
    "\n",
    "def build_model(input_shape):\n",
    "    d = 0.2\n",
    "    model = Sequential()\n",
    "    \n",
    "    model.add(LSTM(128, input_shape=input_shape, return_sequences=True))\n",
    "    model.add(Dropout(d))\n",
    "        \n",
    "    model.add(LSTM(128, input_shape=input_shape, return_sequences=False))\n",
    "    model.add(Dropout(d))\n",
    "        \n",
    "    model.add(Dense(32,kernel_initializer=\"normal\",activation='relu'))        \n",
    "    model.add(Dense(1,kernel_initializer=\"normal\",activation='linear'))\n",
    "    \n",
    "    model.compile(loss='mse',optimizer='adam', metrics=['accuracy'])\n",
    "    \n",
    "    return model\n",
    "\n",
    "def predictNumDay(num, pathModel, data, scaler):\n",
    "    m = load_model(pathModel)\n",
    "    \n",
    "    prediction = []\n",
    "    lastbatch = (data[-WINDOW:])\n",
    "    for i in np.arange(num):    \n",
    "        res = m.predict([lastbatch.reshape(1,22, 1)])\n",
    "        prediction.append(scaler.inverse_transform(res))\n",
    "        lastbatch = np.concatenate([lastbatch[1:],res])\n",
    "        m.train_on_batch(lastbatch.reshape(1,22,1), res)\n",
    "           \n",
    "    return np.array(prediction)   "
   ]
  },
  {
   "cell_type": "code",
   "execution_count": 17,
   "metadata": {},
   "outputs": [],
   "source": [
    "\"\"\"\n",
    "typeBlockchain:\n",
    "USDT_BTC\n",
    "USDT_LTC\n",
    "USDT_ETH\n",
    "USDT_ETC\n",
    "USDT_XRP\n",
    "\"\"\"\n",
    "\n",
    "def nextDayPrediction(typeBlockchain, N = 1, plotPrediction = False):    \n",
    "    \n",
    "    df = get_data_frame(typeBlockchain)\n",
    "\n",
    "    scaler = MinMaxScaler()\n",
    "\n",
    "\n",
    "    x = df['close'].copy()\n",
    "    y = df['close'].copy()\n",
    "    \n",
    "    x = pd.ewma(x, halflife=3)\n",
    "    y = pd.ewma(y, halflife=3)\n",
    "    \n",
    "    x = scaler.fit_transform(x.values.reshape(-1, 1))\n",
    "\n",
    "    y = scaler.fit_transform(y.values.reshape(-1, 1))\n",
    "    \n",
    "    X_train, y_train = load_data(x, WINDOW)\n",
    "    \n",
    "    print (X_train.shape, y_train.shape)\n",
    "    \n",
    "    model = build_model(input_shape=(WINDOW, 1))\n",
    "    \n",
    "    print('START FIT MODEL...')\n",
    "    \n",
    "    start = time.time()\n",
    "    #model.fit(X_train, y_train, batch_size=32, epochs=500,verbose=1)\n",
    "    end = time.time()\n",
    "\n",
    "    print ('Learning time: ', end-start)\n",
    "    \n",
    "    today = time.strftime(\"_%d_%m_%Y\")\n",
    "    \n",
    "    pathModel = \"../models/model_1f_\" + typeBlockchain + today +\".h5\"\n",
    "    #save_model(model, pathModel)\n",
    "    \n",
    "    model = load_model(pathModel)\n",
    "    \n",
    "    trainPredict = model.predict(X_train)\n",
    "    trainPredict = scaler.inverse_transform(trainPredict)\n",
    "    trainY = scaler.inverse_transform([y_train])\n",
    "\n",
    "    trainScore = metrics.mean_squared_error(trainY[0], trainPredict[:,0]) ** .5\n",
    "    print('Train Score: %.2f RMSE' % (trainScore))\n",
    "    \n",
    "    prices = df.close.values.astype('float32')\n",
    "    prices = prices.reshape(len(prices), 1)\n",
    "    \n",
    "    trainPredictPlot = np.empty_like(prices)\n",
    "    trainPredictPlot[:, :] = np.nan\n",
    "    trainPredictPlot[WINDOW:len(trainPredict)+WINDOW, :] = trainPredict\n",
    "\n",
    "    \n",
    "    if plotPrediction ==True:\n",
    "    \n",
    "        plt.plot(pd.DataFrame(prices, columns=[\"close\"], index=df.index).close, label='Actual')\n",
    "        plt.plot(pd.DataFrame(trainPredictPlot, columns=[\"close\"], index=df.index).close, label='Training')\n",
    "        plt.legend(loc='best')\n",
    "        plt.show()\n",
    "    \n",
    "    \n",
    "    \n",
    "    lastDate =str(df.date[df.last_valid_index()]).split('-')\n",
    "    currentData = datetime.date(int(lastDate[0]),int(lastDate[1]),int(lastDate[2])) + datetime.timedelta(1)\n",
    "    predictionDate = pd.date_range(currentData,periods=N)\n",
    "    predictNday =  (predictNumDay(N, pathModel, x, scaler)).reshape(-1,)\n",
    "    \n",
    "\n",
    "    prediction = pd.DataFrame(predictNday, columns=[\"predictionPrice\"], index = predictionDate.values)\n",
    "    \n",
    "    Actual = pd.DataFrame(prices, columns=[\"close\"], index=df.date).close\n",
    "    Training = pd.DataFrame(trainPredictPlot, columns=[\"close\"], index=df.date).close\n",
    "    pred = pd.DataFrame(trainPredictPlot, columns=[\"close\"], index=df.date).close\n",
    "\n",
    "    \"\"\"ActualValues = go.Scatter( x = df.date, y = Actual, name = 'ActualValues')\n",
    "    TrainingValues = go.Scatter( x = df.date, y = Training, name = 'TrainingValues')\n",
    "\n",
    "    iplot([ActualValues,TrainingValues])\n",
    "    \n",
    "    our_Predict = go.Scatter( x = prediction.index, y = prediction.predictionPrice, name = 'Next5DayValues')\n",
    "\n",
    "    iplot([our_Predict, ActualValues])\"\"\"\n",
    "    \n",
    "    return prediction"
   ]
  },
  {
   "cell_type": "code",
   "execution_count": 18,
   "metadata": {
    "scrolled": true
   },
   "outputs": [
    {
     "name": "stderr",
     "output_type": "stream",
     "text": [
      "/root/anaconda/lib/python3.6/site-packages/ipykernel_launcher.py:20: FutureWarning:\n",
      "\n",
      "pd.ewm_mean is deprecated for Series and will be removed in a future version, replace with \n",
      "\tSeries.ewm(halflife=3,min_periods=0,adjust=True,ignore_na=False).mean()\n",
      "\n",
      "/root/anaconda/lib/python3.6/site-packages/ipykernel_launcher.py:21: FutureWarning:\n",
      "\n",
      "pd.ewm_mean is deprecated for Series and will be removed in a future version, replace with \n",
      "\tSeries.ewm(halflife=3,min_periods=0,adjust=True,ignore_na=False).mean()\n",
      "\n"
     ]
    },
    {
     "name": "stdout",
     "output_type": "stream",
     "text": [
      "(705, 22, 1) (705,)\n",
      "START FIT MODEL...\n",
      "Learning time:  4.76837158203125e-07\n",
      "Train Score: 28.68 RMSE\n"
     ]
    }
   ],
   "source": [
    "USDT_BTC = nextDayPrediction('USDT_BTC', N = 1)"
   ]
  },
  {
   "cell_type": "code",
   "execution_count": 19,
   "metadata": {},
   "outputs": [
    {
     "data": {
      "text/html": [
       "<div>\n",
       "<style>\n",
       "    .dataframe thead tr:only-child th {\n",
       "        text-align: right;\n",
       "    }\n",
       "\n",
       "    .dataframe thead th {\n",
       "        text-align: left;\n",
       "    }\n",
       "\n",
       "    .dataframe tbody tr th {\n",
       "        vertical-align: top;\n",
       "    }\n",
       "</style>\n",
       "<table border=\"1\" class=\"dataframe\">\n",
       "  <thead>\n",
       "    <tr style=\"text-align: right;\">\n",
       "      <th></th>\n",
       "      <th>predictionPrice</th>\n",
       "    </tr>\n",
       "  </thead>\n",
       "  <tbody>\n",
       "    <tr>\n",
       "      <th>2017-07-28</th>\n",
       "      <td>2516.111816</td>\n",
       "    </tr>\n",
       "  </tbody>\n",
       "</table>\n",
       "</div>"
      ],
      "text/plain": [
       "            predictionPrice\n",
       "2017-07-28      2516.111816"
      ]
     },
     "execution_count": 19,
     "metadata": {},
     "output_type": "execute_result"
    }
   ],
   "source": [
    "USDT_BTC"
   ]
  },
  {
   "cell_type": "code",
   "execution_count": null,
   "metadata": {
    "collapsed": true
   },
   "outputs": [],
   "source": [
    "USDT_LTC = nextDayPrediction('USDT_LTC', N = 1)"
   ]
  },
  {
   "cell_type": "code",
   "execution_count": 6,
   "metadata": {},
   "outputs": [
    {
     "name": "stdout",
     "output_type": "stream",
     "text": [
      "2017-07-20 22:14:09,693 INFO sqlalchemy.engine.base.Engine select version()\n",
      "2017-07-20 22:14:09,694 INFO sqlalchemy.engine.base.Engine {}\n",
      "2017-07-20 22:14:09,698 INFO sqlalchemy.engine.base.Engine select current_schema()\n",
      "2017-07-20 22:14:09,698 INFO sqlalchemy.engine.base.Engine {}\n",
      "2017-07-20 22:14:09,701 INFO sqlalchemy.engine.base.Engine SELECT CAST('test plain returns' AS VARCHAR(60)) AS anon_1\n",
      "2017-07-20 22:14:09,702 INFO sqlalchemy.engine.base.Engine {}\n",
      "2017-07-20 22:14:09,703 INFO sqlalchemy.engine.base.Engine SELECT CAST('test unicode returns' AS VARCHAR(60)) AS anon_1\n",
      "2017-07-20 22:14:09,704 INFO sqlalchemy.engine.base.Engine {}\n",
      "2017-07-20 22:14:09,705 INFO sqlalchemy.engine.base.Engine show standard_conforming_strings\n",
      "2017-07-20 22:14:09,705 INFO sqlalchemy.engine.base.Engine {}\n",
      "2017-07-20 22:14:09,707 INFO sqlalchemy.engine.base.Engine select date, time, open, close, low, high, volume, pair.\"name\" from candlestick, pair where candlestick.pair_id=pair.id and pair.\"name\"='USDT_ETH';\n",
      "2017-07-20 22:14:09,707 INFO sqlalchemy.engine.base.Engine {}\n",
      "START FIT MODEL...\n",
      "Learning time:  458.9413049221039\n",
      "Train Score: 4.47 RMSE\n"
     ]
    }
   ],
   "source": [
    "USDT_ETH = nextDayPrediction('USDT_ETH', N = 1)"
   ]
  },
  {
   "cell_type": "code",
   "execution_count": 7,
   "metadata": {},
   "outputs": [
    {
     "name": "stdout",
     "output_type": "stream",
     "text": [
      "2017-07-20 22:35:07,242 INFO sqlalchemy.engine.base.Engine select version()\n",
      "2017-07-20 22:35:07,242 INFO sqlalchemy.engine.base.Engine {}\n",
      "2017-07-20 22:35:07,244 INFO sqlalchemy.engine.base.Engine select current_schema()\n",
      "2017-07-20 22:35:07,244 INFO sqlalchemy.engine.base.Engine {}\n",
      "2017-07-20 22:35:07,246 INFO sqlalchemy.engine.base.Engine SELECT CAST('test plain returns' AS VARCHAR(60)) AS anon_1\n",
      "2017-07-20 22:35:07,246 INFO sqlalchemy.engine.base.Engine {}\n",
      "2017-07-20 22:35:07,248 INFO sqlalchemy.engine.base.Engine SELECT CAST('test unicode returns' AS VARCHAR(60)) AS anon_1\n",
      "2017-07-20 22:35:07,248 INFO sqlalchemy.engine.base.Engine {}\n",
      "2017-07-20 22:35:07,250 INFO sqlalchemy.engine.base.Engine show standard_conforming_strings\n",
      "2017-07-20 22:35:07,250 INFO sqlalchemy.engine.base.Engine {}\n",
      "2017-07-20 22:35:07,251 INFO sqlalchemy.engine.base.Engine select date, time, open, close, low, high, volume, pair.\"name\" from candlestick, pair where candlestick.pair_id=pair.id and pair.\"name\"='USDT_ETC';\n",
      "2017-07-20 22:35:07,252 INFO sqlalchemy.engine.base.Engine {}\n",
      "START FIT MODEL...\n",
      "Learning time:  301.99461221694946\n",
      "Train Score: 0.55 RMSE\n"
     ]
    }
   ],
   "source": [
    "USDT_ETC = nextDayPrediction('USDT_ETC', N = 1)"
   ]
  },
  {
   "cell_type": "code",
   "execution_count": null,
   "metadata": {
    "collapsed": true
   },
   "outputs": [],
   "source": [
    "USDT_XRP = nextDayPrediction('USDT_XRP', N = 1)"
   ]
  },
  {
   "cell_type": "code",
   "execution_count": 10,
   "metadata": {},
   "outputs": [
    {
     "name": "stdout",
     "output_type": "stream",
     "text": [
      "USDT_BTC:\n",
      "             predictionPrice\n",
      "2017-07-21      2250.067871\n",
      "USDT_LTC:\n",
      "             predictionPrice\n",
      "2017-07-21        42.998005\n",
      "USDT_ETH:\n",
      "             predictionPrice\n",
      "2017-07-21       198.491074\n",
      "USDT_ETC:\n",
      "             predictionPrice\n",
      "2017-07-21        16.313128\n"
     ]
    },
    {
     "ename": "NameError",
     "evalue": "name 'USDT_XRP' is not defined",
     "output_type": "error",
     "traceback": [
      "\u001b[0;31m---------------------------------------------------------------------------\u001b[0m",
      "\u001b[0;31mNameError\u001b[0m                                 Traceback (most recent call last)",
      "\u001b[0;32m<ipython-input-10-9a09c03f2c05>\u001b[0m in \u001b[0;36m<module>\u001b[0;34m()\u001b[0m\n\u001b[1;32m      3\u001b[0m \u001b[0mprint\u001b[0m \u001b[0;34m(\u001b[0m\u001b[0;34m'USDT_ETH:\\n'\u001b[0m\u001b[0;34m,\u001b[0m \u001b[0mUSDT_ETH\u001b[0m\u001b[0;34m)\u001b[0m\u001b[0;34m\u001b[0m\u001b[0m\n\u001b[1;32m      4\u001b[0m \u001b[0mprint\u001b[0m \u001b[0;34m(\u001b[0m\u001b[0;34m'USDT_ETC:\\n'\u001b[0m\u001b[0;34m,\u001b[0m \u001b[0mUSDT_ETC\u001b[0m\u001b[0;34m)\u001b[0m\u001b[0;34m\u001b[0m\u001b[0m\n\u001b[0;32m----> 5\u001b[0;31m \u001b[0mprint\u001b[0m \u001b[0;34m(\u001b[0m\u001b[0;34m'USDT_XRP:\\n'\u001b[0m\u001b[0;34m,\u001b[0m \u001b[0mUSDT_XRP\u001b[0m\u001b[0;34m)\u001b[0m\u001b[0;34m\u001b[0m\u001b[0m\n\u001b[0m",
      "\u001b[0;31mNameError\u001b[0m: name 'USDT_XRP' is not defined"
     ]
    }
   ],
   "source": [
    "print ('USDT_BTC:\\n', USDT_BTC)\n",
    "print ('USDT_LTC:\\n', USDT_LTC)\n",
    "print ('USDT_ETH:\\n', USDT_ETH)\n",
    "print ('USDT_ETC:\\n', USDT_ETC)\n",
    "print ('USDT_XRP:\\n', USDT_XRP)"
   ]
  },
  {
   "cell_type": "code",
   "execution_count": null,
   "metadata": {
    "collapsed": true
   },
   "outputs": [],
   "source": []
  }
 ],
 "metadata": {
  "kernelspec": {
   "display_name": "Python 3",
   "language": "python",
   "name": "python3"
  },
  "language_info": {
   "codemirror_mode": {
    "name": "ipython",
    "version": 3
   },
   "file_extension": ".py",
   "mimetype": "text/x-python",
   "name": "python",
   "nbconvert_exporter": "python",
   "pygments_lexer": "ipython3",
   "version": "3.6.1"
  }
 },
 "nbformat": 4,
 "nbformat_minor": 2
}
