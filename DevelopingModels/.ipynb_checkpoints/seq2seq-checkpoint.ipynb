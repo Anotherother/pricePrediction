{
 "cells": [
  {
   "cell_type": "markdown",
   "metadata": {},
   "source": [
    "Here we inplement seq2seq architecture LSTM for timeSeries prediction"
   ]
  },
  {
   "cell_type": "code",
   "execution_count": 1,
   "metadata": {},
   "outputs": [
    {
     "name": "stderr",
     "output_type": "stream",
     "text": [
      "Using TensorFlow backend.\n"
     ]
    },
    {
     "name": "stdout",
     "output_type": "stream",
     "text": [
      "Couldn't import dot_parser, loading of dot files will not be possible.\n"
     ]
    },
    {
     "data": {
      "text/html": [
       "<script>requirejs.config({paths: { 'plotly': ['https://cdn.plot.ly/plotly-latest.min']},});if(!window.Plotly) {{require(['plotly'],function(plotly) {window.Plotly=plotly;});}}</script>"
      ],
      "text/vnd.plotly.v1+html": [
       "<script>requirejs.config({paths: { 'plotly': ['https://cdn.plot.ly/plotly-latest.min']},});if(!window.Plotly) {{require(['plotly'],function(plotly) {window.Plotly=plotly;});}}</script>"
      ]
     },
     "metadata": {},
     "output_type": "display_data"
    }
   ],
   "source": [
    "import pandas as pd\n",
    "import numpy as np\n",
    "\n",
    "import matplotlib.pyplot as plt\n",
    "\n",
    "import keras\n",
    "from scipy import stats\n",
    "from keras.layers.core import Dense, Activation, Dropout\n",
    "from keras.layers.recurrent import LSTM\n",
    "from keras.models import Sequential, load_model, save_model\n",
    "\n",
    "import datetime \n",
    "import seaborn as sns\n",
    "from pylab import rcParams\n",
    "from sklearn.preprocessing import MinMaxScaler\n",
    "from sklearn import metrics\n",
    "import time\n",
    "\n",
    "import plotly as py\n",
    "import plotly.graph_objs as go\n",
    "from plotly.offline import init_notebook_mode, iplot\n",
    "\n",
    "import sqlalchemy\n",
    "import math\n",
    "\n",
    "init_notebook_mode(connected=True)\n",
    "\n",
    "%matplotlib inline\n",
    "\n",
    "sns.set(style='whitegrid', palette='muted', font_scale=1.5)\n",
    "rcParams['figure.figsize'] = 14, 8"
   ]
  },
  {
   "cell_type": "code",
   "execution_count": 2,
   "metadata": {
    "collapsed": true
   },
   "outputs": [],
   "source": [
    "def connect(user, password, db, host: str, port: int, echo=False):\n",
    "    url = 'postgresql+psycopg2://{}:{}@{}:{}/{}'\n",
    "    url = url.format(user, password, host, port, db)\n",
    "    eng = sqlalchemy.create_engine(url, client_encoding='utf8', echo=echo)\n",
    "    meta = sqlalchemy.MetaData(bind=eng)\n",
    "    return eng, meta\n",
    "\n",
    "def get_data_frame(pair: str = 'USDT_BTC', exchange: str = 'poloniex') -> pd.DataFrame:\n",
    "\n",
    "    engine, meta = connect(user='postgres', password='password', db='btccandles', host='94.230.125.199', port=16432)\n",
    "    df = pd.read_sql_query(\n",
    "        \"SELECT date, time, open, close, low, high, volume, pair.\\\"name\\\"\"\n",
    "        \"FROM candlestick, pair WHERE candlestick.pair_id = pair.id AND pair.id IN (\"\n",
    "        \"SELECT pair.id FROM pair, exchange WHERE (\"\n",
    "        \"SELECT pair.id FROM pair WHERE pair.name = '\" + pair +\n",
    "        \"') = pair.alias_id AND pair.exchange_id = (SELECT exchange.id FROM exchange WHERE exchange.\\\"name\\\" = '\" + exchange + \"')) ORDER BY candlestick.date;\",\n",
    "        con=engine)\n",
    "    return df"
   ]
  },
  {
   "cell_type": "code",
   "execution_count": 3,
   "metadata": {
    "collapsed": true,
    "scrolled": false
   },
   "outputs": [],
   "source": [
    "def load_data(X, seq_len):\n",
    "    train_size=1\n",
    "    amount_of_features = X.shape[1] \n",
    "    X_mat = X.as_matrix() \n",
    "    \n",
    "    sequence_length = seq_len + 1 \n",
    "    data = []\n",
    "\n",
    "    for index in range(len(X_mat) + 1 - sequence_length):\n",
    "        data.append(X_mat[index: index + sequence_length])\n",
    "    \n",
    "    data = np.array(data)\n",
    "    train_split = int(round(train_size * data.shape[0]))\n",
    "    train_data = data[:train_split, :]\n",
    "    \n",
    "    x_train = train_data[:, :-1]\n",
    "    y_train = train_data[:, -1][:,-1]\n",
    "    \n",
    "    x_test = data[train_split:, :-1] \n",
    "    y_test = data[train_split:, -1][:,-1]\n",
    "\n",
    "    x_train = np.reshape(x_train, (x_train.shape[0], x_train.shape[1], amount_of_features))\n",
    "    x_test = np.reshape(x_test, (x_test.shape[0], x_test.shape[1], amount_of_features))  \n",
    "\n",
    "    return x_train, y_train, x_test, y_test\n",
    "\n",
    "def seq2seq(layers):\n",
    "        d = 0.3\n",
    "        model = Sequential()\n",
    "        \n",
    "        # Encoder\n",
    "        model.add(LSTM(128, input_shape=(layers[1], layers[0]), return_sequences=True))\n",
    "        model.add(Dropout(d))\n",
    "        \n",
    "        # Decoder\n",
    "        model.add(LSTM(64, input_shape=(layers[1], layers[0]), return_sequences=False))\n",
    "        model.add(Dropout(d))\n",
    "        \n",
    "        model.add(Dense(16, activation='relu'))         \n",
    "        model.add(Dense(1, activation='linear'))\n",
    "        \n",
    "        start = time.time()\n",
    "        model.compile(loss='mse',optimizer='rmsprop',metrics=['accuracy'])\n",
    "        print(\"Compilation Time : \", time.time() - start)\n",
    "        \n",
    "        return model"
   ]
  },
  {
   "cell_type": "code",
   "execution_count": 6,
   "metadata": {},
   "outputs": [
    {
     "name": "stdout",
     "output_type": "stream",
     "text": [
      "X_train: (703, 22, 3)\n",
      "y_train: (703,)\n",
      "X_test: (0, 22, 3)\n",
      "y_test: (0,)\n",
      "Compilation Time :  0.015163183212280273\n"
     ]
    }
   ],
   "source": [
    "from sklearn.preprocessing import MinMaxScaler\n",
    "\n",
    "# Предобраотка данных\n",
    "data = get_data_frame()\n",
    "data = data[['open', 'high', 'low', 'close']]\n",
    "\n",
    "x_scaler = MinMaxScaler()\n",
    "y_scaler = MinMaxScaler()\n",
    "\n",
    "x = data[['open', 'high', 'low']].copy()\n",
    "y = data['close'].copy()\n",
    "\n",
    "x[['open', 'high', 'low']] = x_scaler.fit_transform(x)\n",
    "\n",
    "y = y_scaler.fit_transform(y.values.reshape(-1, 1))\n",
    "\n",
    "\n",
    "seq_length = 22\n",
    "\n",
    "# Загружаемся. Бьем на блоки размерностью длины подпоследовательности\n",
    "\n",
    "X_train, y_train, X_test, y_test = load_data(x, seq_length)\n",
    "\n",
    "print(\"X_train:\", X_train.shape)\n",
    "print(\"y_train:\", y_train.shape)\n",
    "\n",
    "print(\"X_test:\", X_test.shape)\n",
    "print(\"y_test:\", y_test.shape)\n",
    "\n",
    "# здесь повнимательнее с шейпами. первый параметр - шейп данных (data.shape[0])\n",
    "\n",
    "model = seq2seq([3, seq_length ,1])"
   ]
  },
  {
   "cell_type": "code",
   "execution_count": 10,
   "metadata": {
    "scrolled": true
   },
   "outputs": [
    {
     "name": "stdout",
     "output_type": "stream",
     "text": [
      "Train on 632 samples, validate on 71 samples\n",
      "Epoch 1/100\n",
      "632/632 [==============================] - 1s - loss: 0.0055 - acc: 0.0000e+00 - val_loss: 0.0776 - val_acc: 0.0141\n",
      "Epoch 2/100\n",
      "632/632 [==============================] - 0s - loss: 0.0015 - acc: 0.0000e+00 - val_loss: 0.0733 - val_acc: 0.0141\n",
      "Epoch 3/100\n",
      "632/632 [==============================] - 0s - loss: 0.0017 - acc: 0.0000e+00 - val_loss: 0.0909 - val_acc: 0.0141\n",
      "Epoch 4/100\n",
      "632/632 [==============================] - 0s - loss: 0.0016 - acc: 0.0000e+00 - val_loss: 0.0084 - val_acc: 0.0141\n",
      "Epoch 5/100\n",
      "632/632 [==============================] - 0s - loss: 0.0013 - acc: 0.0000e+00 - val_loss: 0.0122 - val_acc: 0.0141\n",
      "Epoch 6/100\n",
      "632/632 [==============================] - 0s - loss: 0.0013 - acc: 0.0000e+00 - val_loss: 0.0113 - val_acc: 0.0141\n",
      "Epoch 7/100\n",
      "632/632 [==============================] - 0s - loss: 0.0011 - acc: 0.0000e+00 - val_loss: 0.0388 - val_acc: 0.0141\n",
      "Epoch 8/100\n",
      "632/632 [==============================] - 0s - loss: 0.0011 - acc: 0.0000e+00 - val_loss: 0.0090 - val_acc: 0.0141\n",
      "Epoch 9/100\n",
      "632/632 [==============================] - 0s - loss: 0.0010 - acc: 0.0000e+00 - val_loss: 0.0483 - val_acc: 0.0141\n",
      "Epoch 10/100\n",
      "632/632 [==============================] - 0s - loss: 0.0011 - acc: 0.0000e+00 - val_loss: 0.0388 - val_acc: 0.0141\n",
      "Epoch 11/100\n",
      "632/632 [==============================] - 0s - loss: 0.0011 - acc: 0.0000e+00 - val_loss: 0.0071 - val_acc: 0.0141\n",
      "Epoch 12/100\n",
      "632/632 [==============================] - 0s - loss: 7.9734e-04 - acc: 0.0000e+00 - val_loss: 0.0152 - val_acc: 0.0141\n",
      "Epoch 13/100\n",
      "632/632 [==============================] - 0s - loss: 0.0010 - acc: 0.0000e+00 - val_loss: 0.0070 - val_acc: 0.0141\n",
      "Epoch 14/100\n",
      "632/632 [==============================] - 0s - loss: 7.6669e-04 - acc: 0.0000e+00 - val_loss: 0.0122 - val_acc: 0.0141\n",
      "Epoch 15/100\n",
      "632/632 [==============================] - 0s - loss: 9.0337e-04 - acc: 0.0000e+00 - val_loss: 0.0125 - val_acc: 0.0141\n",
      "Epoch 16/100\n",
      "632/632 [==============================] - 0s - loss: 6.5971e-04 - acc: 0.0000e+00 - val_loss: 0.0117 - val_acc: 0.0141\n",
      "Epoch 17/100\n",
      "632/632 [==============================] - 0s - loss: 8.4709e-04 - acc: 0.0000e+00 - val_loss: 0.0090 - val_acc: 0.0141\n",
      "Epoch 18/100\n",
      "632/632 [==============================] - 0s - loss: 9.4778e-04 - acc: 0.0000e+00 - val_loss: 0.0119 - val_acc: 0.0141\n",
      "Epoch 19/100\n",
      "632/632 [==============================] - 0s - loss: 6.9260e-04 - acc: 0.0000e+00 - val_loss: 0.0067 - val_acc: 0.0141\n",
      "Epoch 20/100\n",
      "632/632 [==============================] - 0s - loss: 7.2799e-04 - acc: 0.0000e+00 - val_loss: 0.0265 - val_acc: 0.0141\n",
      "Epoch 21/100\n",
      "632/632 [==============================] - 0s - loss: 7.2041e-04 - acc: 0.0000e+00 - val_loss: 0.0067 - val_acc: 0.0141\n",
      "Epoch 22/100\n",
      "632/632 [==============================] - 0s - loss: 7.2642e-04 - acc: 0.0000e+00 - val_loss: 0.0078 - val_acc: 0.0141\n",
      "Epoch 23/100\n",
      "632/632 [==============================] - 0s - loss: 7.0512e-04 - acc: 0.0000e+00 - val_loss: 0.0062 - val_acc: 0.0141\n",
      "Epoch 24/100\n",
      "632/632 [==============================] - 0s - loss: 5.6967e-04 - acc: 0.0000e+00 - val_loss: 0.0133 - val_acc: 0.0141\n",
      "Epoch 25/100\n",
      "632/632 [==============================] - 0s - loss: 6.0791e-04 - acc: 0.0000e+00 - val_loss: 0.0165 - val_acc: 0.0141\n",
      "Epoch 26/100\n",
      "632/632 [==============================] - 0s - loss: 4.8244e-04 - acc: 0.0000e+00 - val_loss: 0.0307 - val_acc: 0.0141\n",
      "Epoch 27/100\n",
      "632/632 [==============================] - 0s - loss: 5.5690e-04 - acc: 0.0000e+00 - val_loss: 0.0066 - val_acc: 0.0141\n",
      "Epoch 28/100\n",
      "632/632 [==============================] - 0s - loss: 5.4265e-04 - acc: 0.0000e+00 - val_loss: 0.0123 - val_acc: 0.0141\n",
      "Epoch 29/100\n",
      "632/632 [==============================] - 0s - loss: 6.0353e-04 - acc: 0.0000e+00 - val_loss: 0.0062 - val_acc: 0.0141\n",
      "Epoch 30/100\n",
      "632/632 [==============================] - 0s - loss: 4.9691e-04 - acc: 0.0000e+00 - val_loss: 0.0079 - val_acc: 0.0141\n",
      "Epoch 31/100\n",
      "632/632 [==============================] - 0s - loss: 6.0049e-04 - acc: 0.0000e+00 - val_loss: 0.0068 - val_acc: 0.0141\n",
      "Epoch 32/100\n",
      "632/632 [==============================] - 0s - loss: 4.5314e-04 - acc: 0.0000e+00 - val_loss: 0.0156 - val_acc: 0.0141\n",
      "Epoch 33/100\n",
      "632/632 [==============================] - 0s - loss: 5.4758e-04 - acc: 0.0000e+00 - val_loss: 0.0055 - val_acc: 0.0141\n",
      "Epoch 34/100\n",
      "632/632 [==============================] - 0s - loss: 5.6691e-04 - acc: 0.0000e+00 - val_loss: 0.0088 - val_acc: 0.0141\n",
      "Epoch 35/100\n",
      "632/632 [==============================] - 0s - loss: 4.8815e-04 - acc: 0.0000e+00 - val_loss: 0.0078 - val_acc: 0.0141\n",
      "Epoch 36/100\n",
      "632/632 [==============================] - 0s - loss: 3.8754e-04 - acc: 0.0000e+00 - val_loss: 0.0057 - val_acc: 0.0141\n",
      "Epoch 37/100\n",
      "632/632 [==============================] - 0s - loss: 5.7809e-04 - acc: 0.0000e+00 - val_loss: 0.0083 - val_acc: 0.0141\n",
      "Epoch 38/100\n",
      "632/632 [==============================] - 0s - loss: 5.1583e-04 - acc: 0.0000e+00 - val_loss: 0.0154 - val_acc: 0.0141\n",
      "Epoch 39/100\n",
      "632/632 [==============================] - 0s - loss: 5.4914e-04 - acc: 0.0000e+00 - val_loss: 0.0080 - val_acc: 0.0141\n",
      "Epoch 40/100\n",
      "632/632 [==============================] - 0s - loss: 4.8963e-04 - acc: 0.0000e+00 - val_loss: 0.0119 - val_acc: 0.0141\n",
      "Epoch 41/100\n",
      "632/632 [==============================] - 0s - loss: 3.8099e-04 - acc: 0.0000e+00 - val_loss: 0.0211 - val_acc: 0.0141\n",
      "Epoch 42/100\n",
      "632/632 [==============================] - 0s - loss: 4.6120e-04 - acc: 0.0000e+00 - val_loss: 0.0079 - val_acc: 0.0141\n",
      "Epoch 43/100\n",
      "632/632 [==============================] - 0s - loss: 5.1941e-04 - acc: 0.0000e+00 - val_loss: 0.0051 - val_acc: 0.0141\n",
      "Epoch 44/100\n",
      "632/632 [==============================] - 0s - loss: 4.0838e-04 - acc: 0.0000e+00 - val_loss: 0.0098 - val_acc: 0.0141\n",
      "Epoch 45/100\n",
      "632/632 [==============================] - 0s - loss: 3.9774e-04 - acc: 0.0000e+00 - val_loss: 0.0053 - val_acc: 0.0141\n",
      "Epoch 46/100\n",
      "632/632 [==============================] - 0s - loss: 4.1348e-04 - acc: 0.0000e+00 - val_loss: 0.0125 - val_acc: 0.0141\n",
      "Epoch 47/100\n",
      "632/632 [==============================] - 0s - loss: 5.1238e-04 - acc: 0.0000e+00 - val_loss: 0.0050 - val_acc: 0.0141\n",
      "Epoch 48/100\n",
      "632/632 [==============================] - 0s - loss: 3.8035e-04 - acc: 0.0000e+00 - val_loss: 0.0172 - val_acc: 0.0141\n",
      "Epoch 49/100\n",
      "632/632 [==============================] - 0s - loss: 4.3874e-04 - acc: 0.0000e+00 - val_loss: 0.0048 - val_acc: 0.0141\n",
      "Epoch 50/100\n",
      "632/632 [==============================] - 0s - loss: 4.0115e-04 - acc: 0.0000e+00 - val_loss: 0.0067 - val_acc: 0.0141\n",
      "Epoch 51/100\n",
      "632/632 [==============================] - 0s - loss: 4.8814e-04 - acc: 0.0000e+00 - val_loss: 0.0174 - val_acc: 0.0141\n",
      "Epoch 52/100\n",
      "632/632 [==============================] - 0s - loss: 3.7916e-04 - acc: 0.0000e+00 - val_loss: 0.0250 - val_acc: 0.0141\n",
      "Epoch 53/100\n",
      "632/632 [==============================] - 0s - loss: 4.6713e-04 - acc: 0.0000e+00 - val_loss: 0.0048 - val_acc: 0.0141\n",
      "Epoch 54/100\n",
      "632/632 [==============================] - 0s - loss: 4.1054e-04 - acc: 0.0000e+00 - val_loss: 0.0094 - val_acc: 0.0141\n",
      "Epoch 55/100\n",
      "632/632 [==============================] - 0s - loss: 4.9217e-04 - acc: 0.0000e+00 - val_loss: 0.0084 - val_acc: 0.0141\n",
      "Epoch 56/100\n",
      "632/632 [==============================] - 0s - loss: 3.9598e-04 - acc: 0.0000e+00 - val_loss: 0.0049 - val_acc: 0.0141\n",
      "Epoch 57/100\n",
      "632/632 [==============================] - 0s - loss: 3.6965e-04 - acc: 0.0000e+00 - val_loss: 0.0070 - val_acc: 0.0141\n",
      "Epoch 58/100\n",
      "632/632 [==============================] - 0s - loss: 4.1662e-04 - acc: 0.0000e+00 - val_loss: 0.0134 - val_acc: 0.0141\n",
      "Epoch 59/100\n",
      "632/632 [==============================] - 0s - loss: 4.1231e-04 - acc: 0.0000e+00 - val_loss: 0.0057 - val_acc: 0.0141\n",
      "Epoch 60/100\n",
      "632/632 [==============================] - 0s - loss: 3.8385e-04 - acc: 0.0000e+00 - val_loss: 0.0049 - val_acc: 0.0141\n",
      "Epoch 61/100\n",
      "632/632 [==============================] - 0s - loss: 4.3028e-04 - acc: 0.0000e+00 - val_loss: 0.0086 - val_acc: 0.0141\n",
      "Epoch 62/100\n"
     ]
    },
    {
     "name": "stdout",
     "output_type": "stream",
     "text": [
      "632/632 [==============================] - 0s - loss: 3.5889e-04 - acc: 0.0000e+00 - val_loss: 0.0060 - val_acc: 0.0141\n",
      "Epoch 63/100\n",
      "632/632 [==============================] - 0s - loss: 4.0966e-04 - acc: 0.0000e+00 - val_loss: 0.0046 - val_acc: 0.0141\n",
      "Epoch 64/100\n",
      "632/632 [==============================] - 0s - loss: 3.5817e-04 - acc: 0.0000e+00 - val_loss: 0.0051 - val_acc: 0.0141\n",
      "Epoch 65/100\n",
      "632/632 [==============================] - 0s - loss: 3.6001e-04 - acc: 0.0000e+00 - val_loss: 0.0098 - val_acc: 0.0141\n",
      "Epoch 66/100\n",
      "632/632 [==============================] - 0s - loss: 3.6243e-04 - acc: 0.0000e+00 - val_loss: 0.0046 - val_acc: 0.0141\n",
      "Epoch 67/100\n",
      "632/632 [==============================] - 0s - loss: 3.7499e-04 - acc: 0.0000e+00 - val_loss: 0.0045 - val_acc: 0.0141\n",
      "Epoch 68/100\n",
      "632/632 [==============================] - 0s - loss: 4.2228e-04 - acc: 0.0000e+00 - val_loss: 0.0044 - val_acc: 0.0141\n",
      "Epoch 69/100\n",
      "632/632 [==============================] - 0s - loss: 3.3644e-04 - acc: 0.0000e+00 - val_loss: 0.0094 - val_acc: 0.0141\n",
      "Epoch 70/100\n",
      "632/632 [==============================] - 0s - loss: 3.6135e-04 - acc: 0.0000e+00 - val_loss: 0.0052 - val_acc: 0.0141\n",
      "Epoch 71/100\n",
      "632/632 [==============================] - 0s - loss: 3.6967e-04 - acc: 0.0000e+00 - val_loss: 0.0072 - val_acc: 0.0141\n",
      "Epoch 72/100\n",
      "632/632 [==============================] - 0s - loss: 3.9873e-04 - acc: 0.0000e+00 - val_loss: 0.0050 - val_acc: 0.0141\n",
      "Epoch 73/100\n",
      "632/632 [==============================] - 0s - loss: 3.7438e-04 - acc: 0.0000e+00 - val_loss: 0.0048 - val_acc: 0.0141\n",
      "Epoch 74/100\n",
      "632/632 [==============================] - 0s - loss: 3.4141e-04 - acc: 0.0000e+00 - val_loss: 0.0061 - val_acc: 0.0141\n",
      "Epoch 75/100\n",
      "632/632 [==============================] - 0s - loss: 3.5129e-04 - acc: 0.0000e+00 - val_loss: 0.0045 - val_acc: 0.0141\n",
      "Epoch 76/100\n",
      "632/632 [==============================] - 0s - loss: 4.0683e-04 - acc: 0.0000e+00 - val_loss: 0.0063 - val_acc: 0.0141\n",
      "Epoch 77/100\n",
      "632/632 [==============================] - 0s - loss: 3.9726e-04 - acc: 0.0000e+00 - val_loss: 0.0044 - val_acc: 0.0141\n",
      "Epoch 78/100\n",
      "632/632 [==============================] - 0s - loss: 3.7624e-04 - acc: 0.0000e+00 - val_loss: 0.0044 - val_acc: 0.0141\n",
      "Epoch 79/100\n",
      "632/632 [==============================] - 0s - loss: 3.2093e-04 - acc: 0.0000e+00 - val_loss: 0.0057 - val_acc: 0.0141\n",
      "Epoch 80/100\n",
      "632/632 [==============================] - 0s - loss: 3.9689e-04 - acc: 0.0000e+00 - val_loss: 0.0041 - val_acc: 0.0141\n",
      "Epoch 81/100\n",
      "632/632 [==============================] - 0s - loss: 3.4235e-04 - acc: 0.0000e+00 - val_loss: 0.0057 - val_acc: 0.0141\n",
      "Epoch 82/100\n",
      "632/632 [==============================] - 0s - loss: 3.4179e-04 - acc: 0.0000e+00 - val_loss: 0.0048 - val_acc: 0.0141\n",
      "Epoch 83/100\n",
      "632/632 [==============================] - 0s - loss: 3.4089e-04 - acc: 0.0000e+00 - val_loss: 0.0042 - val_acc: 0.0141\n",
      "Epoch 84/100\n",
      "632/632 [==============================] - 0s - loss: 3.8355e-04 - acc: 0.0000e+00 - val_loss: 0.0056 - val_acc: 0.0141\n",
      "Epoch 85/100\n",
      "632/632 [==============================] - 0s - loss: 2.9641e-04 - acc: 0.0000e+00 - val_loss: 0.0040 - val_acc: 0.0141\n",
      "Epoch 86/100\n",
      "632/632 [==============================] - 0s - loss: 3.9580e-04 - acc: 0.0000e+00 - val_loss: 0.0063 - val_acc: 0.0141\n",
      "Epoch 87/100\n",
      "632/632 [==============================] - 0s - loss: 3.9418e-04 - acc: 0.0000e+00 - val_loss: 0.0116 - val_acc: 0.0141\n",
      "Epoch 88/100\n",
      "632/632 [==============================] - 0s - loss: 3.6169e-04 - acc: 0.0000e+00 - val_loss: 0.0044 - val_acc: 0.0141\n",
      "Epoch 89/100\n",
      "632/632 [==============================] - 0s - loss: 3.5150e-04 - acc: 0.0000e+00 - val_loss: 0.0038 - val_acc: 0.0141\n",
      "Epoch 90/100\n",
      "632/632 [==============================] - 0s - loss: 3.6102e-04 - acc: 0.0000e+00 - val_loss: 0.0040 - val_acc: 0.0141\n",
      "Epoch 91/100\n",
      "632/632 [==============================] - 0s - loss: 3.0927e-04 - acc: 0.0000e+00 - val_loss: 0.0040 - val_acc: 0.0141\n",
      "Epoch 92/100\n",
      "632/632 [==============================] - 0s - loss: 3.7226e-04 - acc: 0.0000e+00 - val_loss: 0.0052 - val_acc: 0.0141\n",
      "Epoch 93/100\n",
      "632/632 [==============================] - 0s - loss: 3.1373e-04 - acc: 0.0000e+00 - val_loss: 0.0046 - val_acc: 0.0141\n",
      "Epoch 94/100\n",
      "632/632 [==============================] - 0s - loss: 4.1472e-04 - acc: 0.0000e+00 - val_loss: 0.0145 - val_acc: 0.0141\n",
      "Epoch 95/100\n",
      "632/632 [==============================] - 0s - loss: 3.8416e-04 - acc: 0.0000e+00 - val_loss: 0.0048 - val_acc: 0.0141\n",
      "Epoch 96/100\n",
      "632/632 [==============================] - 0s - loss: 3.4552e-04 - acc: 0.0000e+00 - val_loss: 0.0038 - val_acc: 0.0141\n",
      "Epoch 97/100\n",
      "632/632 [==============================] - 0s - loss: 3.5027e-04 - acc: 0.0000e+00 - val_loss: 0.0077 - val_acc: 0.0141\n",
      "Epoch 98/100\n",
      "632/632 [==============================] - 0s - loss: 3.3111e-04 - acc: 0.0000e+00 - val_loss: 0.0037 - val_acc: 0.0141\n",
      "Epoch 99/100\n",
      "632/632 [==============================] - 0s - loss: 4.4903e-04 - acc: 0.0000e+00 - val_loss: 0.0057 - val_acc: 0.0141\n",
      "Epoch 100/100\n",
      "632/632 [==============================] - 0s - loss: 3.2135e-04 - acc: 0.0000e+00 - val_loss: 0.0040 - val_acc: 0.0141\n"
     ]
    },
    {
     "data": {
      "text/plain": [
       "<keras.callbacks.History at 0x7f68315af860>"
      ]
     },
     "execution_count": 10,
     "metadata": {},
     "output_type": "execute_result"
    }
   ],
   "source": [
    "model.fit(\n",
    "    X_train,\n",
    "    y_train,\n",
    "    batch_size=32,\n",
    "    epochs=100,\n",
    "    validation_split=0.1,\n",
    "    verbose=1\n",
    "    )"
   ]
  },
  {
   "cell_type": "code",
   "execution_count": 11,
   "metadata": {
    "collapsed": true
   },
   "outputs": [],
   "source": [
    "def makePrediction(test = False, train= False):\n",
    "    \n",
    "    if test == True:\n",
    "        test_predict = model.predict(X_test)\n",
    "        testScore = metrics.mean_squared_error(y_scaler.inverse_transform(y_test), \\\n",
    "                                               y_scaler.inverse_transform(test_predict)) ** .5\n",
    "        print('Test Score: %.2f RMSE' % (testScore))\n",
    "        \n",
    "        plt.plot(y_scaler.inverse_transform(test_predict) ,color='red', label='prediction')\n",
    "        plt.plot(y_scaler.inverse_transform(y_test) ,color='blue', label='y_test')\n",
    "        plt.legend()\n",
    "        plt.show()\n",
    "        \n",
    "    if train == True:\n",
    "        train_predict = model.predict(X_train)\n",
    "        trainScore = metrics.mean_squared_error(y_train, \\\n",
    "                                                y_scaler.inverse_transform(train_predict)) ** .5\n",
    "        print('Train Score: %.2f RMSE' % (trainScore))\n",
    "        \n",
    "        plt.plot(y_scaler.inverse_transform(train_predict) ,color='yellow', label='train_prediction')\n",
    "        plt.plot(y_scaler.inverse_transform(y_train) ,color='green', label='y_train')\n",
    "        plt.legend()\n",
    "        plt.show()"
   ]
  },
  {
   "cell_type": "code",
   "execution_count": 12,
   "metadata": {
    "scrolled": false
   },
   "outputs": [
    {
     "name": "stdout",
     "output_type": "stream",
     "text": [
      "Train Score: 1031.12 RMSE\n"
     ]
    },
    {
     "name": "stderr",
     "output_type": "stream",
     "text": [
      "/root/anaconda/lib/python3.6/site-packages/sklearn/preprocessing/data.py:374: DeprecationWarning:\n",
      "\n",
      "Passing 1d arrays as data is deprecated in 0.17 and will raise ValueError in 0.19. Reshape your data either using X.reshape(-1, 1) if your data has a single feature or X.reshape(1, -1) if it contains a single sample.\n",
      "\n"
     ]
    },
    {
     "data": {
      "image/png": "[encoded data removed]",
      "text/plain": [
       "<matplotlib.figure.Figure at 0x7f68314fc1d0>"
      ]
     },
     "metadata": {},
     "output_type": "display_data"
    }
   ],
   "source": [
    "# Тестируем предикты на исходной модели (обучение на батчах трейна)\n",
    "makePrediction(train = True)"
   ]
  },
  {
   "cell_type": "code",
   "execution_count": 26,
   "metadata": {},
   "outputs": [
    {
     "name": "stdout",
     "output_type": "stream",
     "text": [
      "Last Value:  [ 2565.99999948]\n",
      "[[ 2616.19311523]]\n"
     ]
    },
    {
     "name": "stderr",
     "output_type": "stream",
     "text": [
      "/root/anaconda/lib/python3.6/site-packages/sklearn/preprocessing/data.py:374: DeprecationWarning:\n",
      "\n",
      "Passing 1d arrays as data is deprecated in 0.17 and will raise ValueError in 0.19. Reshape your data either using X.reshape(-1, 1) if your data has a single feature or X.reshape(1, -1) if it contains a single sample.\n",
      "\n"
     ]
    }
   ],
   "source": [
    "# Предсказываем значение на день вперед\n",
    "\n",
    "lastbatch = np.asarray(x[-seq_length:])\n",
    "next_day = y_scaler.inverse_transform(model.predict([lastbatch.reshape(1,22, 3)]))\n",
    "print (\"Last Value: \", y_scaler.inverse_transform(y[-1]))\n",
    "print (next_day)"
   ]
  },
  {
   "cell_type": "code",
   "execution_count": 27,
   "metadata": {},
   "outputs": [
    {
     "name": "stdout",
     "output_type": "stream",
     "text": [
      "----------\n",
      "STOCK:poloniex, type:USDT_BTC\n",
      "\n",
      "Change between last (2565.999999) and predicted values(2616.193115) = 1.956085 perc.\n",
      "PositiveTrend\n"
     ]
    }
   ],
   "source": [
    "tb = 'USDT_BTC'\n",
    "st = 'poloniex'\n",
    "\n",
    "def checkTrend(typeBlockchain, stock, predicted):\n",
    "    \n",
    "    df = get_data_frame(typeBlockchain, stock)\n",
    "    lastValue = df.close[df.shape[0]-1]\n",
    "\n",
    "    change = (predicted * 100 / lastValue) - 100 \n",
    "    if change > 0:\n",
    "        mark = 'PositiveTrend'\n",
    "    else: mark = 'NegativeTrend'\n",
    "        \n",
    "    print ('-'*10 + '\\nSTOCK:%s, type:%s\\n'%(stock, typeBlockchain))\n",
    "    print ('Change between last (%f) and predicted values(%f) = %f perc.\\n%s' \\\n",
    "           % (lastValue, predicted, change, mark))\n",
    "    \n",
    "checkTrend(tb, st, next_day)"
   ]
  }
 ],
 "metadata": {
  "kernelspec": {
   "display_name": "Python 3",
   "language": "python",
   "name": "python3"
  },
  "language_info": {
   "codemirror_mode": {
    "name": "ipython",
    "version": 3
   },
   "file_extension": ".py",
   "mimetype": "text/x-python",
   "name": "python",
   "nbconvert_exporter": "python",
   "pygments_lexer": "ipython3",
   "version": "3.6.1"
  }
 },
 "nbformat": 4,
 "nbformat_minor": 2
}
