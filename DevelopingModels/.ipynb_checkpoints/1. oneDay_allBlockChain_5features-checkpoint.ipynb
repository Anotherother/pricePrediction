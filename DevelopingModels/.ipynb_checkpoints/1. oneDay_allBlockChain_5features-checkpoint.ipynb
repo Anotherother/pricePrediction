{
 "cells": [
  {
   "cell_type": "code",
   "execution_count": 9,
   "metadata": {},
   "outputs": [
    {
     "data": {
      "text/html": [
       "<script>requirejs.config({paths: { 'plotly': ['https://cdn.plot.ly/plotly-latest.min']},});if(!window.Plotly) {{require(['plotly'],function(plotly) {window.Plotly=plotly;});}}</script>"
      ],
      "text/vnd.plotly.v1+html": [
       "<script>requirejs.config({paths: { 'plotly': ['https://cdn.plot.ly/plotly-latest.min']},});if(!window.Plotly) {{require(['plotly'],function(plotly) {window.Plotly=plotly;});}}</script>"
      ]
     },
     "metadata": {},
     "output_type": "display_data"
    }
   ],
   "source": [
    "import pandas as pd\n",
    "import numpy as np\n",
    "import pickle\n",
    "import matplotlib.pyplot as plt\n",
    "from scipy import stats\n",
    "from keras.layers.core import Dense, Activation, Dropout\n",
    "from keras.layers.recurrent import LSTM\n",
    "from keras.models import Sequential, load_model, save_model\n",
    "import datetime \n",
    "import seaborn as sns\n",
    "from pylab import rcParams\n",
    "from sklearn.preprocessing import MinMaxScaler\n",
    "from sklearn import metrics\n",
    "import time\n",
    "\n",
    "import plotly as py\n",
    "import plotly.graph_objs as go\n",
    "from plotly.offline import init_notebook_mode, iplot\n",
    "\n",
    "import sqlalchemy\n",
    "\n",
    "init_notebook_mode(connected=True)\n",
    "\n",
    "%matplotlib inline\n",
    "\n",
    "sns.set(style='whitegrid', palette='muted', font_scale=1.5)\n",
    "\n",
    "rcParams['figure.figsize'] = 14, 8\n",
    "\n",
    "RANDOM_SEED = 42\n",
    "\n",
    "WINDOW = 22"
   ]
  },
  {
   "cell_type": "code",
   "execution_count": 10,
   "metadata": {
    "collapsed": true
   },
   "outputs": [],
   "source": [
    "\"\"\"\n",
    "Парсинг данных\n",
    "\n",
    "\"\"\"\n",
    "def connect(user, password, db, host: str, port: int, echo=True):\n",
    "    url = 'postgresql+psycopg2://{}:{}@{}:{}/{}'\n",
    "    url = url.format(user, password, host, port, db)\n",
    "    eng = sqlalchemy.create_engine(url, client_encoding='utf8', echo=echo)\n",
    "    meta = sqlalchemy.MetaData(bind=eng)\n",
    "\n",
    "    return eng, meta\n",
    "\n",
    "\n",
    "def get_data_frame(pair: str = 'USDT_BTC') -> pd.DataFrame:\n",
    "    \"\"\"Метод стягивания данных из базы в датафрейм.\n",
    "    По умолчанию тянет все значения в базе для валютной пары доллар биткоин.\n",
    "    Список спаршенных пар смотри в таблице Pair\n",
    "    Цепляться будет отовсюду где есть инетрнет\"\"\"\n",
    "    engine, meta = connect(user='postgres', password='password', db='btccandles', host='176.212.125.30', port=16432)\n",
    "    df = pd.read_sql_query(\n",
    "        'select date, time, open, close, low, high, volume, pair.\"name\" from candlestick, pair '\n",
    "        'where candlestick.pair_id=pair.id and pair.\"name\"=\\'' + pair + '\\';',\n",
    "        con=engine)\n",
    "    return df\n",
    "\n",
    "\"\"\"\n",
    "Загрузка данных\n",
    "\"\"\"\n",
    "def load_data(X, seq_len, train_size=1):\n",
    "    \n",
    "    amount_of_features = X.shape[1] \n",
    "    X_mat = X.as_matrix() \n",
    "    \n",
    "    sequence_length = seq_len + 1 \n",
    "    data = []\n",
    "    \n",
    "    for index in range(len(X_mat) - sequence_length):\n",
    "        data.append(X_mat[index: index + sequence_length])\n",
    "    \n",
    "    data = np.array(data)\n",
    "    train_split = int(round(train_size * data.shape[0]))\n",
    "    train_data = data[:train_split, :]\n",
    "    \n",
    "    x_train = train_data[:, :-1]\n",
    "    y_train = train_data[:, -1][:,-1]\n",
    "    \n",
    "    x_train = np.reshape(x_train, (x_train.shape[0], x_train.shape[1], amount_of_features))\n",
    "\n",
    "    return x_train, y_train\n",
    "\n",
    "\"\"\"\n",
    "Собираем LSTM\n",
    "\"\"\"\n",
    "\n",
    "def build_model(input_shape):\n",
    "    d = 0.2\n",
    "    model = Sequential()\n",
    "    \n",
    "    model.add(LSTM(128, input_shape=input_shape, return_sequences=True))\n",
    "    model.add(Dropout(d))\n",
    "        \n",
    "    model.add(LSTM(128, input_shape=input_shape, return_sequences=False))\n",
    "    model.add(Dropout(d))\n",
    "        \n",
    "    model.add(Dense(32,kernel_initializer=\"normal\",activation='relu'))        \n",
    "    model.add(Dense(1,kernel_initializer=\"normal\",activation='linear'))\n",
    "    \n",
    "    model.compile(loss='mse',optimizer='adam', metrics=['accuracy'])\n",
    "    \n",
    "    return model\n",
    "\n",
    "def predictNumDay(num, pathModel, data, scaler):\n",
    "    m = load_model(pathModel)\n",
    "    \n",
    "    prediction = []\n",
    "    lastbatch = np.array(data[-WINDOW:])\n",
    "    for i in np.arange(num):    \n",
    "        res = m.predict([lastbatch.reshape(1,22, 5)])\n",
    "        prediction.append(scaler.inverse_transform(res))\n",
    "    \n",
    "    return np.array(prediction).reshape(num)\n"
   ]
  },
  {
   "cell_type": "code",
   "execution_count": 11,
   "metadata": {
    "collapsed": true
   },
   "outputs": [],
   "source": [
    "\"\"\"\n",
    "typeBlockchain:\n",
    "USDT_BTC\n",
    "USDT_LTC\n",
    "USDT_ETH\n",
    "USDT_ETC\n",
    "USDT_XRP\n",
    "\"\"\"\n",
    "\n",
    "def nextDayPrediction(typeBlockchain, N = 1):    \n",
    "    \n",
    "    df = get_data_frame(typeBlockchain)\n",
    "\n",
    "    x_scaler = MinMaxScaler()\n",
    "    y_scaler = MinMaxScaler()\n",
    "\n",
    "    all_df = df.copy()\n",
    "\n",
    "    x = all_df[['open', 'low', 'high', 'volume']].copy()\n",
    "    y = all_df['close'].copy()\n",
    "\n",
    "    x[['open', 'low', 'high', 'volume']] = x_scaler.fit_transform(x)\n",
    "\n",
    "    y = y_scaler.fit_transform(y.values.reshape(-1, 1))\n",
    "    x['close'] = y\n",
    "    \n",
    "    X_train, y_train = load_data(x, WINDOW)\n",
    "    \n",
    "    #print (X_train.shape, y_train.shape)\n",
    "    \n",
    "    model = build_model(input_shape=(WINDOW, 5))\n",
    "    \n",
    "    print('START FIT MODEL...')\n",
    "    \n",
    "    start = time.time()\n",
    "    model.fit(X_train, y_train, batch_size=32, epochs=500,\n",
    "              verbose=0)\n",
    "    end = time.time()\n",
    "\n",
    "    print ('Learning time: ', end-start)\n",
    "    \n",
    "    today = time.strftime(\"_%d_%m_%Y\")\n",
    "    \n",
    "    pathModel = \"../models/model_5f_\" + typeBlockchain + today +\".h5\"\n",
    "    save_model(model, pathModel)\n",
    "    \n",
    "    #model = load_model(pathModel)\n",
    "    \n",
    "    trainPredict = model.predict(X_train)\n",
    "    trainPredict = y_scaler.inverse_transform(trainPredict)\n",
    "    trainY = y_scaler.inverse_transform([y_train])\n",
    "\n",
    "    trainScore = metrics.mean_squared_error(trainY[0], trainPredict[:,0]) ** .5\n",
    "    print('Train Score: %.2f RMSE' % (trainScore))\n",
    "    \n",
    "    prices = df.close.values.astype('float32')\n",
    "    prices = prices.reshape(len(prices), 1)\n",
    "    \n",
    "    trainPredictPlot = np.empty_like(prices)\n",
    "    trainPredictPlot[:, :] = np.nan\n",
    "    trainPredictPlot[WINDOW:len(trainPredict)+WINDOW, :] = trainPredict\n",
    "\n",
    "    \"\"\"\n",
    "    \n",
    "    plt.plot(pd.DataFrame(prices, columns=[\"close\"], index=df.index).close, label='Actual')\n",
    "    plt.plot(pd.DataFrame(trainPredictPlot, columns=[\"close\"], index=df.index).close, label='Training')\n",
    "    plt.legend(loc='best')\n",
    "    plt.show()\n",
    "    \n",
    "    \"\"\"\n",
    "    \n",
    "    lastDate =str(df.date[df.last_valid_index()]).split('-')\n",
    "    currentData = datetime.date(int(lastDate[0]),int(lastDate[1]),int(lastDate[2])+1)\n",
    "    predictionDate = pd.date_range(currentData,periods=N)\n",
    "    predictNday =  (predictNumDay(N, pathModel, x, y_scaler))\n",
    "\n",
    "    prediction = pd.DataFrame(predictNday, columns=[\"predictionPrice\"], index = predictionDate.values)\n",
    "    \n",
    "    Actual = pd.DataFrame(prices, columns=[\"close\"], index=df.date).close\n",
    "    Training = pd.DataFrame(trainPredictPlot, columns=[\"close\"], index=df.date).close\n",
    "    pred = pd.DataFrame(trainPredictPlot, columns=[\"close\"], index=df.date).close\n",
    "\n",
    "    \"\"\"ActualValues = go.Scatter( x = df.date, y = Actual, name = 'ActualValues')\n",
    "    TrainingValues = go.Scatter( x = df.date, y = Training, name = 'TrainingValues')\n",
    "\n",
    "    iplot([ActualValues,TrainingValues])\n",
    "    \n",
    "    our_Predict = go.Scatter( x = prediction.index, y = prediction.predictionPrice, name = 'Next5DayValues')\n",
    "\n",
    "    iplot([our_Predict, ActualValues])\"\"\"\n",
    "    \n",
    "    return prediction"
   ]
  },
  {
   "cell_type": "code",
   "execution_count": 12,
   "metadata": {},
   "outputs": [
    {
     "name": "stdout",
     "output_type": "stream",
     "text": [
      "2017-07-19 18:59:51,766 INFO sqlalchemy.engine.base.Engine select version()\n",
      "2017-07-19 18:59:51,767 INFO sqlalchemy.engine.base.Engine {}\n",
      "2017-07-19 18:59:51,772 INFO sqlalchemy.engine.base.Engine select current_schema()\n",
      "2017-07-19 18:59:51,773 INFO sqlalchemy.engine.base.Engine {}\n",
      "2017-07-19 18:59:51,776 INFO sqlalchemy.engine.base.Engine SELECT CAST('test plain returns' AS VARCHAR(60)) AS anon_1\n",
      "2017-07-19 18:59:51,776 INFO sqlalchemy.engine.base.Engine {}\n",
      "2017-07-19 18:59:51,777 INFO sqlalchemy.engine.base.Engine SELECT CAST('test unicode returns' AS VARCHAR(60)) AS anon_1\n",
      "2017-07-19 18:59:51,778 INFO sqlalchemy.engine.base.Engine {}\n",
      "2017-07-19 18:59:51,779 INFO sqlalchemy.engine.base.Engine show standard_conforming_strings\n",
      "2017-07-19 18:59:51,780 INFO sqlalchemy.engine.base.Engine {}\n",
      "2017-07-19 18:59:51,781 INFO sqlalchemy.engine.base.Engine select date, time, open, close, low, high, volume, pair.\"name\" from candlestick, pair where candlestick.pair_id=pair.id and pair.\"name\"='USDT_BTC';\n",
      "2017-07-19 18:59:51,782 INFO sqlalchemy.engine.base.Engine {}\n",
      "START FIT MODEL...\n",
      "Learning time:  2.384185791015625e-07\n",
      "Train Score: 32.01 RMSE\n",
      "(22, 5)\n"
     ]
    }
   ],
   "source": [
    "USDT_BTC = nextDayPrediction('USDT_BTC', N = 1)"
   ]
  },
  {
   "cell_type": "code",
   "execution_count": null,
   "metadata": {
    "collapsed": true
   },
   "outputs": [],
   "source": [
    "USDT_LTC = nextDayPrediction('USDT_LTC', N = 1)"
   ]
  },
  {
   "cell_type": "code",
   "execution_count": null,
   "metadata": {
    "collapsed": true
   },
   "outputs": [],
   "source": [
    "USDT_ETH = nextDayPrediction('USDT_ETH', N = 1)"
   ]
  },
  {
   "cell_type": "code",
   "execution_count": null,
   "metadata": {
    "collapsed": true
   },
   "outputs": [],
   "source": [
    "USDT_ETC = nextDayPrediction('USDT_ETC', N = 1)"
   ]
  },
  {
   "cell_type": "code",
   "execution_count": null,
   "metadata": {
    "collapsed": true
   },
   "outputs": [],
   "source": [
    "USDT_XRP = nextDayPrediction('USDT_XRP', N = 1)"
   ]
  },
  {
   "cell_type": "code",
   "execution_count": 13,
   "metadata": {},
   "outputs": [
    {
     "name": "stdout",
     "output_type": "stream",
     "text": [
      "USDT_BTC:\n",
      "             predictionPrice\n",
      "2017-07-20      2390.282471\n"
     ]
    },
    {
     "ename": "NameError",
     "evalue": "name 'USDT_LTC' is not defined",
     "output_type": "error",
     "traceback": [
      "\u001b[0;31m---------------------------------------------------------------------------\u001b[0m",
      "\u001b[0;31mNameError\u001b[0m                                 Traceback (most recent call last)",
      "\u001b[0;32m<ipython-input-13-9a09c03f2c05>\u001b[0m in \u001b[0;36m<module>\u001b[0;34m()\u001b[0m\n\u001b[1;32m      1\u001b[0m \u001b[0mprint\u001b[0m \u001b[0;34m(\u001b[0m\u001b[0;34m'USDT_BTC:\\n'\u001b[0m\u001b[0;34m,\u001b[0m \u001b[0mUSDT_BTC\u001b[0m\u001b[0;34m)\u001b[0m\u001b[0;34m\u001b[0m\u001b[0m\n\u001b[0;32m----> 2\u001b[0;31m \u001b[0mprint\u001b[0m \u001b[0;34m(\u001b[0m\u001b[0;34m'USDT_LTC:\\n'\u001b[0m\u001b[0;34m,\u001b[0m \u001b[0mUSDT_LTC\u001b[0m\u001b[0;34m)\u001b[0m\u001b[0;34m\u001b[0m\u001b[0m\n\u001b[0m\u001b[1;32m      3\u001b[0m \u001b[0mprint\u001b[0m \u001b[0;34m(\u001b[0m\u001b[0;34m'USDT_ETH:\\n'\u001b[0m\u001b[0;34m,\u001b[0m \u001b[0mUSDT_ETH\u001b[0m\u001b[0;34m)\u001b[0m\u001b[0;34m\u001b[0m\u001b[0m\n\u001b[1;32m      4\u001b[0m \u001b[0mprint\u001b[0m \u001b[0;34m(\u001b[0m\u001b[0;34m'USDT_ETC:\\n'\u001b[0m\u001b[0;34m,\u001b[0m \u001b[0mUSDT_ETC\u001b[0m\u001b[0;34m)\u001b[0m\u001b[0;34m\u001b[0m\u001b[0m\n\u001b[1;32m      5\u001b[0m \u001b[0mprint\u001b[0m \u001b[0;34m(\u001b[0m\u001b[0;34m'USDT_XRP:\\n'\u001b[0m\u001b[0;34m,\u001b[0m \u001b[0mUSDT_XRP\u001b[0m\u001b[0;34m)\u001b[0m\u001b[0;34m\u001b[0m\u001b[0m\n",
      "\u001b[0;31mNameError\u001b[0m: name 'USDT_LTC' is not defined"
     ]
    }
   ],
   "source": [
    "print ('USDT_BTC:\\n', USDT_BTC)\n",
    "print ('USDT_LTC:\\n', USDT_LTC)\n",
    "print ('USDT_ETH:\\n', USDT_ETH)\n",
    "print ('USDT_ETC:\\n', USDT_ETC)\n",
    "print ('USDT_XRP:\\n', USDT_XRP)"
   ]
  }
 ],
 "metadata": {
  "kernelspec": {
   "display_name": "Python 3",
   "language": "python",
   "name": "python3"
  },
  "language_info": {
   "codemirror_mode": {
    "name": "ipython",
    "version": 3
   },
   "file_extension": ".py",
   "mimetype": "text/x-python",
   "name": "python",
   "nbconvert_exporter": "python",
   "pygments_lexer": "ipython3",
   "version": "3.6.1"
  }
 },
 "nbformat": 4,
 "nbformat_minor": 2
}
