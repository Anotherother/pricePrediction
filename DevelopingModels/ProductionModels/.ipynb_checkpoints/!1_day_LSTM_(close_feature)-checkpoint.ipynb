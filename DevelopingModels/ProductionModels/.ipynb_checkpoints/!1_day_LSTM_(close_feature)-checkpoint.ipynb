{
 "cells": [
  {
   "cell_type": "code",
   "execution_count": 4,
   "metadata": {},
   "outputs": [],
   "source": [
    "import src.get_data as get_data\n",
    "import src.load_data as load\n",
    "import numpy as np\n",
    "from sklearn.preprocessing import MinMaxScaler\n",
    "import pandas as pd\n",
    "import datetime \n",
    "\n",
    "from keras.callbacks import History \n",
    "from keras.layers.core import Dense, Activation, Dropout\n",
    "from keras.layers.recurrent import LSTM\n",
    "from keras.models import Sequential, load_model, save_model\n",
    "\n",
    "import time\n",
    "from sklearn import metrics\n",
    "\n",
    "\n",
    "WINDOW = 22"
   ]
  },
  {
   "cell_type": "code",
   "execution_count": 5,
   "metadata": {},
   "outputs": [
    {
     "data": {
      "text/html": [
       "<script>requirejs.config({paths: { 'plotly': ['https://cdn.plot.ly/plotly-latest.min']},});if(!window.Plotly) {{require(['plotly'],function(plotly) {window.Plotly=plotly;});}}</script>"
      ],
      "text/vnd.plotly.v1+html": [
       "<script>requirejs.config({paths: { 'plotly': ['https://cdn.plot.ly/plotly-latest.min']},});if(!window.Plotly) {{require(['plotly'],function(plotly) {window.Plotly=plotly;});}}</script>"
      ]
     },
     "metadata": {},
     "output_type": "display_data"
    }
   ],
   "source": [
    "import matplotlib.pyplot as plt\n",
    "import seaborn as sns\n",
    "from pylab import rcParams\n",
    "\n",
    "%matplotlib inline\n",
    "\n",
    "sns.set(style='whitegrid', palette='muted', font_scale=1.5)\n",
    "rcParams['figure.figsize'] = 14, 8\n",
    "\n",
    "\n",
    "import plotly as py\n",
    "import plotly.graph_objs as go\n",
    "from plotly.offline import init_notebook_mode, iplot\n",
    "\n",
    "init_notebook_mode(connected=True)"
   ]
  },
  {
   "cell_type": "code",
   "execution_count": 6,
   "metadata": {
    "collapsed": true
   },
   "outputs": [],
   "source": [
    "def build_model(input_shape):\n",
    "    \n",
    "    # LSTM NN\n",
    "    d = 0.2\n",
    "    model = Sequential()\n",
    "    \n",
    "    model.add(LSTM(128, input_shape=input_shape, return_sequences=True))\n",
    "    model.add(Dropout(d))\n",
    "        \n",
    "    model.add(LSTM(128, input_shape=input_shape, return_sequences=False))\n",
    "    model.add(Dropout(d))\n",
    "        \n",
    "    model.add(Dense(32,kernel_initializer=\"normal\",activation='relu'))        \n",
    "    model.add(Dense(1,kernel_initializer=\"normal\",activation='linear'))\n",
    "    \n",
    "    model.compile(loss='mse',optimizer='adam', metrics=['accuracy'])\n",
    "    \n",
    "    return model\n"
   ]
  },
  {
   "cell_type": "code",
   "execution_count": 7,
   "metadata": {
    "collapsed": true
   },
   "outputs": [],
   "source": [
    "def nextDayPredictionEWMA(typeBlockchain, stock):    \n",
    "    \"\"\"\n",
    "    Triggers for plotting\n",
    "    \"\"\"\n",
    "    \n",
    "    plot = True\n",
    "    plotHictory = True\n",
    "    interactiveGrapth = True\n",
    "    plotForTrain = False\n",
    "    \n",
    "    N = 1 # numbers of days\n",
    "    df = get_data.get_data_frame(typeBlockchain, stock)\n",
    "\n",
    "    x = df['close'].copy()\n",
    "    y = df['close'].copy()\n",
    "    \n",
    "    x = pd.ewma(x, 2)\n",
    "    y = pd.ewma(y, 2)\n",
    "    \n",
    "    # scaling data\n",
    "    scaler = MinMaxScaler()\n",
    "    x = scaler.fit_transform(x.values.reshape(-1, 1))\n",
    "    y = scaler.fit_transform(y.values.reshape(-1, 1))\n",
    "\n",
    "    # Load data. Split train Test\n",
    "    X_train, y_train, X_test, y_test = load.load_data(x, WINDOW, TrainTest = True)\n",
    "    #X_train, y_train = load.load_data(x, WINDOW, TrainTest = False)\n",
    "    model = build_model(input_shape=(WINDOW, N))\n",
    "\n",
    "    # training our model\n",
    "\n",
    "    print('START FIT MODEL...')\n",
    "    history = History()\n",
    "    history= model.fit(X_train, y_train, validation_data=(X_test, y_test),  batch_size=32, epochs=500,verbose=0,\n",
    "              callbacks=[history])\n",
    "    #model.fit(X_train, y_train, batch_size=32, epochs=500,verbose=1)\n",
    "        \n",
    "    today = time.strftime(\"_%d_%m_%Y\")\n",
    "\n",
    "    pathModel = \"../../models/model_1f_\" + typeBlockchain + today +\".h5\"\n",
    "\n",
    "    save_model(model, pathModel)\n",
    "\n",
    "    #model = load_model(pathModel)\n",
    "\n",
    "    # one day prediction. get last batch known data (now we didnt need in y value and can predict it)    \n",
    "    lastbatch = (x[-WINDOW:])\n",
    "    pred = model.predict([lastbatch.reshape(1,22, 1)])\n",
    "    pred =  np.array(scaler.inverse_transform(pred)) # predicted value\n",
    "\n",
    "    # now we make dataframe and create row names in date\n",
    "\n",
    "    lastDate =str(df.date[df.last_valid_index()]).split('-')\n",
    "    currentData = datetime.date(int(lastDate[0]),int(lastDate[1]),int(lastDate[2])) + datetime.timedelta(1)\n",
    "    predictionDate = pd.date_range(currentData, periods=1)\n",
    "    prediction = pd.DataFrame(pred, columns=[\"predictionPrice\"], index = predictionDate.values)\n",
    "\n",
    "    print (prediction)\n",
    "    \n",
    "    if plotForTrain:\n",
    "        \n",
    "        trainPredict = model.predict(X_train)\n",
    "        trainPredict = y_scaler.inverse_transform(trainPredict)\n",
    "        prices = df.close.values.astype('float32')\n",
    "        prices = prices.reshape(len(prices), 1)\n",
    "        trainPredictPlot = np.empty_like(prices)\n",
    "        trainPredictPlot[:, :] = np.nan\n",
    "        trainPredictPlot[WINDOW:len(trainPredict)+WINDOW, :] = trainPredict\n",
    "        Actual = pd.DataFrame(prices, columns=[\"close\"], index=df.index).close\n",
    "        Training = pd.DataFrame(trainPredictPlot, columns=[\"close\"], index=df.date).close\n",
    "        ActualValues = go.Scatter( x = df.date, y = Actual, name = 'ActualValues')\n",
    "        TrainingValues = go.Scatter( x = df.date, y = Training, name = 'TrainingValues')\n",
    "\n",
    "        iplot([ActualValues,TrainingValues])\n",
    "        plt.show()\n",
    "        \n",
    "    if plot:\n",
    "        trainPredict = model.predict(X_train)\n",
    "        testPredict = model.predict(X_test)\n",
    "\n",
    "        y_scaler = scaler # after u must delete it\n",
    "\n",
    "        trainPredict = y_scaler.inverse_transform(trainPredict)\n",
    "        trainY = y_scaler.inverse_transform([y_train])\n",
    "\n",
    "        testPredict = y_scaler.inverse_transform(testPredict)\n",
    "        testY = y_scaler.inverse_transform([y_test])\n",
    "\n",
    "        trainScore = metrics.mean_squared_error(trainY[0], trainPredict[:,0]) ** .5\n",
    "        print('Train Score: %.2f RMSE' % (trainScore))\n",
    "\n",
    "        testScore = metrics.mean_squared_error(testY[0], testPredict[:,0]) ** .5\n",
    "        print('Test Score: %.2f RMSE' % (testScore))\n",
    "        prices = df.close.values.astype('float32')\n",
    "        prices = prices.reshape(len(prices), 1)\n",
    "        trainPredictPlot = np.empty_like(prices)\n",
    "        trainPredictPlot[:, :] = np.nan\n",
    "        trainPredictPlot[WINDOW:len(trainPredict)+WINDOW, :] = trainPredict\n",
    "\n",
    "        testPredictPlot = np.empty_like(prices)\n",
    "        testPredictPlot[:, :] = np.nan\n",
    "        testPredictPlot[(len(prices) - testPredict.shape[0]):len(prices), :] = testPredict\n",
    "\n",
    "        plt.plot(pd.DataFrame(prices, columns=[\"close\"], index=df.index).close, label='Actual')\n",
    "        plt.plot(pd.DataFrame(trainPredictPlot, columns=[\"close\"], index=df.index).close, label='Training')\n",
    "        plt.plot(pd.DataFrame(testPredictPlot, columns=[\"close\"], index=df.index).close, label='Testing')\n",
    "        plt.legend(loc='best')\n",
    "        plt.show()\n",
    "\n",
    "        interactiveGrapth = 1\n",
    "        if interactiveGrapth:\n",
    "\n",
    "            Actual = pd.DataFrame(prices, columns=[\"close\"], index=df.index).close\n",
    "            Training = pd.DataFrame(trainPredictPlot, columns=[\"close\"], index=df.date).close\n",
    "            Testing = pd.DataFrame(testPredictPlot, columns=[\"close\"], index=df.date).close\n",
    "\n",
    "            ActualValues = go.Scatter( x = df.date, y = Actual, name = 'ActualValues')\n",
    "            TrainingValues = go.Scatter( x = df.date, y = Training, name = 'TrainingValues')\n",
    "            TestingValues = go.Scatter( x = df.date, y = Testing, name = 'PredictedValues')\n",
    "\n",
    "            iplot([ActualValues,TrainingValues, TestingValues])\n",
    "            plt.show()\n",
    "\n",
    "        if plotHictory:\n",
    "\n",
    "            plt.plot(history.history['loss'], label = 'TrainLoss')\n",
    "            plt.plot(history.history['val_loss'], label = 'TestLoss')\n",
    "            plt.legend()\n",
    "            plt.show()\n",
    "\n",
    "    return prediction"
   ]
  },
  {
   "cell_type": "code",
   "execution_count": null,
   "metadata": {},
   "outputs": [
    {
     "name": "stderr",
     "output_type": "stream",
     "text": [
      "/root/anaconda/lib/python3.6/site-packages/ipykernel_launcher.py:17: FutureWarning:\n",
      "\n",
      "pd.ewm_mean is deprecated for Series and will be removed in a future version, replace with \n",
      "\tSeries.ewm(com=2,min_periods=0,adjust=True,ignore_na=False).mean()\n",
      "\n",
      "/root/anaconda/lib/python3.6/site-packages/ipykernel_launcher.py:18: FutureWarning:\n",
      "\n",
      "pd.ewm_mean is deprecated for Series and will be removed in a future version, replace with \n",
      "\tSeries.ewm(com=2,min_periods=0,adjust=True,ignore_na=False).mean()\n",
      "\n"
     ]
    },
    {
     "name": "stdout",
     "output_type": "stream",
     "text": [
      "START FIT MODEL...\n"
     ]
    }
   ],
   "source": [
    "USDT_BTC = nextDayPredictionEWMA('USDT_BTC', 'poloniex')"
   ]
  },
  {
   "cell_type": "code",
   "execution_count": null,
   "metadata": {},
   "outputs": [],
   "source": [
    "USDT_LTC = nextDayPrediction('USDT_LTC', 'poloniex')\n",
    "USDT_ETH = nextDayPrediction('USDT_ETH', 'poloniex')\n",
    "USDT_ETC = nextDayPrediction('USDT_ETC', 'poloniex')\n",
    "USDT_XRP = nextDayPrediction('USDT_XRP', 'poloniex')"
   ]
  },
  {
   "cell_type": "code",
   "execution_count": null,
   "metadata": {
    "collapsed": true
   },
   "outputs": [],
   "source": [
    "print ('predictionValues on', datetime.date.today())\n",
    "\n",
    "allCurrency = ['USDT_BTC', 'USDT_LTC', 'USDT_ETH', 'USDT_ETC', 'USDT_XRP']\n",
    "predictedValues = [USDT_BTC, USDT_LTC, USDT_ETH, USDT_ETC, USDT_XRP]\n",
    "\n",
    "for index in np.arange(len(allCurrency)):\n",
    "    print(allCurrency[index], '\\n' , predictedValues[index] )"
   ]
  },
  {
   "cell_type": "code",
   "execution_count": null,
   "metadata": {
    "collapsed": true
   },
   "outputs": [],
   "source": [
    "print( \"Today\", time.strftime(\"_%d_%m_%Y\"), \" stock \", str(USDT_BTC.columns.values), \"will be close on \", USDT_BTC.values)"
   ]
  }
 ],
 "metadata": {
  "kernelspec": {
   "display_name": "Python 3",
   "language": "python",
   "name": "python3"
  },
  "language_info": {
   "codemirror_mode": {
    "name": "ipython",
    "version": 3
   },
   "file_extension": ".py",
   "mimetype": "text/x-python",
   "name": "python",
   "nbconvert_exporter": "python",
   "pygments_lexer": "ipython3",
   "version": "3.6.1"
  }
 },
 "nbformat": 4,
 "nbformat_minor": 2
}
