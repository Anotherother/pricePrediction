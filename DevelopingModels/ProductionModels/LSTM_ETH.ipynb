{
 "cells": [
  {
   "cell_type": "code",
   "execution_count": 1,
   "metadata": {
    "collapsed": true
   },
   "outputs": [],
   "source": [
    "import src.get_data as get_data\n",
    "import src.load_data as load\n",
    "import src.indicators as ind\n",
    "\n",
    "import pandas as pd\n",
    "import seaborn as sns\n",
    "from pylab import rcParams\n",
    "import numpy as np\n",
    "import matplotlib.pyplot as plt\n",
    "import sqlalchemy\n",
    "\n",
    "%matplotlib inline\n",
    "\n",
    "sns.set(style='whitegrid', palette='muted', font_scale=1.5)\n",
    "\n",
    "rcParams['figure.figsize'] = 14, 8\n",
    "\n",
    "# some magic\n",
    "%load_ext autoreload\n",
    "%autoreload 2"
   ]
  },
  {
   "cell_type": "code",
   "execution_count": 2,
   "metadata": {
    "collapsed": true
   },
   "outputs": [],
   "source": [
    "# Research data-depend by indicators for ETH\n",
    "\n",
    "df = get_data.get_data_frame('USDT_ETH', 'poloniex' )\n",
    "\n",
    "features_for_analise = df[[ 'open','close','low','high','volume']].copy()"
   ]
  },
  {
   "cell_type": "code",
   "execution_count": 3,
   "metadata": {
    "collapsed": true
   },
   "outputs": [],
   "source": [
    "# compute indicators\n",
    "\n",
    "features_for_analise = ind.ma_rel_diff(features_for_analise)\n",
    "features_for_analise = ind.ema_rel_diff(features_for_analise)\n",
    "features_for_analise = ind.mom(features_for_analise)\n",
    "features_for_analise = ind.roc(features_for_analise)\n",
    "features_for_analise = ind.bbands(features_for_analise)\n",
    "features_for_analise = ind.normalized_bbands(features_for_analise)\n",
    "features_for_analise = ind.rsi(features_for_analise)\n",
    "features_for_analise = ind.stochastics(features_for_analise)\n",
    "features_for_analise = ind.macd(features_for_analise)\n",
    "features_for_analise = ind.atr(features_for_analise)\n",
    "features_for_analise = ind.adx(features_for_analise)"
   ]
  },
  {
   "cell_type": "code",
   "execution_count": 4,
   "metadata": {
    "collapsed": true
   },
   "outputs": [],
   "source": [
    "features_for_analise = features_for_analise.dropna()"
   ]
  },
  {
   "cell_type": "code",
   "execution_count": 5,
   "metadata": {
    "scrolled": false
   },
   "outputs": [
    {
     "data": {
      "text/html": [
       "<script>requirejs.config({paths: { 'plotly': ['https://cdn.plot.ly/plotly-latest.min']},});if(!window.Plotly) {{require(['plotly'],function(plotly) {window.Plotly=plotly;});}}</script>"
      ]
     },
     "metadata": {},
     "output_type": "execute_result"
    }
   ],
   "source": [
    "from sklearn.preprocessing import MinMaxScaler\n",
    "import plotly as py\n",
    "import plotly.graph_objs as go\n",
    "from plotly.offline import init_notebook_mode, iplot\n",
    "\n",
    "init_notebook_mode(connected=True)\n",
    "\n",
    "scaler = MinMaxScaler()\n",
    "\n",
    "sc = scaler.fit_transform(features_for_analise)\n",
    "sc_dataframe =  pd.DataFrame(sc,columns=features_for_analise.columns, index=features_for_analise.index)     \n",
    "\n",
    "features = ['open', 'low', 'high', 'volume', 'ma_rel_diff_50',\n",
    "       'ema_rel_diff_10', 'moment_20', 'roc_14', 'boil_mean_20_2',\n",
    "       'boil_up_20_2', 'boil_down_20_2', 'normBB', 'rsi_14', 'stoch_d_14_3',\n",
    "       'macd_12_26_9', 'atr_14', 'ATR', 'adx_14']"
   ]
  },
  {
   "cell_type": "code",
   "execution_count": null,
   "metadata": {
    "collapsed": true
   },
   "outputs": [],
   "source": [
    "# plot\n",
    "\n",
    "for i in col:\n",
    "    featureValues = go.Scatter( x = sc_dataframe.index, y = sc_dataframe[ i].values, name = i)\n",
    "    closeValues = go.Scatter( x = sc_dataframe.index, y = sc_dataframe.close.values, name = 'close')\n",
    "\n",
    "    iplot([featureValues,closeValues])\n",
    "    plt.show()"
   ]
  },
  {
   "cell_type": "code",
   "execution_count": 96,
   "metadata": {},
   "outputs": [
    {
     "name": "stdout",
     "output_type": "stream",
     "text": [
      "\n"
     ]
    }
   ],
   "source": [
    "# Feature SELECTING\n",
    "\"\"\"from sklearn.feature_selection import SelectFromModel\n",
    "from sklearn.linear_model import LassoCV\n",
    "\n",
    "x = features_for_analise[features].copy()\n",
    "y = features_for_analise['close'].shift(1).copy()\n",
    "y = y.dropna()\n",
    "\n",
    "x_scaler = MinMaxScaler()\n",
    "y_scaler = MinMaxScaler()\n",
    "\n",
    "x[features] = x_scaler.fit_transform(x)\n",
    "y = y_scaler.fit_transform(y.values.reshape(-1, 1))\n",
    "\n",
    "num_train = round(0.9*x.shape[0])\n",
    "train = x[:num_train]\n",
    "test = x[num_train:]\n",
    "\n",
    "# Keep only the most contributing features\n",
    "sfm = SelectFromModel(LassoCV())\n",
    "sfm.fit(train, y_train[:num_train])\n",
    "train = sfm.transform(train)\n",
    "test = sfm.transform(test)\"\"\"\n",
    "print()"
   ]
  },
  {
   "cell_type": "code",
   "execution_count": 6,
   "metadata": {},
   "outputs": [
    {
     "name": "stderr",
     "output_type": "stream",
     "text": [
      "Using TensorFlow backend.\n"
     ]
    },
    {
     "name": "stdout",
     "output_type": "stream",
     "text": [
      "Couldn't import dot_parser, loading of dot files will not be possible.\n"
     ]
    }
   ],
   "source": [
    "from keras.callbacks import History \n",
    "from keras.layers.core import Dense, Activation, Dropout\n",
    "from keras.layers.recurrent import LSTM\n",
    "from keras.models import Sequential, load_model, save_model\n",
    "from keras import backend as K \n",
    "import time\n",
    "import datetime\n",
    "from sklearn import metrics\n",
    "\n",
    "WINDOW = 22"
   ]
  },
  {
   "cell_type": "code",
   "execution_count": 7,
   "metadata": {
    "collapsed": true
   },
   "outputs": [],
   "source": [
    "def build_model(input_shape):\n",
    "    d = 0.2\n",
    "    model = Sequential()\n",
    "    \n",
    "    model.add(LSTM(128, input_shape=input_shape, return_sequences=True))\n",
    "    model.add(Dropout(d))\n",
    "        \n",
    "    model.add(LSTM(128, input_shape=input_shape, return_sequences=False))\n",
    "    model.add(Dropout(d))\n",
    "        \n",
    "    model.add(Dense(32,kernel_initializer=\"normal\",activation='relu'))        \n",
    "    model.add(Dense(1,kernel_initializer=\"normal\",activation='linear'))\n",
    "    \n",
    "    model.compile(loss='mse',optimizer='adam', metrics=['accuracy'])\n",
    "    \n",
    "    return model"
   ]
  },
  {
   "cell_type": "code",
   "execution_count": 25,
   "metadata": {
    "collapsed": true
   },
   "outputs": [],
   "source": [
    "def nextDayPrediction(typeBlockchain, stock):    \n",
    "    \n",
    "    plot = True\n",
    "    plotHictory = True\n",
    "    interactiveGrapth = True\n",
    "    plotForTrain = False\n",
    "    \n",
    "    df = get_data.get_data_frame(typeBlockchain, stock)\n",
    "    \n",
    "    df.index  = df.date\n",
    "    df = df[[ 'open','close','low','high','volume']]\n",
    "\n",
    "    df = ind.ma_rel_diff(df)\n",
    "    df = ind.ema_rel_diff(df)\n",
    "    df = ind.mom(df)\n",
    "    df = ind.roc(df)\n",
    "    df = ind.bbands(df)\n",
    "    df = ind.normalized_bbands(df)\n",
    "    df = ind.rsi(df)\n",
    "    df = ind.stochastics(df)\n",
    "    df = ind.macd(df)\n",
    "    df = ind.atr(df)\n",
    "    df = ind.adx(df)\n",
    "    df = df.dropna()\n",
    "    \n",
    "    \n",
    "    x_scaler = MinMaxScaler()\n",
    "    y_scaler = MinMaxScaler()\n",
    "\n",
    "    all_df = df.copy()\n",
    "    \n",
    "    f_list = [['high', 'volume', 'ma_rel_diff_50',\n",
    "       'ema_rel_diff_10', 'moment_20', 'roc_14', 'boil_mean_20_2',\n",
    "        'boil_down_20_2', 'normBB', 'rsi_14', 'stoch_d_14_3',\n",
    "       'macd_12_26_9', 'atr_14', 'ATR', 'adx_14']]\n",
    "    \n",
    "    \n",
    "    for features in f_list:\n",
    "        \n",
    "        x = all_df[features].copy()\n",
    "\n",
    "        y = all_df['close'].copy()\n",
    "        NUM_FEATURES = x.shape[1]\n",
    "        \n",
    "        x[features] = x_scaler.fit_transform(x)\n",
    "        \n",
    "        \n",
    "        y = y_scaler.fit_transform(y.values.reshape(-1, 1))        \n",
    "        x['close'] = y ####!!!!!!!!!!!!!!!!!!!!!!!!!!!!!\n",
    "        \n",
    "        X_train, y_train, X_test, y_test = load.load_data(x, WINDOW, train_size= 0.97, TrainTest = True)\n",
    "\n",
    "        x = all_df[features].copy() ####!!!!!!!!!!!!!!!!!!!!!!!!!!!!!\n",
    "        \n",
    "        model = build_model(input_shape=(WINDOW, NUM_FEATURES))\n",
    "\n",
    "        print('START FIT MODEL...')\n",
    "        print(features)\n",
    "        print()\n",
    "        start = time.time()\n",
    "\n",
    "        #history = History()\n",
    "        #history= model.fit(X_train, y_train, validation_data=(X_test, y_test),  batch_size=32,\\\n",
    "        #                   epochs=405,verbose=0,\n",
    "        #          callbacks=[history])\n",
    "\n",
    "        #model.fit(X_train, y_train, batch_size=32, epochs=500, verbose=1)\n",
    "        end = time.time()\n",
    "\n",
    "        print ('Learning time: ', end-start)\n",
    "\n",
    "        today = time.strftime(\"_%d_%m_%Y\")\n",
    "        pathModel = \"./model_\" + str(features) + typeBlockchain + today +\".h5\"\n",
    "        save_model(model, pathModel)\n",
    "\n",
    "        model = load_model(pathModel)\n",
    "        lastbatch = np.array(x[-WINDOW:])\n",
    "        pred = model.predict([lastbatch.reshape(1,WINDOW, NUM_FEATURES)])\n",
    "        pred =  np.array(y_scaler.inverse_transform(pred)) # predicted value\n",
    "        \n",
    "        # one day prediction. get last batch known data (now we didnt need in y value and can predict it)    \n",
    "        lastDate =str(df.last_valid_index()).split('-')\n",
    "        currentData = datetime.date(int(lastDate[0]),int(lastDate[1]),int(lastDate[2])) + datetime.timedelta(1)\n",
    "        predictionDate = pd.date_range(currentData, periods=1)\n",
    "        prediction = pd.DataFrame(pred, columns=[\"predictionPrice\"], index = predictionDate.values)\n",
    "\n",
    "\n",
    "        print (prediction)\n",
    "\n",
    "\n",
    "\n",
    "        if plotForTrain:\n",
    "\n",
    "            trainPredict = model.predict(X_train)\n",
    "            trainPredict = y_scaler.inverse_transform(trainPredict)\n",
    "            prices = df.close.values.astype('float32')\n",
    "            prices = prices.reshape(len(prices), 1)\n",
    "            trainPredictPlot = np.empty_like(prices)\n",
    "            trainPredictPlot[:, :] = np.nan\n",
    "            trainPredictPlot[WINDOW:len(trainPredict)+WINDOW, :] = trainPredict\n",
    "            Actual = pd.DataFrame(prices, columns=[\"close\"], index=df.index).close\n",
    "            Training = pd.DataFrame(trainPredictPlot, columns=[\"close\"], index=df.date).close\n",
    "            ActualValues = go.Scatter( x = df.date, y = Actual, name = 'ActualValues')\n",
    "            TrainingValues = go.Scatter( x = df.date, y = Training, name = 'TrainingValues')\n",
    "\n",
    "            iplot([ActualValues,TrainingValues])\n",
    "            plt.show()\n",
    "\n",
    "        if plot:\n",
    "            calc_income = all_df.close[-y_test.shape[0]:]\n",
    "            print (X_train.shape)\n",
    "            trainPredict = model.predict(X_train)\n",
    "            testPredict = model.predict(X_test)\n",
    "\n",
    "            trainPredict = y_scaler.inverse_transform(trainPredict)\n",
    "            trainY = y_scaler.inverse_transform([y_train])\n",
    "\n",
    "            testPredict = y_scaler.inverse_transform(testPredict)\n",
    "            m = testPredict\n",
    "            testY = y_scaler.inverse_transform([y_test])\n",
    "\n",
    "            trainScore = metrics.mean_squared_error(trainY[0], trainPredict[:,0]) ** .5\n",
    "            print('Train Score: %.2f RMSE' % (trainScore))\n",
    "\n",
    "            testScore = metrics.mean_squared_error(testY[0], testPredict[:,0]) ** .5\n",
    "            print('Test Score: %.2f RMSE' % (testScore))\n",
    "\n",
    "\n",
    "\n",
    "            prices = df.close.values.astype('float32')\n",
    "            prices = prices.reshape(len(prices), 1)\n",
    "            trainPredictPlot = np.empty_like(prices)\n",
    "            trainPredictPlot[:, :] = np.nan\n",
    "            trainPredictPlot[WINDOW:len(trainPredict)+WINDOW, :] = trainPredict\n",
    "\n",
    "            testPredictPlot = np.empty_like(prices)\n",
    "            testPredictPlot[:, :] = np.nan\n",
    "            testPredictPlot[(len(prices) - testPredict.shape[0]):len(prices), :] = testPredict\n",
    "\n",
    "            plt.plot(pd.DataFrame(prices, columns=[\"close\"], index=df.index).close, label='Actual')\n",
    "            plt.plot(pd.DataFrame(trainPredictPlot, columns=[\"close\"], index=df.index).close, label='Training')\n",
    "            plt.plot(pd.DataFrame(testPredictPlot, columns=[\"close\"], index=df.index).close, label='Testing')\n",
    "            plt.legend(loc='best')\n",
    "            plt.show()\n",
    "\n",
    "            interactiveGrapth = 1\n",
    "            if interactiveGrapth:\n",
    "\n",
    "                Actual = pd.DataFrame(prices, columns=[\"close\"], index=df.index).close\n",
    "                Training = pd.DataFrame(trainPredictPlot, columns=[\"close\"], index=df.index).close\n",
    "                Testing = pd.DataFrame(testPredictPlot, columns=[\"close\"], index=df.index).close\n",
    "                ActualValues = go.Scatter( x = df.index, y = Actual, name = 'ActualValues')\n",
    "                TrainingValues = go.Scatter( x = df.index, y = Training, name = 'TrainingValues')\n",
    "                TestingValues = go.Scatter( x = df.index, y = Testing, name = 'PredictedValues')\n",
    "\n",
    "                iplot([ActualValues,TrainingValues, TestingValues])\n",
    "                plt.show()\n",
    "\n",
    "            if plotHictory:\n",
    "\n",
    "                plt.plot(history.history['loss'], label = 'TrainLoss')\n",
    "                plt.plot(history.history['val_loss'], label = 'TestLoss')\n",
    "                plt.legend()\n",
    "                plt.show()\n",
    "            del model\n",
    "\n",
    "            K.clear_session()\n",
    "\n",
    "    \n",
    "    return prediction"
   ]
  }
 ],
 "metadata": {
  "kernelspec": {
   "display_name": "Python 3",
   "language": "python",
   "name": "python3"
  },
  "language_info": {
   "codemirror_mode": {
    "name": "ipython",
    "version": 3.0
   },
   "file_extension": ".py",
   "mimetype": "text/x-python",
   "name": "python",
   "nbconvert_exporter": "python",
   "pygments_lexer": "ipython3",
   "version": "3.6.1"
  }
 },
 "nbformat": 4,
 "nbformat_minor": 0
}