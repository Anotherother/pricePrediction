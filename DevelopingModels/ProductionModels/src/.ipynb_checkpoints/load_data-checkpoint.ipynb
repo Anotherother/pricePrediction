{
 "cells": [
  {
   "cell_type": "code",
   "execution_count": 3,
   "metadata": {},
   "outputs": [],
   "source": [
    "import pandas as pd\n",
    "import get_data as get_data"
   ]
  },
  {
   "cell_type": "code",
   "execution_count": 7,
   "metadata": {
    "collapsed": true
   },
   "outputs": [],
   "source": [
    "def LoadData(data, train_size = 0.9, n_day = 0, window = 22, TestTrain = False):\n",
    "    \"\"\"\n",
    "    data - source data\n",
    "    train size - how much data u will be use for split on train and test batches\n",
    "    n_day - numbers of day for prediction. default 0\n",
    "    window - size of secuence for LSTM model\n",
    "    TestTrain - trigger\n",
    "    \"\"\"\n",
    "    amount_of_features = data.shape[1]\n",
    "    data_mat = data.as_matrix()\n",
    "\n",
    "    frames = []\n",
    "    for index in range(len(data_mat) - window):\n",
    "        frames.append(data_mat[index: index + window ])\n",
    "\n",
    "    frames = np.array(frames)\n",
    "    if TestTrain == False:\n",
    "        x  = frames[:-n_day,:,:-1] # delete feature, which we want predict and add it to\n",
    "                                    # labels - y_train\n",
    "\n",
    "        temp_y  = frames[:, -1][:,-1]   # last index - index with value,\n",
    "                                        # which we want predict. 4 - index for 'close'\n",
    "\n",
    "        y = []\n",
    "        for index in range(len(temp_y) - n_day):\n",
    "            y.append(temp_y[index: index + n_day ])\n",
    "        y = np.array(y)\n",
    "\n",
    "        return x,y\n",
    "\n",
    "    train_split = int(round(train_size * data.shape[0]))\n",
    "\n",
    "    if TestTrain == True:\n",
    "\n",
    "        x_train = frames[:train_split,:,:-1]\n",
    "        x_test = frames[train_split:-n_day,:,:-1]\n",
    "\n",
    "\n",
    "\n",
    "        temp_y  = frames[:, -1][:,-1]   # lat index - index with value,\n",
    "                                        # which we want predict. 4 - index for 'close'\n",
    "\n",
    "        y = []\n",
    "        for index in range(len(temp_y) - n_day):\n",
    "            y.append(temp_y[index: index + n_day ])\n",
    "        y = np.array(y)\n",
    "\n",
    "        y_train = y[:train_split,:n_day,4]\n",
    "        y_test = y[train_split:-n_day,:n_day,4]\n",
    "\n",
    "        #print (x_train.shape)\n",
    "        #print (x_test.shape)\n",
    "        return x_train,x_test, y_train, y_test"
   ]
  },
  {
   "cell_type": "code",
   "execution_count": 8,
   "metadata": {},
   "outputs": [
    {
     "ename": "NameError",
     "evalue": "name 'WINDOW' is not defined",
     "output_type": "error",
     "traceback": [
      "\u001b[0;31m---------------------------------------------------------------------------\u001b[0m",
      "\u001b[0;31mNameError\u001b[0m                                 Traceback (most recent call last)",
      "\u001b[0;32m<ipython-input-8-981209cea4c1>\u001b[0m in \u001b[0;36m<module>\u001b[0;34m()\u001b[0m\n\u001b[1;32m      1\u001b[0m \u001b[0mdf\u001b[0m \u001b[0;34m=\u001b[0m \u001b[0mget_data\u001b[0m\u001b[0;34m.\u001b[0m\u001b[0mget_data_frame\u001b[0m\u001b[0;34m(\u001b[0m\u001b[0;34m)\u001b[0m\u001b[0;34m\u001b[0m\u001b[0m\n\u001b[1;32m      2\u001b[0m \u001b[0;34m\u001b[0m\u001b[0m\n\u001b[0;32m----> 3\u001b[0;31m \u001b[0mdata\u001b[0m \u001b[0;34m=\u001b[0m \u001b[0mLoadData\u001b[0m\u001b[0;34m(\u001b[0m\u001b[0mdf\u001b[0m\u001b[0;34m,\u001b[0m \u001b[0mtrain_size\u001b[0m \u001b[0;34m=\u001b[0m \u001b[0;36m0.9\u001b[0m\u001b[0;34m,\u001b[0m \u001b[0mn_day\u001b[0m \u001b[0;34m=\u001b[0m \u001b[0;36m0\u001b[0m\u001b[0;34m,\u001b[0m \u001b[0mwindow\u001b[0m \u001b[0;34m=\u001b[0m \u001b[0;36m22\u001b[0m\u001b[0;34m,\u001b[0m \u001b[0mTestTrain\u001b[0m \u001b[0;34m=\u001b[0m \u001b[0;32mFalse\u001b[0m\u001b[0;34m)\u001b[0m\u001b[0;34m\u001b[0m\u001b[0m\n\u001b[0m",
      "\u001b[0;32m<ipython-input-7-9fa1ec0bb970>\u001b[0m in \u001b[0;36mLoadData\u001b[0;34m(data, train_size, n_day, window, TestTrain)\u001b[0m\n\u001b[1;32m     11\u001b[0m \u001b[0;34m\u001b[0m\u001b[0m\n\u001b[1;32m     12\u001b[0m     \u001b[0mframes\u001b[0m \u001b[0;34m=\u001b[0m \u001b[0;34m[\u001b[0m\u001b[0;34m]\u001b[0m\u001b[0;34m\u001b[0m\u001b[0m\n\u001b[0;32m---> 13\u001b[0;31m     \u001b[0;32mfor\u001b[0m \u001b[0mindex\u001b[0m \u001b[0;32min\u001b[0m \u001b[0mrange\u001b[0m\u001b[0;34m(\u001b[0m\u001b[0mlen\u001b[0m\u001b[0;34m(\u001b[0m\u001b[0mdata_mat\u001b[0m\u001b[0;34m)\u001b[0m \u001b[0;34m-\u001b[0m \u001b[0mWINDOW\u001b[0m\u001b[0;34m)\u001b[0m\u001b[0;34m:\u001b[0m\u001b[0;34m\u001b[0m\u001b[0m\n\u001b[0m\u001b[1;32m     14\u001b[0m         \u001b[0mframes\u001b[0m\u001b[0;34m.\u001b[0m\u001b[0mappend\u001b[0m\u001b[0;34m(\u001b[0m\u001b[0mdata_mat\u001b[0m\u001b[0;34m[\u001b[0m\u001b[0mindex\u001b[0m\u001b[0;34m:\u001b[0m \u001b[0mindex\u001b[0m \u001b[0;34m+\u001b[0m \u001b[0mwindow\u001b[0m \u001b[0;34m]\u001b[0m\u001b[0;34m)\u001b[0m\u001b[0;34m\u001b[0m\u001b[0m\n\u001b[1;32m     15\u001b[0m \u001b[0;34m\u001b[0m\u001b[0m\n",
      "\u001b[0;31mNameError\u001b[0m: name 'WINDOW' is not defined"
     ]
    }
   ],
   "source": [
    "df = get_data.get_data_frame()\n",
    "\n",
    "data = LoadData(df, train_size = 0.9, n_day = 0, window = 22, TestTrain = False)"
   ]
  }
 ],
 "metadata": {
  "kernelspec": {
   "display_name": "Python 3",
   "language": "python",
   "name": "python3"
  },
  "language_info": {
   "codemirror_mode": {
    "name": "ipython",
    "version": 3
   },
   "file_extension": ".py",
   "mimetype": "text/x-python",
   "name": "python",
   "nbconvert_exporter": "python",
   "pygments_lexer": "ipython3",
   "version": "3.6.1"
  }
 },
 "nbformat": 4,
 "nbformat_minor": 2
}
