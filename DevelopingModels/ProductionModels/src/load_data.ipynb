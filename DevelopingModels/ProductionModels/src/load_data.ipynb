{
 "cells": [
  {
   "cell_type": "code",
   "execution_count": 11,
   "metadata": {},
   "outputs": [],
   "source": [
    "import pandas as pd\n",
    "import get_data as get_data\n",
    "import numpy as np"
   ]
  },
  {
   "cell_type": "code",
   "execution_count": 50,
   "metadata": {},
   "outputs": [
    {
     "name": "stdout",
     "output_type": "stream",
     "text": [
      "(704, 22, 1) (704, 1)\n",
      "(727, 8)\n"
     ]
    }
   ],
   "source": [
    "def LoadData(data, train_size = 0.9, n_day = 0, window = 22, TestTrain = False):\n",
    "    \"\"\"\n",
    "    data - source data\n",
    "    train size - how much data u will be use for split on train and test batches\n",
    "    n_day - numbers of day for prediction. default 0\n",
    "    window - size of secuence for LSTM model\n",
    "    TestTrain - trigger\n",
    "    \"\"\"\n",
    "    amount_of_features = data.shape[1]\n",
    "    data_mat = data.as_matrix()\n",
    "\n",
    "    frames = []\n",
    "    for index in range(len(data_mat) - window):\n",
    "        frames.append(data_mat[index: index + window ])\n",
    "\n",
    "    frames = np.array(frames)\n",
    "    if TestTrain == False:\n",
    "        x  = frames[:-n_day,:,:-1] # delete feature, which we want predict and add it to\n",
    "                                    # labels - y_train\n",
    "\n",
    "        temp_y  = frames[:, -1][:,-1]   # last index - index with value,\n",
    "                                        # which we want predict. 4 - index for 'close'\n",
    "\n",
    "        y = []\n",
    "        for index in range(len(temp_y) - n_day):\n",
    "            y.append(temp_y[index: index + n_day ])\n",
    "        y = np.array(y)\n",
    "\n",
    "        return x,y\n",
    "\n",
    "    train_split = int(round(train_size * data.shape[0]))\n",
    "\n",
    "    if TestTrain == True:\n",
    "\n",
    "        x_train = frames[:train_split,:,:-1]\n",
    "        x_test = frames[train_split:-n_day,:,:-1]\n",
    "\n",
    "\n",
    "\n",
    "        temp_y  = frames[:, -1][:,-1]   # lat index - index with value,\n",
    "                                        # which we want predict. 4 - index for 'close'\n",
    "\n",
    "        y = []\n",
    "        for index in range(len(temp_y) - n_day):\n",
    "            y.append(temp_y[index: index + n_day ])\n",
    "        y = np.array(frames.shape)\n",
    "    \n",
    "        y_train = y[:train_split,:n_day,4]\n",
    "        y_test = y[train_split:-n_day,:n_day,4]\n",
    "\n",
    "        #print (x_train.shape)\n",
    "        #print (x_test.shape)\n",
    "        return x_train,x_test, y_train, y_test\n",
    "    \n",
    "a1,a2 = LoadData(X, train_size = 0.9, n_day = 1, window = 22, TestTrain = False)\n",
    "print (a1.shape,a2.shape)\n",
    "print (df.shape)"
   ]
  },
  {
   "cell_type": "code",
   "execution_count": 103,
   "metadata": {},
   "outputs": [],
   "source": [
    "df = get_data.get_data_frame()\n",
    "\n",
    "X = df[['open', 'high']]"
   ]
  },
  {
   "cell_type": "code",
   "execution_count": 116,
   "metadata": {},
   "outputs": [],
   "source": [
    "def load_data(X, seq_len, train_size=0.9):\n",
    "    \n",
    "    amount_of_features = X.shape[1] \n",
    "    X_mat = X.as_matrix() \n",
    "    \n",
    "    sequence_length = seq_len + 1 \n",
    "    data = []\n",
    "    \n",
    "\n",
    "    for index in range(len(X_mat) + 1 - sequence_length):\n",
    "        data.append(X_mat[index: index + sequence_length])\n",
    "    \n",
    "    data = np.array(data)\n",
    "    train_split = int(round(train_size * data.shape[0]))\n",
    "    train_data = data[:train_split, :]\n",
    "    \n",
    "    x_train = train_data[:, :-1]\n",
    "    y_train = train_data[:, -1][:,-1]\n",
    "    \n",
    "    x_test = data[train_split:, :-1] \n",
    "    y_test = data[train_split:, -1][:,-1]\n",
    "\n",
    "    x_train = np.reshape(x_train, (x_train.shape[0], x_train.shape[1], amount_of_features))\n",
    "    x_test = np.reshape(x_test, (x_test.shape[0], x_test.shape[1], amount_of_features))  \n",
    "\n",
    "    return x_train, y_train, x_test, y_test\n"
   ]
  },
  {
   "cell_type": "code",
   "execution_count": 117,
   "metadata": {},
   "outputs": [],
   "source": [
    "a1,a2, a3, a4 = load_data(X,22, train_size = 0.9)"
   ]
  },
  {
   "cell_type": "code",
   "execution_count": null,
   "metadata": {
    "collapsed": true
   },
   "outputs": [],
   "source": []
  }
 ],
 "metadata": {
  "kernelspec": {
   "display_name": "Python 3",
   "language": "python",
   "name": "python3"
  },
  "language_info": {
   "codemirror_mode": {
    "name": "ipython",
    "version": 3
   },
   "file_extension": ".py",
   "mimetype": "text/x-python",
   "name": "python",
   "nbconvert_exporter": "python",
   "pygments_lexer": "ipython3",
   "version": "3.6.1"
  }
 },
 "nbformat": 4,
 "nbformat_minor": 2
}
