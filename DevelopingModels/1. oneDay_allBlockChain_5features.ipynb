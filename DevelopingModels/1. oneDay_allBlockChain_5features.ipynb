{
 "cells": [
  {
   "cell_type": "code",
   "execution_count": 5,
   "metadata": {},
   "outputs": [
    {
     "data": {
      "text/html": [
       "<script>requirejs.config({paths: { 'plotly': ['https://cdn.plot.ly/plotly-latest.min']},});if(!window.Plotly) {{require(['plotly'],function(plotly) {window.Plotly=plotly;});}}</script>"
      ],
      "text/vnd.plotly.v1+html": [
       "<script>requirejs.config({paths: { 'plotly': ['https://cdn.plot.ly/plotly-latest.min']},});if(!window.Plotly) {{require(['plotly'],function(plotly) {window.Plotly=plotly;});}}</script>"
      ]
     },
     "metadata": {},
     "output_type": "display_data"
    }
   ],
   "source": [
    "import pandas as pd\n",
    "import numpy as np\n",
    "import pickle\n",
    "import matplotlib.pyplot as plt\n",
    "from scipy import stats\n",
    "from keras.layers.core import Dense, Activation, Dropout\n",
    "from keras.layers.recurrent import LSTM\n",
    "from keras.models import Sequential, load_model, save_model\n",
    "import datetime \n",
    "import seaborn as sns\n",
    "from pylab import rcParams\n",
    "from sklearn.preprocessing import MinMaxScaler\n",
    "from sklearn import metrics\n",
    "import time\n",
    "\n",
    "import plotly as py\n",
    "import plotly.graph_objs as go\n",
    "from plotly.offline import init_notebook_mode, iplot\n",
    "\n",
    "import sqlalchemy\n",
    "\n",
    "init_notebook_mode(connected=True)\n",
    "\n",
    "%matplotlib inline\n",
    "\n",
    "sns.set(style='whitegrid', palette='muted', font_scale=1.5)\n",
    "\n",
    "rcParams['figure.figsize'] = 14, 8\n",
    "\n",
    "RANDOM_SEED = 42\n",
    "\n",
    "WINDOW = 22"
   ]
  },
  {
   "cell_type": "code",
   "execution_count": 62,
   "metadata": {
    "collapsed": true
   },
   "outputs": [],
   "source": [
    "\"\"\"\n",
    "Парсинг данных\n",
    "\n",
    "\"\"\"\n",
    "\n",
    "def connect(user, password, db, host: str, port: int, echo=False):\n",
    "    url = 'postgresql+psycopg2://{}:{}@{}:{}/{}'\n",
    "    url = url.format(user, password, host, port, db)\n",
    "    eng = sqlalchemy.create_engine(url, client_encoding='utf8', echo=echo)\n",
    "    meta = sqlalchemy.MetaData(bind=eng)\n",
    "    return eng, meta\n",
    "\n",
    "def get_data_frame(pair: str = 'USDT_BTC', exchange: str = 'poloniex') -> pd.DataFrame:\n",
    "\n",
    "    engine, meta = connect(user='postgres', password='password', db='btccandles', host='94.230.125.199', port=16432)\n",
    "    df = pd.read_sql_query(\n",
    "        \"SELECT date, time, open, close, low, high, volume, pair.\\\"name\\\"\"\n",
    "        \"FROM candlestick, pair WHERE candlestick.pair_id = pair.id AND pair.id IN (\"\n",
    "        \"SELECT pair.id FROM pair, exchange WHERE (\"\n",
    "        \"SELECT pair.id FROM pair WHERE pair.name = '\" + pair +\n",
    "        \"') = pair.alias_id AND pair.exchange_id = (SELECT exchange.id FROM exchange WHERE exchange.\\\"name\\\" = '\" + exchange + \"')) ORDER BY candlestick.date;\",\n",
    "        con=engine)\n",
    "    return df\n",
    "\n",
    "\n",
    "\"\"\"\n",
    "Загрузка данных\n",
    "\"\"\"\n",
    "def load_data(X, seq_len, train_size=1):\n",
    "    \n",
    "    amount_of_features = X.shape[1] \n",
    "    X_mat = X.as_matrix() \n",
    "    \n",
    "    sequence_length = seq_len + 1 \n",
    "    data = []\n",
    "    \n",
    "    for index in range(len(X_mat) + 1 - sequence_length):\n",
    "        data.append(X_mat[index: index + sequence_length])\n",
    "    \n",
    "    data = np.array(data)\n",
    "    train_split = int(round(train_size * data.shape[0]))\n",
    "    train_data = data[:train_split, :]\n",
    "    \n",
    "    x_train = train_data[:, :-1]\n",
    "    y_train = train_data[:, -1][:,-1]\n",
    "    \n",
    "    x_train = np.reshape(x_train, (x_train.shape[0], x_train.shape[1], amount_of_features))\n",
    "\n",
    "    return x_train, y_train\n",
    "\n",
    "\"\"\"\n",
    "Собираем LSTM\n",
    "\"\"\"\n",
    "\n",
    "def build_model(input_shape):\n",
    "    d = 0.2\n",
    "    model = Sequential()\n",
    "    \n",
    "    model.add(LSTM(128, input_shape=input_shape, return_sequences=True))\n",
    "    model.add(Dropout(d))\n",
    "        \n",
    "    model.add(LSTM(128, input_shape=input_shape, return_sequences=False))\n",
    "    model.add(Dropout(d))\n",
    "        \n",
    "    model.add(Dense(32,kernel_initializer=\"normal\",activation='relu'))        \n",
    "    model.add(Dense(1,kernel_initializer=\"normal\",activation='linear'))\n",
    "    \n",
    "    model.compile(loss='mse',optimizer='adam', metrics=['accuracy'])\n",
    "    \n",
    "    return model\n",
    "\n",
    "def predictNumDay(num, pathModel, data, scaler):\n",
    "    m = load_model(pathModel)\n",
    "    \n",
    "    prediction = []\n",
    "    lastbatch = np.array(data[-WINDOW:])\n",
    "    for i in np.arange(num):    \n",
    "        res = m.predict([lastbatch.reshape(1,22, 5)])\n",
    "        prediction.append(scaler.inverse_transform(res))\n",
    "    \n",
    "    return np.array(prediction).reshape(num)\n"
   ]
  },
  {
   "cell_type": "code",
   "execution_count": 7,
   "metadata": {
    "collapsed": true
   },
   "outputs": [],
   "source": [
    "\"\"\"\n",
    "typeBlockchain:\n",
    "USDT_BTC\n",
    "USDT_LTC\n",
    "USDT_ETH\n",
    "USDT_ETC\n",
    "USDT_XRP\n",
    "\"\"\"\n",
    "\n",
    "def nextDayPrediction(typeBlockchain, stock, N = 1):    \n",
    "    \n",
    "    df = get_data_frame(typeBlockchain, stock)\n",
    "\n",
    "    x_scaler = MinMaxScaler()\n",
    "    y_scaler = MinMaxScaler()\n",
    "\n",
    "    all_df = df.copy()\n",
    "\n",
    "    x = all_df[['open', 'low', 'high', 'volume']].copy()\n",
    "    y = all_df['close'].copy()\n",
    "\n",
    "    x[['open', 'low', 'high', 'volume']] = x_scaler.fit_transform(x)\n",
    "\n",
    "    y = y_scaler.fit_transform(y.values.reshape(-1, 1))\n",
    "    x['close'] = y\n",
    "    \n",
    "    X_train, y_train = load_data(x, WINDOW)\n",
    "    \n",
    "    #print (X_train.shape, y_train.shape)\n",
    "    \n",
    "    model = build_model(input_shape=(WINDOW, 5))\n",
    "    \n",
    "    print('START FIT MODEL...')\n",
    "    \n",
    "    start = time.time()\n",
    "    model.fit(X_train, y_train, batch_size=32, epochs=500,\n",
    "              verbose=0)\n",
    "    end = time.time()\n",
    "\n",
    "    print ('Learning time: ', end-start)\n",
    "    \n",
    "    today = time.strftime(\"_%d_%m_%Y\")\n",
    "    \n",
    "    pathModel = \"../models/model_5f_\" + typeBlockchain + today +\".h5\"\n",
    "    save_model(model, pathModel)\n",
    "    \n",
    "    #model = load_model(pathModel)\n",
    "    \n",
    "    trainPredict = model.predict(X_train)\n",
    "    trainPredict = y_scaler.inverse_transform(trainPredict)\n",
    "    trainY = y_scaler.inverse_transform([y_train])\n",
    "\n",
    "    trainScore = metrics.mean_squared_error(trainY[0], trainPredict[:,0]) ** .5\n",
    "    print('Train Score: %.2f RMSE' % (trainScore))\n",
    "    \n",
    "    prices = df.close.values.astype('float32')\n",
    "    prices = prices.reshape(len(prices), 1)\n",
    "    \n",
    "    trainPredictPlot = np.empty_like(prices)\n",
    "    trainPredictPlot[:, :] = np.nan\n",
    "    trainPredictPlot[WINDOW:len(trainPredict)+WINDOW, :] = trainPredict\n",
    "\n",
    "    \"\"\"\n",
    "    \n",
    "    plt.plot(pd.DataFrame(prices, columns=[\"close\"], index=df.index).close, label='Actual')\n",
    "    plt.plot(pd.DataFrame(trainPredictPlot, columns=[\"close\"], index=df.index).close, label='Training')\n",
    "    plt.legend(loc='best')\n",
    "    plt.show()\n",
    "    \n",
    "    \"\"\"\n",
    "    \n",
    "    lastDate =str(df.date[df.last_valid_index()]).split('-')\n",
    "    currentData = datetime.date(int(lastDate[0]),int(lastDate[1]),int(lastDate[2])+1)\n",
    "    predictionDate = pd.date_range(currentData,periods=N)\n",
    "    predictNday =  (predictNumDay(N, pathModel, x, y_scaler))\n",
    "\n",
    "    prediction = pd.DataFrame(predictNday, columns=[\"predictionPrice\"], index = predictionDate.values)\n",
    "    \n",
    "    \"\"\"Actual = pd.DataFrame(prices, columns=[\"close\"], index=df.date).close\n",
    "    Training = pd.DataFrame(trainPredictPlot, columns=[\"close\"], index=df.date).close\n",
    "    pred = pd.DataFrame(trainPredictPlot, columns=[\"close\"], index=df.date).close\n",
    "\n",
    "    ActualValues = go.Scatter( x = df.date, y = Actual, name = 'ActualValues')\n",
    "    TrainingValues = go.Scatter( x = df.date, y = Training, name = 'TrainingValues')\n",
    "\n",
    "    iplot([ActualValues,TrainingValues])\n",
    "    \n",
    "    our_Predict = go.Scatter( x = prediction.index, y = prediction.predictionPrice, name = 'NextDayValues')\n",
    "\n",
    "    iplot([our_Predict, ActualValues])\"\"\"\n",
    "    \n",
    "    return prediction"
   ]
  },
  {
   "cell_type": "code",
   "execution_count": 8,
   "metadata": {},
   "outputs": [
    {
     "name": "stdout",
     "output_type": "stream",
     "text": [
      "2017-07-26 11:39:38,917 INFO sqlalchemy.engine.base.Engine select version()\n",
      "2017-07-26 11:39:38,917 INFO sqlalchemy.engine.base.Engine {}\n",
      "2017-07-26 11:39:38,919 INFO sqlalchemy.engine.base.Engine select current_schema()\n",
      "2017-07-26 11:39:38,919 INFO sqlalchemy.engine.base.Engine {}\n",
      "2017-07-26 11:39:38,921 INFO sqlalchemy.engine.base.Engine SELECT CAST('test plain returns' AS VARCHAR(60)) AS anon_1\n",
      "2017-07-26 11:39:38,922 INFO sqlalchemy.engine.base.Engine {}\n",
      "2017-07-26 11:39:38,923 INFO sqlalchemy.engine.base.Engine SELECT CAST('test unicode returns' AS VARCHAR(60)) AS anon_1\n",
      "2017-07-26 11:39:38,924 INFO sqlalchemy.engine.base.Engine {}\n",
      "2017-07-26 11:39:38,925 INFO sqlalchemy.engine.base.Engine show standard_conforming_strings\n",
      "2017-07-26 11:39:38,926 INFO sqlalchemy.engine.base.Engine {}\n",
      "2017-07-26 11:39:38,927 INFO sqlalchemy.engine.base.Engine SELECT date, time, open, close, low, high, volume, pair.\"name\"FROM candlestick, pair WHERE candlestick.pair_id = pair.id AND pair.id IN (SELECT pair.id FROM pair, exchange WHERE (SELECT pair.id FROM pair WHERE pair.name = 'USDT_BTC') = pair.alias_id AND pair.exchange_id = (SELECT exchange.id FROM exchange WHERE exchange.\"name\" = 'poloniex')) ORDER BY candlestick.date;\n",
      "2017-07-26 11:39:38,928 INFO sqlalchemy.engine.base.Engine {}\n",
      "START FIT MODEL...\n",
      "Learning time:  405.67621088027954\n",
      "Train Score: 39.54 RMSE\n"
     ]
    }
   ],
   "source": [
    "USDT_BTC = nextDayPrediction('USDT_BTC', 'poloniex' ,N = 1)"
   ]
  },
  {
   "cell_type": "code",
   "execution_count": null,
   "metadata": {},
   "outputs": [
    {
     "name": "stdout",
     "output_type": "stream",
     "text": [
      "2017-07-26 11:53:02,522 INFO sqlalchemy.engine.base.Engine select version()\n",
      "2017-07-26 11:53:02,523 INFO sqlalchemy.engine.base.Engine {}\n",
      "2017-07-26 11:53:02,524 INFO sqlalchemy.engine.base.Engine select current_schema()\n",
      "2017-07-26 11:53:02,525 INFO sqlalchemy.engine.base.Engine {}\n",
      "2017-07-26 11:53:02,527 INFO sqlalchemy.engine.base.Engine SELECT CAST('test plain returns' AS VARCHAR(60)) AS anon_1\n",
      "2017-07-26 11:53:02,527 INFO sqlalchemy.engine.base.Engine {}\n",
      "2017-07-26 11:53:02,529 INFO sqlalchemy.engine.base.Engine SELECT CAST('test unicode returns' AS VARCHAR(60)) AS anon_1\n",
      "2017-07-26 11:53:02,529 INFO sqlalchemy.engine.base.Engine {}\n",
      "2017-07-26 11:53:02,531 INFO sqlalchemy.engine.base.Engine show standard_conforming_strings\n",
      "2017-07-26 11:53:02,532 INFO sqlalchemy.engine.base.Engine {}\n",
      "2017-07-26 11:53:02,533 INFO sqlalchemy.engine.base.Engine SELECT date, time, open, close, low, high, volume, pair.\"name\"FROM candlestick, pair WHERE candlestick.pair_id = pair.id AND pair.id IN (SELECT pair.id FROM pair, exchange WHERE (SELECT pair.id FROM pair WHERE pair.name = 'USDT_LTC') = pair.alias_id AND pair.exchange_id = (SELECT exchange.id FROM exchange WHERE exchange.\"name\" = 'poloniex')) ORDER BY candlestick.date;\n",
      "2017-07-26 11:53:02,534 INFO sqlalchemy.engine.base.Engine {}\n",
      "START FIT MODEL...\n"
     ]
    }
   ],
   "source": [
    "USDT_LTC = nextDayPrediction('USDT_LTC', 'poloniex',N = 1)"
   ]
  },
  {
   "cell_type": "code",
   "execution_count": null,
   "metadata": {},
   "outputs": [
    {
     "name": "stdout",
     "output_type": "stream",
     "text": [
      "Learning time:  408.56155252456665\n",
      "Train Score: 3.41 RMSE\n"
     ]
    }
   ],
   "source": [
    "USDT_ETH = nextDayPrediction('USDT_ETH', 'poloniex',N = 1)"
   ]
  },
  {
   "cell_type": "code",
   "execution_count": null,
   "metadata": {},
   "outputs": [
    {
     "name": "stdout",
     "output_type": "stream",
     "text": [
      "2017-07-26 12:06:48,766 INFO sqlalchemy.engine.base.Engine select version()\n",
      "2017-07-26 12:06:48,767 INFO sqlalchemy.engine.base.Engine {}\n",
      "2017-07-26 12:06:48,768 INFO sqlalchemy.engine.base.Engine select current_schema()\n",
      "2017-07-26 12:06:48,769 INFO sqlalchemy.engine.base.Engine {}\n",
      "2017-07-26 12:06:48,770 INFO sqlalchemy.engine.base.Engine SELECT CAST('test plain returns' AS VARCHAR(60)) AS anon_1\n",
      "2017-07-26 12:06:48,771 INFO sqlalchemy.engine.base.Engine {}\n",
      "2017-07-26 12:06:48,773 INFO sqlalchemy.engine.base.Engine SELECT CAST('test unicode returns' AS VARCHAR(60)) AS anon_1\n",
      "2017-07-26 12:06:48,773 INFO sqlalchemy.engine.base.Engine {}\n",
      "2017-07-26 12:06:48,775 INFO sqlalchemy.engine.base.Engine show standard_conforming_strings\n",
      "2017-07-26 12:06:48,775 INFO sqlalchemy.engine.base.Engine {}\n",
      "2017-07-26 12:06:48,776 INFO sqlalchemy.engine.base.Engine SELECT date, time, open, close, low, high, volume, pair.\"name\"FROM candlestick, pair WHERE candlestick.pair_id = pair.id AND pair.id IN (SELECT pair.id FROM pair, exchange WHERE (SELECT pair.id FROM pair WHERE pair.name = 'USDT_ETC') = pair.alias_id AND pair.exchange_id = (SELECT exchange.id FROM exchange WHERE exchange.\"name\" = 'poloniex')) ORDER BY candlestick.date;\n",
      "2017-07-26 12:06:48,777 INFO sqlalchemy.engine.base.Engine {}\n",
      "START FIT MODEL...\n",
      "Learning time:  203.96141004562378\n",
      "Train Score: 0.31 RMSE\n"
     ]
    }
   ],
   "source": [
    "USDT_ETC = nextDayPrediction('USDT_ETC', 'poloniex',N = 1)"
   ]
  },
  {
   "cell_type": "code",
   "execution_count": null,
   "metadata": {},
   "outputs": [
    {
     "name": "stdout",
     "output_type": "stream",
     "text": [
      "2017-07-26 12:10:19,342 INFO sqlalchemy.engine.base.Engine select version()\n",
      "2017-07-26 12:10:19,343 INFO sqlalchemy.engine.base.Engine {}\n",
      "2017-07-26 12:10:19,345 INFO sqlalchemy.engine.base.Engine select current_schema()\n",
      "2017-07-26 12:10:19,345 INFO sqlalchemy.engine.base.Engine {}\n",
      "2017-07-26 12:10:19,348 INFO sqlalchemy.engine.base.Engine SELECT CAST('test plain returns' AS VARCHAR(60)) AS anon_1\n",
      "2017-07-26 12:10:19,348 INFO sqlalchemy.engine.base.Engine {}\n",
      "2017-07-26 12:10:19,350 INFO sqlalchemy.engine.base.Engine SELECT CAST('test unicode returns' AS VARCHAR(60)) AS anon_1\n",
      "2017-07-26 12:10:19,350 INFO sqlalchemy.engine.base.Engine {}\n",
      "2017-07-26 12:10:19,351 INFO sqlalchemy.engine.base.Engine show standard_conforming_strings\n",
      "2017-07-26 12:10:19,352 INFO sqlalchemy.engine.base.Engine {}\n",
      "2017-07-26 12:10:19,353 INFO sqlalchemy.engine.base.Engine SELECT date, time, open, close, low, high, volume, pair.\"name\"FROM candlestick, pair WHERE candlestick.pair_id = pair.id AND pair.id IN (SELECT pair.id FROM pair, exchange WHERE (SELECT pair.id FROM pair WHERE pair.name = 'USDT_XRP') = pair.alias_id AND pair.exchange_id = (SELECT exchange.id FROM exchange WHERE exchange.\"name\" = 'poloniex')) ORDER BY candlestick.date;\n",
      "2017-07-26 12:10:19,353 INFO sqlalchemy.engine.base.Engine {}\n",
      "START FIT MODEL...\n",
      "Learning time:  427.8329887390137\n",
      "Train Score: 0.00 RMSE\n"
     ]
    }
   ],
   "source": [
    "USDT_XRP = nextDayPrediction('USDT_XRP', 'poloniex',N = 1)"
   ]
  },
  {
   "cell_type": "code",
   "execution_count": 86,
   "metadata": {},
   "outputs": [
    {
     "name": "stdout",
     "output_type": "stream",
     "text": [
      "predictionValues on 2017-07-26\n",
      "USDT_BTC \n",
      "             predictionPrice\n",
      "2017-07-26      2545.130371\n",
      "USDT_LTC \n",
      "             predictionPrice\n",
      "2017-07-26        42.890644\n",
      "USDT_ETH \n",
      "             predictionPrice\n",
      "2017-07-26       193.827957\n",
      "USDT_ETC \n",
      "             predictionPrice\n",
      "2017-07-26        14.239629\n",
      "USDT_XRP \n",
      "             predictionPrice\n",
      "2017-07-26         0.177823\n"
     ]
    }
   ],
   "source": [
    "print ('predictionValues on', datetime.date.today())\n",
    "\n",
    "allCurrency = ['USDT_BTC', 'USDT_LTC', 'USDT_ETH', 'USDT_ETC', 'USDT_XRP']\n",
    "predictedValues = [USDT_BTC, USDT_LTC, USDT_ETH, USDT_ETC, USDT_XRP]\n",
    "\n",
    "for index in np.arange(len(allCurrency)):\n",
    "    print(allCurrency[index], '\\n' , predictedValues[index] )\n"
   ]
  },
  {
   "cell_type": "code",
   "execution_count": 63,
   "metadata": {
    "collapsed": true
   },
   "outputs": [],
   "source": [
    "def checkTrend(typeBlockchain, stock, predicted):\n",
    "    \n",
    "    df = get_data_frame(typeBlockchain, stock)\n",
    "    lastValue = df.close[df.shape[0]-1]\n",
    "    change = (predicted.values * 100 / lastValue) - 100\n",
    "    if change > 0:\n",
    "        mark = 'PositiveTrend'\n",
    "    else: mark = 'NegativeTrend'\n",
    "        \n",
    "    print ('-'*10 + '\\nSTOCK:%s, type:%s\\n'%(stock, typeBlockchain))\n",
    "    print ('Change between last (%f) and predicted values(%f) = %f perc.\\n%s' \\\n",
    "           % (lastValue, predicted.values, change, mark))"
   ]
  },
  {
   "cell_type": "code",
   "execution_count": 84,
   "metadata": {},
   "outputs": [
    {
     "name": "stdout",
     "output_type": "stream",
     "text": [
      "----------\n",
      "STOCK:poloniex, type:USDT_BTC\n",
      "\n",
      "Change between last (2565.999999) and predicted values(2545.130371) = -0.813316 perc.\n",
      "NegativeTrend\n",
      "----------\n",
      "STOCK:poloniex, type:USDT_LTC\n",
      "\n",
      "Change between last (42.110000) and predicted values(42.890644) = 1.853821 perc.\n",
      "PositiveTrend\n",
      "----------\n",
      "STOCK:poloniex, type:USDT_ETH\n",
      "\n",
      "Change between last (203.000000) and predicted values(193.827957) = -4.518250 perc.\n",
      "NegativeTrend\n",
      "----------\n",
      "STOCK:poloniex, type:USDT_ETC\n",
      "\n",
      "Change between last (14.620000) and predicted values(14.239629) = -2.601715 perc.\n",
      "NegativeTrend\n",
      "----------\n",
      "STOCK:poloniex, type:USDT_XRP\n",
      "\n",
      "Change between last (0.174540) and predicted values(0.177823) = 1.881226 perc.\n",
      "PositiveTrend\n"
     ]
    }
   ],
   "source": [
    "stock = 'poloniex'\n",
    "\n",
    "for index in np.arange(len(allCurrency)):\n",
    "    checkTrend(allCurrency[index], stock , predictedValues[index] )"
   ]
  }
 ],
 "metadata": {
  "kernelspec": {
   "display_name": "Python 3",
   "language": "python",
   "name": "python3"
  },
  "language_info": {
   "codemirror_mode": {
    "name": "ipython",
    "version": 3
   },
   "file_extension": ".py",
   "mimetype": "text/x-python",
   "name": "python",
   "nbconvert_exporter": "python",
   "pygments_lexer": "ipython3",
   "version": "3.6.1"
  }
 },
 "nbformat": 4,
 "nbformat_minor": 2
}
