{
 "cells": [
  {
   "cell_type": "code",
   "execution_count": 14,
   "metadata": {},
   "outputs": [],
   "source": [
    "import tweepy as TW\n",
    "import pandas as pd\n",
    "import nltk\n",
    "import re\n",
    "import datetime as dt\n",
    "# connect to twitter API\n",
    "\n",
    "CONSUMER_KEY = 'XkmU3czKdJ1jfzUAIWELFC9y8'\n",
    "CONSUMER_SECRET = 'HlxpwfuShIh8OXRGjWgT2h3fD9JMC6HNtQ11N28WFFDzpCUHO0'\n",
    "ACCESS_TOKEN = \t'4826647649-GRcsvzCoPjdTdosCCgYY9zalhBytNbSuVaemIvH'\n",
    "ACCESS_TOKEN_SECRET = '93l4Mh1KLfexPNxwqZ4mtjUhseGWe5xQecS0Sd7YfdCbm'\n",
    "\n",
    "auth =TW.OAuthHandler(CONSUMER_KEY, CONSUMER_SECRET)\n",
    "auth.set_access_token(ACCESS_TOKEN, ACCESS_TOKEN_SECRET)  \n",
    "api = TW.API(auth)\n",
    "\n",
    "\n",
    "def parsingTwitter():\n",
    "    data = {'date': [], 'text': []}\n",
    "\n",
    "    for tweet in TW.Cursor(api.search, \n",
    "                        q=\"blockchain\",                       \n",
    "                        since=\"2017-06-10\", \n",
    "                        until=\"2017-08-10\", \n",
    "                        lang=\"en\").items(700):   \n",
    "\n",
    "            data['text'].append( tweet.text)\n",
    "            data['date'].append(tweet.created_at)\n",
    "    \n",
    "    #Оберточка дикт в пандас\n",
    "    data = pd.DataFrame(data)\n",
    "    data.text = data.text.drop_duplicates()\n",
    "    data = data.dropna()\n",
    "    return data\n",
    "    "
   ]
  },
  {
   "cell_type": "markdown",
   "metadata": {},
   "source": [
    "## Filter dataframe"
   ]
  },
  {
   "cell_type": "code",
   "execution_count": 2,
   "metadata": {
    "collapsed": true
   },
   "outputs": [],
   "source": [
    "stop_list = nltk.corpus.stopwords.words('english') + [\"rt\"] + ['[slides]']+ [\"re\"]\n",
    "\n",
    "lemmatizer = nltk.stem.WordNetLemmatizer()\n",
    "reg = '(\\:\\w+\\:|\\<[\\/\\\\]?3|[\\(\\)\\\\\\D|\\*\\$][\\-\\^]?[\\:\\;\\=]|[\\:\\;\\=B8][\\-\\^]?[3DOPp\\@\\$\\*\\\\\\)\\(\\/\\|])(?=\\s|[\\!\\.\\?]|$)'\n",
    "\n",
    "emoji_pattern = re.compile(u'('\n",
    "    u'\\ud83c[\\udf00-\\udfff]|'\n",
    "    u'\\ud83d[\\udc00-\\ude4f\\ude80-\\udeff]|'\n",
    "    u'[\\u2600-\\u26FF\\u2700-\\u27BF])+', \n",
    "    re.UNICODE)\n",
    "\n",
    "\n",
    "def preprocess(tweet):   \n",
    "\n",
    "    tweet = tweet.lower()\n",
    "    #tweet = \" \".join(tweet.split('#'))\n",
    "    tweet = re.sub('((www\\.[^\\s]+)|(https://[^\\s]+))','',tweet)\n",
    "    tweet = re.sub('((pic\\.[^\\s]+)|(https://[^\\s]+))','',tweet)\n",
    "    tweet = re.sub(\"(http\\S+)|(https\\S+)\", '', tweet)\n",
    "    tweet = re.sub(reg,'',tweet)\n",
    "    #tweet = re.sub(u'[a-zA-Z0-9./]+\\.[a-zA-Z0-9./ ]+.*$','',tweet)\n",
    "    \n",
    "    tweet = re.sub(u'[\\(\\)]',' ',tweet)\n",
    "    tweet = re.sub(u'\\n',' ',tweet)\n",
    "    tweet = re.sub(u'@[^\\s]+','',tweet)  \n",
    "    tweet = re.sub(r'#[^\\s]+', '', tweet)\n",
    "    tweet = tweet.strip('\\'\"')\n",
    "    twitter = emoji_pattern.sub('', tweet)\n",
    "    tweet = re.sub('[\\W]', ' ', tweet)\n",
    "    \n",
    "    # Removing stop words \n",
    "    tweet  = \" \".join([word for word in tweet.split(\" \") if word not in stop_list])\n",
    "    tweet = \" \".join([lemmatizer.lemmatize(word) for word in tweet.split(\" \")])\n",
    "    return tweet\n"
   ]
  },
  {
   "cell_type": "markdown",
   "metadata": {},
   "source": [
    "# Semantic analise"
   ]
  },
  {
   "cell_type": "code",
   "execution_count": 3,
   "metadata": {},
   "outputs": [
    {
     "name": "stderr",
     "output_type": "stream",
     "text": [
      "/root/anaconda/lib/python3.6/site-packages/nltk/twitter/__init__.py:20: UserWarning: The twython library has not been installed. Some functionality from the twitter package will not be available.\n",
      "  warnings.warn(\"The twython library has not been installed. \"\n"
     ]
    }
   ],
   "source": [
    "from nltk.sentiment.vader import SentimentIntensityAnalyzer\n",
    "\n",
    "def makeSentimentAnalyse(data):\n",
    "    sid = SentimentIntensityAnalyzer()\n",
    "    s_analisys_dataframe = pd.DataFrame()\n",
    "\n",
    "    for i in data.index:\n",
    "        ss = sid.polarity_scores(data.processed_text[i])\n",
    "        ss['date'] = data.date[i]\n",
    "        returnDF = pd.DataFrame(pd.Series(ss,index=ss.keys())).T\n",
    "        s_analisys_dataframe = s_analisys_dataframe.append(returnDF, ignore_index=True)\n",
    "    return s_analisys_dataframe"
   ]
  },
  {
   "cell_type": "markdown",
   "metadata": {},
   "source": [
    "## Prepare Dataframe"
   ]
  },
  {
   "cell_type": "code",
   "execution_count": 84,
   "metadata": {
    "collapsed": true
   },
   "outputs": [],
   "source": [
    "def prepareDataframe(dataframe):\n",
    "    start_time = dataframe.date.min().floor('d')\n",
    "    end_time = dataframe.date.max()\n",
    "    \n",
    "    returned_df = {'date': [],'neg':[], 'neu':[],'pos':[], 'compound':[]}#\n",
    "    \n",
    "    for i in pd.date_range(start_time, end_time):\n",
    "\n",
    "        df_new = dataframe[(dataframe['date'] >= i) \\\n",
    "                            & (dataframe['date'] < i+ dt.timedelta(1))].mean()\n",
    "        \n",
    "        returned_df['date'].append(i)\n",
    "        returned_df['neg'].append(df_new.neg)\n",
    "        returned_df['neu'].append(df_new.neu)\n",
    "        returned_df['pos'].append( df_new.pos)\n",
    "        returned_df['compound'].append(df_new['compound'])\n",
    "        \n",
    "    return pd.DataFrame(returned_df)"
   ]
  },
  {
   "cell_type": "markdown",
   "metadata": {},
   "source": [
    "## Construct model\n"
   ]
  },
  {
   "cell_type": "code",
   "execution_count": 5,
   "metadata": {},
   "outputs": [
    {
     "name": "stderr",
     "output_type": "stream",
     "text": [
      "Using TensorFlow backend.\n"
     ]
    },
    {
     "name": "stdout",
     "output_type": "stream",
     "text": [
      "Couldn't import dot_parser, loading of dot files will not be possible.\n"
     ]
    }
   ],
   "source": [
    "from keras.callbacks import History \n",
    "from keras.layers.core import Dense, Activation, Dropout\n",
    "from keras.models import Sequential, load_model, save_model\n",
    "\n",
    "input_dim = 1\n",
    "NN_initialisation = 'uniform'\n",
    "NN_activation = 'relu'\n",
    "NN_loss = 'mean_squared_error'\n",
    "\n",
    "def buildModel_NN():\n",
    "    model=Sequential()\n",
    "    model.add(Dense(32,input_dim=input_dim,init=NN_initialisation,activation=NN_activation))\n",
    "    model.add(Dense(32,input_dim=input_dim,init=NN_initialisation,activation=NN_activation))\n",
    "    model.add(Dense(16,init=NN_initialisation,activation=NN_activation))\n",
    "    \n",
    "    model.add(Dense(1,init=NN_initialisation,activation=NN_activation))\n",
    "    model.compile(loss = NN_loss,optimizer='adam',metrics=['accuracy'])\n"
   ]
  },
  {
   "cell_type": "code",
   "execution_count": 95,
   "metadata": {},
   "outputs": [],
   "source": [
    "#############################\n",
    "# ТЕСТОВЫЙ ПРОГОН\n",
    "#########\"\n",
    "from dateutil import parser\n",
    "import matplotlib.pyplot as plt\n",
    "import src.get_data as get_data\n",
    "from sklearn.preprocessing import MinMaxScaler\n",
    "\n",
    "%matplotlib inline \n",
    "tweet = pd.read_csv('./data/news.csv', names=['id','date', 'time', 'tweet', 'comp', 'neg', 'neu','pos', 'REQUEST'])\n",
    "\n",
    "data = tweet[['date', 'tweet']].copy()\n",
    "data.date = [parser.parse(x) for x in data.date]\n",
    "data['processed_text'] = part_tweet_df.tweet.apply(preprocess)\n",
    "\n",
    "s_analisys_dataframe = makeSentimentAnalyse(data)\n",
    "data_twitter = prepareDataframe(s_analisys_dataframe)\n",
    "\n",
    "df = get_data.get_data_frame() \n",
    "\n",
    "dataframe_for_analise = pd.concat([df, data_twitter], axis = 1, ignore_index=False).dropna()\n",
    "\n",
    "# Шклалируем данные  \n",
    "\n",
    "x_scaler = MinMaxScaler()\n",
    "y_scaler = MinMaxScaler()\n",
    "\n",
    "features = ['compound','neg','neu','pos'] # набор фич, по которым будем делать предсказания\n",
    "\n",
    "x = dataframe_for_analise[features].copy() \n",
    "x = x_scaler.fit_transform(x)\n",
    "NUM_FEATURES = x.shape[1]\n",
    "\n",
    "y = dataframe_for_analise['close'].copy() \n",
    "y = y_scaler.fit_transform(y.values.reshape(-1, 1))\n",
    "\n",
    "x = pd.DataFrame(x)\n",
    "y = pd.DataFrame(y)\n",
    "(x.plot())\n",
    "y.plot()\n",
    "plt.show()\n"
   ]
  },
  {
   "cell_type": "code",
   "execution_count": 99,
   "metadata": {},
   "outputs": [
    {
     "data": {
      "image/png": "[encoded data removed]",
      "text/plain": [
       "<matplotlib.figure.Figure at 0x7f6954600710>"
      ]
     },
     "metadata": {},
     "output_type": "display_data"
    },
    {
     "data": {
      "image/png": "[encoded data removed]",
      "text/plain": [
       "<matplotlib.figure.Figure at 0x7f695460fc50>"
      ]
     },
     "metadata": {},
     "output_type": "display_data"
    }
   ],
   "source": []
  },
  {
   "cell_type": "markdown",
   "metadata": {},
   "source": [
    "## Основная моделька"
   ]
  },
  {
   "cell_type": "code",
   "execution_count": 300,
   "metadata": {},
   "outputs": [],
   "source": [
    "import src.load_data\n",
    "import src.get_data as get_data\n",
    "\n",
    "from sklearn.preprocessing import MinMaxScaler\n",
    "\n",
    "# Парсим данные с твиттера\n",
    "\n",
    "data = parsingTwitter()\n",
    "data['processed_text'] = data.text.apply(preprocess)\n",
    "s_analisys_dataframe = makeSentimentAnalyse(data)\n",
    "data_twitter = prepareDataframe(s_analisys_dataframe)\n",
    "\n",
    "\n",
    "# Обращаемся в базу за значениями цены закрытия и \n",
    "# собираем датафрейм для анализа\n",
    "\n",
    "df = get_data.get_data_frame() \n",
    "\n",
    "df = df[['close','date']]\n",
    "df.index = df.date\n",
    "df = df['close']\n",
    "data_twitter.index = data_twitter.date\n",
    "data_twitter = data_twitter[['compound','neg','neu','pos']]\n",
    "\n",
    "dataframe_for_analise = pd.concat([df, data_twitter], axis = 1, ignore_index=False).dropna()\n",
    "\n",
    "# Шклалируем данные  \n",
    "\n",
    "x_scaler = MinMaxScaler()\n",
    "y_scaler = MinMaxScaler()\n",
    "\n",
    "features = ['compound','neg','neu','pos'] # набор фич, по которым будем делать предсказания\n",
    "\n",
    "x = dataframe_for_analise[features].copy() \n",
    "x = x_scaler.fit_transform(x)\n",
    "NUM_FEATURES = x.shape[1]\n",
    "\n",
    "y = dataframe_for_analise['close'].copy() \n",
    "y = y_scaler.fit_transform(y.values.reshape(-1, 1))\n",
    "x['close'] = y\n",
    "\n",
    "# Разбиваем данные на тренировочные и тестовые\n",
    "\n",
    "X_train, y_train, X_test, y_test = load.load_data(x, WINDOW, train_size= 0.96, TrainTest = True)\n",
    "\n",
    "x = x[features]\n",
    "\n",
    "# Вызываем сбор модели для обучения\n",
    "model = buildModel_NN()\n",
    "\n",
    "history = History()\n",
    "history= model.fit(X_train, y_train, validation_data=(X_test, y_test), \\\n",
    "                   batch_size=32, epochs=500,verbose=0, callbacks=[history])"
   ]
  },
  {
   "cell_type": "code",
   "execution_count": null,
   "metadata": {
    "collapsed": true
   },
   "outputs": [],
   "source": [
    "today = time.strftime(\"_%d_%m_%Y\")\n",
    "    \n",
    "pathModel = \"twitter_model_\" +\".h5\"\n",
    "save_model(model, pathModel)\n",
    "\n",
    "astbatch = np.array(x[-WINDOW:])\n",
    "pred = model.predict([lastbatch.reshape(1,WINDOW, NUM_FEATURES)])\n",
    "pred =  np.array(y_scaler.inverse_transform(pred)) "
   ]
  }
 ],
 "metadata": {
  "kernelspec": {
   "display_name": "Python 3",
   "language": "python",
   "name": "python3"
  },
  "language_info": {
   "codemirror_mode": {
    "name": "ipython",
    "version": 3
   },
   "file_extension": ".py",
   "mimetype": "text/x-python",
   "name": "python",
   "nbconvert_exporter": "python",
   "pygments_lexer": "ipython3",
   "version": "3.6.1"
  }
 },
 "nbformat": 4,
 "nbformat_minor": 2
}
