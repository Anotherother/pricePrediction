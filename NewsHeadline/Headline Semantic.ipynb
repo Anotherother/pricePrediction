{
 "cells": [
  {
   "cell_type": "code",
   "execution_count": 15,
   "metadata": {},
   "outputs": [
    {
     "name": "stdout",
     "output_type": "stream",
     "text": [
      "The autoreload extension is already loaded. To reload it, use:\n",
      "  %reload_ext autoreload\n"
     ]
    }
   ],
   "source": [
    "import pandas as pd\n",
    "import src.prepare_dataframe as df_prep\n",
    "import src.parse_news as PN\n",
    "import src.get_data as get_data\n",
    "import matplotlib.pyplot as plt\n",
    "\n",
    "%matplotlib inline\n",
    "\n",
    "%load_ext autoreload\n",
    "%autoreload 2"
   ]
  },
  {
   "cell_type": "code",
   "execution_count": 2,
   "metadata": {
    "collapsed": true
   },
   "outputs": [],
   "source": [
    "cryptocoinnews = df_prep.read_csv_dataframe('./data/cryptocoinnews.csv')\n",
    "coindesk = df_prep.read_csv_dataframe('./data/coindesk.csv')\n",
    "news_btc_com = df_prep.read_csv_dataframe('./data/news_bitcoin_com.csv')"
   ]
  },
  {
   "cell_type": "markdown",
   "metadata": {},
   "source": [
    "### Sentiment Analisys"
   ]
  },
  {
   "cell_type": "code",
   "execution_count": 3,
   "metadata": {},
   "outputs": [
    {
     "name": "stderr",
     "output_type": "stream",
     "text": [
      "C:\\ProgramData\\Anaconda3\\lib\\site-packages\\nltk\\twitter\\__init__.py:20: UserWarning: The twython library has not been installed. Some functionality from the twitter package will not be available.\n",
      "  warnings.warn(\"The twython library has not been installed. \"\n"
     ]
    }
   ],
   "source": [
    "from nltk.sentiment.vader import SentimentIntensityAnalyzer\n",
    "\n",
    "def makeSentimentAnalyse(data):\n",
    "    sid = SentimentIntensityAnalyzer()\n",
    "    s_analisys_dataframe = pd.DataFrame()\n",
    "\n",
    "    for i in data.index:\n",
    "        ss = sid.polarity_scores(data.title[i])\n",
    "        returnDF = pd.DataFrame(pd.Series(ss,index=ss.keys())).T\n",
    "        s_analisys_dataframe = s_analisys_dataframe.append(returnDF, ignore_index=True)\n",
    "    return s_analisys_dataframe"
   ]
  },
  {
   "cell_type": "code",
   "execution_count": 4,
   "metadata": {
    "collapsed": true
   },
   "outputs": [],
   "source": [
    "SA_cryptocoinnews =makeSentimentAnalyse(cryptocoinnews)\n",
    "SA_coindesk =makeSentimentAnalyse(coindesk)\n",
    "SA_news_btc_com =makeSentimentAnalyse(news_btc_com)"
   ]
  },
  {
   "cell_type": "code",
   "execution_count": 5,
   "metadata": {
    "collapsed": true
   },
   "outputs": [],
   "source": [
    "dataframe_cryptocoinnews = df_prep.join_SA_and_data(cryptocoinnews, SA_cryptocoinnews)\n",
    "dataframe_coindesk = df_prep.join_SA_and_data(coindesk, SA_coindesk)\n",
    "dataframe_news_btc_com = df_prep.join_SA_and_data(news_btc_com, SA_news_btc_com)"
   ]
  },
  {
   "cell_type": "markdown",
   "metadata": {},
   "source": [
    "### Average Sentiment Every day"
   ]
  },
  {
   "cell_type": "code",
   "execution_count": 6,
   "metadata": {
    "collapsed": true
   },
   "outputs": [],
   "source": [
    "cryptocoinnews_AS = df_prep.averageSintimentEveryDay(dataframe_cryptocoinnews)\n",
    "coindesk_AS = df_prep.averageSintimentEveryDay(dataframe_coindesk)\n",
    "news_btc_com_AS = df_prep.averageSintimentEveryDay(dataframe_news_btc_com)"
   ]
  },
  {
   "cell_type": "code",
   "execution_count": 7,
   "metadata": {},
   "outputs": [
    {
     "data": {
      "text/html": [
       "<div>\n",
       "<style>\n",
       "    .dataframe thead tr:only-child th {\n",
       "        text-align: right;\n",
       "    }\n",
       "\n",
       "    .dataframe thead th {\n",
       "        text-align: left;\n",
       "    }\n",
       "\n",
       "    .dataframe tbody tr th {\n",
       "        vertical-align: top;\n",
       "    }\n",
       "</style>\n",
       "<table border=\"1\" class=\"dataframe\">\n",
       "  <thead>\n",
       "    <tr style=\"text-align: right;\">\n",
       "      <th></th>\n",
       "      <th>date</th>\n",
       "      <th>neg</th>\n",
       "      <th>neu</th>\n",
       "      <th>pos</th>\n",
       "    </tr>\n",
       "  </thead>\n",
       "  <tbody>\n",
       "    <tr>\n",
       "      <th>0</th>\n",
       "      <td>2017-08-09</td>\n",
       "      <td>0.000</td>\n",
       "      <td>0.7685</td>\n",
       "      <td>0.2315</td>\n",
       "    </tr>\n",
       "    <tr>\n",
       "      <th>1</th>\n",
       "      <td>2017-08-08</td>\n",
       "      <td>0.000</td>\n",
       "      <td>1.0000</td>\n",
       "      <td>0.0000</td>\n",
       "    </tr>\n",
       "    <tr>\n",
       "      <th>2</th>\n",
       "      <td>2017-08-07</td>\n",
       "      <td>0.247</td>\n",
       "      <td>0.7530</td>\n",
       "      <td>0.0000</td>\n",
       "    </tr>\n",
       "    <tr>\n",
       "      <th>3</th>\n",
       "      <td>2017-07-30</td>\n",
       "      <td>0.000</td>\n",
       "      <td>0.7620</td>\n",
       "      <td>0.2380</td>\n",
       "    </tr>\n",
       "    <tr>\n",
       "      <th>4</th>\n",
       "      <td>2017-07-24</td>\n",
       "      <td>0.000</td>\n",
       "      <td>0.5930</td>\n",
       "      <td>0.4070</td>\n",
       "    </tr>\n",
       "  </tbody>\n",
       "</table>\n",
       "</div>"
      ],
      "text/plain": [
       "        date    neg     neu     pos\n",
       "0 2017-08-09  0.000  0.7685  0.2315\n",
       "1 2017-08-08  0.000  1.0000  0.0000\n",
       "2 2017-08-07  0.247  0.7530  0.0000\n",
       "3 2017-07-30  0.000  0.7620  0.2380\n",
       "4 2017-07-24  0.000  0.5930  0.4070"
      ]
     },
     "execution_count": 7,
     "metadata": {},
     "output_type": "execute_result"
    }
   ],
   "source": [
    "cryptocoinnews_AS.head()"
   ]
  },
  {
   "cell_type": "code",
   "execution_count": 19,
   "metadata": {},
   "outputs": [
    {
     "data": {
      "text/plain": [
       "[]"
      ]
     },
     "execution_count": 19,
     "metadata": {},
     "output_type": "execute_result"
    },
    {
     "data": {
      "image/png": "[encoded data removed]",
      "text/plain": [
       "<matplotlib.figure.Figure at 0x2aec0d8bd68>"
      ]
     },
     "metadata": {},
     "output_type": "display_data"
    }
   ],
   "source": [
    "cryptocoinnews_AS.plot()\n",
    "plt.plot()"
   ]
  },
  {
   "cell_type": "markdown",
   "metadata": {},
   "source": [
    "### visualise all and compare with CLOSE price"
   ]
  },
  {
   "cell_type": "code",
   "execution_count": 22,
   "metadata": {},
   "outputs": [],
   "source": [
    "data =  get_data.get_data_frame(\"USDT_BTC\", \"poloniex\")"
   ]
  },
  {
   "cell_type": "code",
   "execution_count": 30,
   "metadata": {},
   "outputs": [
    {
     "name": "stderr",
     "output_type": "stream",
     "text": [
      "C:\\ProgramData\\Anaconda3\\lib\\site-packages\\ipykernel_launcher.py:5: FutureWarning: reshape is deprecated and will raise in a subsequent release. Please use .values.reshape(...) instead\n",
      "  \"\"\"\n"
     ]
    }
   ],
   "source": [
    "from sklearn.preprocessing import MinMaxScaler\n",
    "\n",
    "scaler = MinMaxScaler()\n",
    "\n",
    "y = scaler.fit_transform(data.close.reshape(-1,1))"
   ]
  },
  {
   "cell_type": "code",
   "execution_count": 43,
   "metadata": {},
   "outputs": [],
   "source": [
    "plt_close = pd.DataFrame(data= y, index=data.date)\n",
    "plt.close.names = 'close'\n",
    "cryptocoinnews_AS.index = cryptocoinnews_AS.date"
   ]
  },
  {
   "cell_type": "code",
   "execution_count": 44,
   "metadata": {},
   "outputs": [
    {
     "data": {
      "text/plain": [
       "<matplotlib.axes._subplots.AxesSubplot at 0x2aec15ca9b0>"
      ]
     },
     "execution_count": 44,
     "metadata": {},
     "output_type": "execute_result"
    },
    {
     "data": {
      "image/png": "[encoded data removed]",
      "text/plain": [
       "<matplotlib.figure.Figure at 0x2aec13beb38>"
      ]
     },
     "metadata": {},
     "output_type": "display_data"
    }
   ],
   "source": [
    "all_df = cryptocoinnews_AS.join(plt_close)\n",
    "all_df.plot()"
   ]
  },
  {
   "cell_type": "code",
   "execution_count": null,
   "metadata": {
    "collapsed": true
   },
   "outputs": [],
   "source": [
    "### Logistic regression\n",
    "from sklearn.linear_model import SGDClassifier, SGDRegressor, LogisticRegression\n",
    "\n",
    "basicmodel = LogisticRegression()\n",
    "basicmodel = basicmodel.fit(basictrain, train[\"label\"])\n",
    "\n",
    "testheadlines = []\n",
    "for row in range(0,len(test.index)):\n",
    "    testheadlines.append(' '.join(str(x) for x in test.iloc[row,2:27]))\n",
    "    \n",
    "basictest = basicvectorizer.transform(testheadlines)\n",
    "preds1 = basicmodel.predict(basictest)\n",
    "acc1=accuracy_score(test['Label'], preds1)"
   ]
  },
  {
   "cell_type": "code",
   "execution_count": null,
   "metadata": {
    "collapsed": true
   },
   "outputs": [],
   "source": [
    "from dateutil import parser\n",
    "import matplotlib.pyplot as plt\n",
    "import src.get_data as get_data\n",
    "from sklearn.preprocessing import MinMaxScaler\n",
    "\n",
    "%matplotlib inline \n",
    "\n",
    "x_scaler = MinMaxScaler()\n",
    "y_scaler = MinMaxScaler()\n",
    "\n",
    "features = ['neg','neu','pos'] \n",
    "\n",
    "x = dataframe_for_analise[features].copy() \n",
    "x = x_scaler.fit_transform(x)\n",
    "NUM_FEATURES = x.shape[1]\n",
    "\n",
    "y = dataframe_for_analise['close'].copy() \n",
    "y = y_scaler.fit_transform(y.values.reshape(-1, 1))\n",
    "\n",
    "x = pd.DataFrame(x, columns= features)\n",
    "y = pd.DataFrame(y, columns=['close'])"
   ]
  }
 ],
 "metadata": {
  "kernelspec": {
   "display_name": "Python 3",
   "language": "python",
   "name": "python3"
  },
  "language_info": {
   "codemirror_mode": {
    "name": "ipython",
    "version": 3
   },
   "file_extension": ".py",
   "mimetype": "text/x-python",
   "name": "python",
   "nbconvert_exporter": "python",
   "pygments_lexer": "ipython3",
   "version": "3.6.1"
  }
 },
 "nbformat": 4,
 "nbformat_minor": 1
}
