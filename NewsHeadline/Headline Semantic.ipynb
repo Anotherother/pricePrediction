{
 "cells": [
  {
   "cell_type": "code",
   "execution_count": 190,
   "metadata": {},
   "outputs": [
    {
     "name": "stdout",
     "output_type": "stream",
     "text": [
      "The autoreload extension is already loaded. To reload it, use:\n",
      "  %reload_ext autoreload\n"
     ]
    }
   ],
   "source": [
    "import pandas as pd\n",
    "import src.prepare_dataframe as df_prep\n",
    "import src.parse_news as PN\n",
    "\n",
    "%load_ext autoreload\n",
    "%autoreload 2"
   ]
  },
  {
   "cell_type": "code",
   "execution_count": 101,
   "metadata": {},
   "outputs": [],
   "source": [
    "cryptocoinnews = df_prep.read_csv_dataframe('./data/cryptocoinnews.csv')\n",
    "coindesk = df_prep.read_csv_dataframe('./data/coindesk.csv')\n",
    "news_btc_com = df_prep.read_csv_dataframe('./data/news_bitcoin_com.csv')"
   ]
  },
  {
   "cell_type": "markdown",
   "metadata": {},
   "source": [
    "### Sentiment Analisys"
   ]
  },
  {
   "cell_type": "code",
   "execution_count": 98,
   "metadata": {},
   "outputs": [],
   "source": [
    "from nltk.sentiment.vader import SentimentIntensityAnalyzer\n",
    "\n",
    "def makeSentimentAnalyse(data):\n",
    "    sid = SentimentIntensityAnalyzer()\n",
    "    s_analisys_dataframe = pd.DataFrame()\n",
    "\n",
    "    for i in data.index:\n",
    "        ss = sid.polarity_scores(data.title[i])\n",
    "        returnDF = pd.DataFrame(pd.Series(ss,index=ss.keys())).T\n",
    "        s_analisys_dataframe = s_analisys_dataframe.append(returnDF, ignore_index=True)\n",
    "    return s_analisys_dataframe"
   ]
  },
  {
   "cell_type": "code",
   "execution_count": 102,
   "metadata": {},
   "outputs": [],
   "source": [
    "SA_cryptocoinnews =makeSentimentAnalyse(cryptocoinnews)\n",
    "SA_coindesk =makeSentimentAnalyse(coindesk)\n",
    "SA_news_btc_com =makeSentimentAnalyse(news_btc_com)"
   ]
  },
  {
   "cell_type": "code",
   "execution_count": 155,
   "metadata": {},
   "outputs": [],
   "source": [
    "dataframe_cryptocoinnews = df_prep.join_SA_and_data(cryptocoinnews, SA_cryptocoinnews)\n",
    "dataframe_coindesk = df_prep.join_SA_and_data(coindesk, SA_coindesk)\n",
    "dataframe_news_btc_com = df_prep.join_SA_and_data(news_btc_com, SA_news_btc_com)"
   ]
  },
  {
   "cell_type": "markdown",
   "metadata": {},
   "source": [
    "### Average Sentiment Every day"
   ]
  },
  {
   "cell_type": "code",
   "execution_count": 189,
   "metadata": {},
   "outputs": [],
   "source": [
    "cryptocoinnews_AS = df_prep.averageSintimentEveryDay(dataframe_cryptocoinnews)\n",
    "coindesk_AS = df_prep.averageSintimentEveryDay(dataframe_coindesk)\n",
    "news_btc_com_AS = df_prep.averageSintimentEveryDay(dataframe_news_btc_com)"
   ]
  }
 ],
 "metadata": {
  "kernelspec": {
   "display_name": "Python 3",
   "language": "python",
   "name": "python3"
  },
  "language_info": {
   "codemirror_mode": {
    "name": "ipython",
    "version": 3
   },
   "file_extension": ".py",
   "mimetype": "text/x-python",
   "name": "python",
   "nbconvert_exporter": "python",
   "pygments_lexer": "ipython3",
   "version": "3.6.1"
  }
 },
 "nbformat": 4,
 "nbformat_minor": 1
}
