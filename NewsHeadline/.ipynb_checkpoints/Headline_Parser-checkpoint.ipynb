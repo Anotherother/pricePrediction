{
 "cells": [
  {
   "cell_type": "code",
   "execution_count": 4,
   "metadata": {},
   "outputs": [],
   "source": [
    "import src.parse_news as PN\n",
    "\n",
    "%load_ext autoreload\n",
    "%autoreload 2"
   ]
  },
  {
   "cell_type": "code",
   "execution_count": 24,
   "metadata": {},
   "outputs": [
    {
     "name": "stdout",
     "output_type": "stream",
     "text": [
      "parsing cryptocoinnews.com/accepts-bitcoin\n",
      "Crawled page 1: Extracted 16\n",
      "cryptocoinnews.com: 16 articles has been extracted.\n"
     ]
    }
   ],
   "source": [
    "# 'section' in this function  - link on site.  accepts-bitcoin - info bitcoin\n",
    "d = PN.crawl_cryptocoinnews(section='accepts-bitcoin', no_of_last_pages=2)"
   ]
  },
  {
   "cell_type": "code",
   "execution_count": 16,
   "metadata": {},
   "outputs": [
    {
     "name": "stdout",
     "output_type": "stream",
     "text": [
      "parsing bitcoin\n",
      "Crawled page 1: Extracted 32\n",
      "news.bitcoin.com: 32 articles has been extracted.\n",
      "Crawled page 2: Extracted 9\n",
      "news.bitcoin.com: 41 articles has been extracted.\n"
     ]
    }
   ],
   "source": [
    "d2 = PN.crawl_bitcoin(no_of_last_pages = 3)"
   ]
  },
  {
   "cell_type": "code",
   "execution_count": 20,
   "metadata": {
    "collapsed": true
   },
   "outputs": [],
   "source": [
    "d3 = PN.crawl_coindesk()"
   ]
  }
 ],
 "metadata": {
  "kernelspec": {
   "display_name": "Python 3",
   "language": "python",
   "name": "python3"
  },
  "language_info": {
   "codemirror_mode": {
    "name": "ipython",
    "version": 3
   },
   "file_extension": ".py",
   "mimetype": "text/x-python",
   "name": "python",
   "nbconvert_exporter": "python",
   "pygments_lexer": "ipython3",
   "version": "3.6.1"
  }
 },
 "nbformat": 4,
 "nbformat_minor": 2
}
