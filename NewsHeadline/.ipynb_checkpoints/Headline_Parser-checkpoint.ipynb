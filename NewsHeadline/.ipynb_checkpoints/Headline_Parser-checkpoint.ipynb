{
 "cells": [
  {
   "cell_type": "code",
   "execution_count": 20,
   "metadata": {},
   "outputs": [
    {
     "name": "stdout",
     "output_type": "stream",
     "text": [
      "The autoreload extension is already loaded. To reload it, use:\n",
      "  %reload_ext autoreload\n"
     ]
    }
   ],
   "source": [
    "import src.parse_news as PN\n",
    "import src.prepare_dataframe as LD\n",
    "import pandas as pd\n",
    "\n",
    "%load_ext autoreload\n",
    "%autoreload 2"
   ]
  },
  {
   "cell_type": "code",
   "execution_count": 39,
   "metadata": {
    "scrolled": true
   },
   "outputs": [
    {
     "name": "stdout",
     "output_type": "stream",
     "text": [
      "LOAD news\n",
      "parsing cryptocoinnews.com/accepts-bitcoin\n",
      "parse page 1: Extracted 16\n",
      "cryptocoinnews.com: 16 articles has been extracted.\n",
      "parse page 2: Extracted 16\n",
      "cryptocoinnews.com: 32 articles has been extracted.\n",
      "parse page 3: Extracted 16\n",
      "cryptocoinnews.com: 48 articles has been extracted.\n",
      "parse page 4: Extracted 16\n",
      "cryptocoinnews.com: 64 articles has been extracted.\n",
      "parse page 5: Extracted 16\n",
      "cryptocoinnews.com: 80 articles has been extracted.\n",
      "parse page 6: Extracted 16\n",
      "cryptocoinnews.com: 96 articles has been extracted.\n",
      "parse page 7: Extracted 16\n",
      "cryptocoinnews.com: 112 articles has been extracted.\n",
      "parse page 8: Extracted 16\n",
      "cryptocoinnews.com: 128 articles has been extracted.\n",
      "parse page 9: Extracted 16\n",
      "cryptocoinnews.com: 144 articles has been extracted.\n",
      "parse page 10: Extracted 16\n",
      "cryptocoinnews.com: 160 articles has been extracted.\n",
      "parse page 11: Extracted 16\n",
      "cryptocoinnews.com: 176 articles has been extracted.\n",
      "parse page 12: Extracted 16\n",
      "cryptocoinnews.com: 192 articles has been extracted.\n",
      "parse page 13: Extracted 16\n",
      "cryptocoinnews.com: 208 articles has been extracted.\n",
      "parse page 14: Extracted 16\n",
      "cryptocoinnews.com: 224 articles has been extracted.\n",
      "parse page 15: Extracted 16\n",
      "cryptocoinnews.com: 240 articles has been extracted.\n",
      "parse page 16: Extracted 16\n",
      "cryptocoinnews.com: 256 articles has been extracted.\n",
      "parse page 17: Extracted 16\n",
      "cryptocoinnews.com: 272 articles has been extracted.\n",
      "parse page 18: Extracted 16\n",
      "cryptocoinnews.com: 288 articles has been extracted.\n",
      "parse page 19: Extracted 16\n",
      "cryptocoinnews.com: 304 articles has been extracted.\n",
      "parse page 20: Extracted 16\n",
      "cryptocoinnews.com: 320 articles has been extracted.\n",
      "parse page 21: Extracted 16\n",
      "cryptocoinnews.com: 336 articles has been extracted.\n",
      "parse page 22: Extracted 16\n",
      "cryptocoinnews.com: 352 articles has been extracted.\n",
      "parse page 23: Extracted 16\n",
      "cryptocoinnews.com: 368 articles has been extracted.\n",
      "parse page 24: Extracted 16\n",
      "cryptocoinnews.com: 384 articles has been extracted.\n",
      "parse page 25: Extracted 16\n",
      "cryptocoinnews.com: 400 articles has been extracted.\n",
      "parse page 26: Extracted 16\n",
      "cryptocoinnews.com: 416 articles has been extracted.\n",
      "parse page 27: Extracted 16\n",
      "cryptocoinnews.com: 432 articles has been extracted.\n",
      "parse page 28: Extracted 16\n",
      "cryptocoinnews.com: 448 articles has been extracted.\n",
      "parse page 29: Extracted 16\n",
      "cryptocoinnews.com: 464 articles has been extracted.\n",
      "parse page 30: Extracted 16\n",
      "cryptocoinnews.com: 480 articles has been extracted.\n",
      "parse page 31: Extracted 16\n",
      "cryptocoinnews.com: 496 articles has been extracted.\n",
      "parse page 32: Extracted 16\n",
      "cryptocoinnews.com: 512 articles has been extracted.\n",
      "parse page 33: Extracted 16\n",
      "cryptocoinnews.com: 528 articles has been extracted.\n",
      "parse page 34: Extracted 16\n",
      "cryptocoinnews.com: 544 articles has been extracted.\n",
      "parse page 35: Extracted 16\n",
      "cryptocoinnews.com: 560 articles has been extracted.\n",
      "parse page 36: Extracted 16\n",
      "cryptocoinnews.com: 576 articles has been extracted.\n",
      "parse page 37: Extracted 16\n",
      "cryptocoinnews.com: 592 articles has been extracted.\n",
      "parse page 38: Extracted 16\n",
      "cryptocoinnews.com: 608 articles has been extracted.\n",
      "parse page 39: Extracted 16\n",
      "cryptocoinnews.com: 624 articles has been extracted.\n",
      "parse page 40: Extracted 16\n",
      "cryptocoinnews.com: 640 articles has been extracted.\n",
      "parse page 41: Extracted 16\n",
      "cryptocoinnews.com: 656 articles has been extracted.\n",
      "parse page 42: Extracted 16\n",
      "cryptocoinnews.com: 672 articles has been extracted.\n",
      "parse page 43: Extracted 16\n",
      "cryptocoinnews.com: 688 articles has been extracted.\n",
      "parse page 44: Extracted 16\n",
      "cryptocoinnews.com: 704 articles has been extracted.\n",
      "parse page 45: Extracted 16\n",
      "cryptocoinnews.com: 720 articles has been extracted.\n",
      "parse page 46: Extracted 4\n",
      "cryptocoinnews.com: 724 articles has been extracted.\n",
      "parse page 47: Extracted 20\n"
     ]
    },
    {
     "ename": "IndexError",
     "evalue": "list index out of range",
     "output_type": "error",
     "traceback": [
      "\u001b[1;31m---------------------------------------------------------------------------\u001b[0m",
      "\u001b[1;31mIndexError\u001b[0m                                Traceback (most recent call last)",
      "\u001b[1;32m<ipython-input-39-3b01402cd1cb>\u001b[0m in \u001b[0;36m<module>\u001b[1;34m()\u001b[0m\n\u001b[0;32m     13\u001b[0m \u001b[1;33m\u001b[0m\u001b[0m\n\u001b[0;32m     14\u001b[0m     PN.crawl_cryptocoinnews(section='accepts-bitcoin', no_of_last_pages=labels[i], \n\u001b[1;32m---> 15\u001b[1;33m                             output_filename = keys[i])\n\u001b[0m",
      "\u001b[1;32mC:\\workspace\\GithubProjects\\pricePrediction\\NewsHeadline\\src\\parse_news.py\u001b[0m in \u001b[0;36mcrawl_cryptocoinnews\u001b[1;34m(section, no_of_last_pages, output_filename)\u001b[0m\n\u001b[0;32m     73\u001b[0m             \u001b[0msplitted_date\u001b[0m \u001b[1;33m=\u001b[0m \u001b[0mpostTagObj\u001b[0m\u001b[1;33m(\u001b[0m\u001b[1;34m'span.date'\u001b[0m\u001b[1;33m)\u001b[0m\u001b[1;33m.\u001b[0m\u001b[0mtext\u001b[0m\u001b[1;33m(\u001b[0m\u001b[1;33m)\u001b[0m\u001b[1;33m.\u001b[0m\u001b[0msplit\u001b[0m\u001b[1;33m(\u001b[0m\u001b[1;34m'/'\u001b[0m\u001b[1;33m)\u001b[0m\u001b[1;33m\u001b[0m\u001b[0m\n\u001b[0;32m     74\u001b[0m \u001b[1;33m\u001b[0m\u001b[0m\n\u001b[1;32m---> 75\u001b[1;33m             \u001b[0mtime\u001b[0m \u001b[1;33m=\u001b[0m \u001b[0mstr\u001b[0m\u001b[1;33m(\u001b[0m\u001b[0msplitted_date\u001b[0m\u001b[1;33m[\u001b[0m\u001b[1;36m2\u001b[0m\u001b[1;33m]\u001b[0m\u001b[1;33m)\u001b[0m \u001b[1;33m+\u001b[0m \u001b[1;34m'-'\u001b[0m \u001b[1;33m+\u001b[0m \u001b[0mstr\u001b[0m\u001b[1;33m(\u001b[0m\u001b[0msplitted_date\u001b[0m\u001b[1;33m[\u001b[0m\u001b[1;36m1\u001b[0m\u001b[1;33m]\u001b[0m\u001b[1;33m)\u001b[0m \u001b[1;33m+\u001b[0m \u001b[1;34m'-'\u001b[0m \u001b[1;33m+\u001b[0m \u001b[0mstr\u001b[0m\u001b[1;33m(\u001b[0m\u001b[0msplitted_date\u001b[0m\u001b[1;33m[\u001b[0m\u001b[1;36m0\u001b[0m\u001b[1;33m]\u001b[0m\u001b[1;33m)\u001b[0m\u001b[0;31m\\\u001b[0m\u001b[1;33m\u001b[0m\u001b[0m\n\u001b[0m\u001b[0;32m     76\u001b[0m \u001b[1;33m\u001b[0m\u001b[0m\n\u001b[0;32m     77\u001b[0m             \u001b[0murl\u001b[0m \u001b[1;33m=\u001b[0m \u001b[0mpostTagObj\u001b[0m\u001b[1;33m(\u001b[0m\u001b[1;34m'div > h3 > a'\u001b[0m\u001b[1;33m)\u001b[0m\u001b[1;33m.\u001b[0m\u001b[0mattr\u001b[0m\u001b[1;33m(\u001b[0m\u001b[1;34m'href'\u001b[0m\u001b[1;33m)\u001b[0m\u001b[1;33m\u001b[0m\u001b[0m\n",
      "\u001b[1;31mIndexError\u001b[0m: list index out of range"
     ]
    }
   ],
   "source": [
    "# 'section' - link on site.  accepts-bitcoin - info bitcoin\n",
    "\n",
    "list_pages = {\n",
    "              'news':  544,\n",
    "              'accepts-bitcoin': 46,\n",
    "              'bitcoin-analysis': 66\n",
    "             }\n",
    "for i in range(len(list_pages)):\n",
    "    \n",
    "    labels = list(list_pages.values())\n",
    "    keys = list(list_pages.keys())\n",
    "    print ('LOAD ' + str(keys[i]))\n",
    "    \n",
    "    PN.crawl_cryptocoinnews(section=keys[i], no_of_last_pages=labels[i], \n",
    "                            output_filename = keys[i])"
   ]
  },
  {
   "cell_type": "code",
   "execution_count": null,
   "metadata": {
    "scrolled": true
   },
   "outputs": [],
   "source": [
    "d2 = PN.crawl_bitcoin(no_of_last_pages = 370)"
   ]
  },
  {
   "cell_type": "code",
   "execution_count": null,
   "metadata": {
    "collapsed": true
   },
   "outputs": [],
   "source": [
    "d3 = PN.crawl_coindesk()"
   ]
  }
 ],
 "metadata": {
  "kernelspec": {
   "display_name": "Python 3",
   "language": "python",
   "name": "python3"
  },
  "language_info": {
   "codemirror_mode": {
    "name": "ipython",
    "version": 3
   },
   "file_extension": ".py",
   "mimetype": "text/x-python",
   "name": "python",
   "nbconvert_exporter": "python",
   "pygments_lexer": "ipython3",
   "version": "3.6.1"
  }
 },
 "nbformat": 4,
 "nbformat_minor": 1
}
