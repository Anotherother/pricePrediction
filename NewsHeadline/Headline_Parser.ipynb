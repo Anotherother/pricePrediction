{
 "cells": [
  {
   "cell_type": "code",
   "execution_count": 74,
   "metadata": {},
   "outputs": [
    {
     "name": "stdout",
     "output_type": "stream",
     "text": [
      "The autoreload extension is already loaded. To reload it, use:\n",
      "  %reload_ext autoreload\n"
     ]
    }
   ],
   "source": [
    "import src.parse_news as PN\n",
    "import src.load_dataframe as LD\n",
    "%load_ext autoreload\n",
    "%autoreload 2"
   ]
  },
  {
   "cell_type": "code",
   "execution_count": 78,
   "metadata": {
    "scrolled": true
   },
   "outputs": [
    {
     "name": "stdout",
     "output_type": "stream",
     "text": [
      "parsing cryptocoinnews.com/accepts-bitcoin\n",
      "parse page 1: Extracted 16\n",
      "cryptocoinnews.com: 16 articles has been extracted.\n"
     ]
    }
   ],
   "source": [
    "# 'section' in this function  - link on site.  accepts-bitcoin - info bitcoin\n",
    "d = PN.crawl_cryptocoinnews(section='accepts-bitcoin', no_of_last_pages=2)"
   ]
  },
  {
   "cell_type": "code",
   "execution_count": 79,
   "metadata": {
    "scrolled": true
   },
   "outputs": [
    {
     "name": "stdout",
     "output_type": "stream",
     "text": [
      "parsing bitcoin\n",
      "Crawled page 1: Extracted 32\n",
      "news.bitcoin.com: 32 articles has been extracted.\n",
      "Crawled page 2: Extracted 9\n",
      "news.bitcoin.com: 41 articles has been extracted.\n"
     ]
    }
   ],
   "source": [
    "d2 = PN.crawl_bitcoin(no_of_last_pages = 3)"
   ]
  },
  {
   "cell_type": "code",
   "execution_count": 80,
   "metadata": {
    "collapsed": true
   },
   "outputs": [],
   "source": [
    "d3 = PN.crawl_coindesk()"
   ]
  }
 ],
 "metadata": {
  "kernelspec": {
   "display_name": "Python 3",
   "language": "python",
   "name": "python3"
  }
 },
 "nbformat": 4,
 "nbformat_minor": 1
}
