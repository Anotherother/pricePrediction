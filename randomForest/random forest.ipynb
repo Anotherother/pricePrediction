{
 "cells": [
  {
   "cell_type": "markdown",
   "metadata": {},
   "source": [
    "### Random forest for stock pred\n",
    "\n",
    "\n",
    "Link paper: https://arxiv.org/pdf/1605.00003v1.pdf"
   ]
  },
  {
   "cell_type": "code",
   "execution_count": 9,
   "metadata": {},
   "outputs": [
    {
     "name": "stdout",
     "output_type": "stream",
     "text": [
      "The autoreload extension is already loaded. To reload it, use:\n  %reload_ext autoreload\n"
     ]
    }
   ],
   "source": [
    "import randomForest.src.get_data as get_data\n",
    "import randomForest.src.indexes as idx\n",
    "\n",
    "import pandas as pd\n",
    "import seaborn as sns\n",
    "from pylab import rcParams\n",
    "import numpy as np\n",
    "import matplotlib.pyplot as plt\n",
    "\n",
    "%matplotlib inline\n",
    "\n",
    "sns.set(style='whitegrid', palette='muted', font_scale=1.5)\n",
    "\n",
    "rcParams['figure.figsize'] = 14, 8\n",
    "\n",
    "# some magic\n",
    "%load_ext autoreload\n",
    "%autoreload 2"
   ]
  },
  {
   "cell_type": "code",
   "execution_count": 6,
   "metadata": {
    "collapsed": true
   },
   "outputs": [],
   "source": [
    "data = get_data.get_data_frame()\n",
    "data = data[['open', 'close', 'low', 'high', 'volume', 'date']]"
   ]
  },
  {
   "cell_type": "markdown",
   "metadata": {},
   "source": [
    "### Technical Analisys"
   ]
  },
  {
   "cell_type": "code",
   "execution_count": 10,
   "metadata": {},
   "outputs": [
    {
     "name": "stderr",
     "output_type": "stream",
     "text": [
      "C:\\ProgramData\\Anaconda3\\lib\\site-packages\\ipykernel_launcher.py:7: FutureWarning: pd.ewm_mean is deprecated for Series and will be removed in a future version, replace with \n\tSeries.ewm(com=0.5,min_periods=0,adjust=True,ignore_na=False).mean()\n  import sys\n"
     ]
    }
   ],
   "source": [
    "# Compute another features\n",
    "\n",
    "data = idx.RSI(data,14)\n",
    "data = idx.PROC(data, 14)\n",
    "data = idx.SO(data,14)\n",
    "data = idx.Williams_R(data, 14 )\n",
    "data[\"EWMA\"] = pd.ewma(data[\"close\"], com=.5)\n",
    "data = idx.detrend_data(data)"
   ]
  },
  {
   "cell_type": "code",
   "execution_count": 11,
   "metadata": {},
   "outputs": [],
   "source": [
    "data = idx.calculate_targets(data, 1)\n",
    "data = idx.calculate_targets(data, 3)\n",
    "data = idx.calculate_targets(data, 5)\n",
    "data = idx.calculate_targets(data, 10)\n",
    "data = idx.calculate_targets(data, 14)\n",
    "data = idx.calculate_targets(data, 30)\n",
    "\n",
    "# drop nan values \n",
    "data = data.dropna()"
   ]
  },
  {
   "cell_type": "code",
   "execution_count": 16,
   "metadata": {},
   "outputs": [
    {
     "data": {
      "text/html": [
       "<script>requirejs.config({paths: { 'plotly': ['https://cdn.plot.ly/plotly-latest.min']},});if(!window.Plotly) {{require(['plotly'],function(plotly) {window.Plotly=plotly;});}}</script>"
      ],
      "text/plain": [
       "<script>requirejs.config({paths: { 'plotly': ['https://cdn.plot.ly/plotly-latest.min']},});if(!window.Plotly) {{require(['plotly'],function(plotly) {window.Plotly=plotly;});}}</script>"
      ]
     },
     "execution_count": 0,
     "metadata": {},
     "output_type": "execute_result"
    }
   ],
   "source": [
    "import plotly.graph_objs as go\n",
    "from plotly.offline import init_notebook_mode, iplot\n",
    "\n",
    "init_notebook_mode(connected=True)\n",
    "\n",
    "################### JUST PLOTLY #########\n",
    "\n",
    "#    plt.plot(data[\"WR\"],label=\"WR\")\n",
    "#    plt.plot(data[\"SO\"],label=\"So\")\n",
    "#    plt.plot(data[\"RSI\"],label=\"RSI\")\n",
    "#    plt.plot(data[\"PROC\"],label=\"PROC\")\n",
    "#    plt.plot(data[\"close\"],label=\"close\")\n",
    "#    plt.legend()\n",
    "\n",
    "\n",
    "##########################################\n",
    "\n",
    "WR  =   go.Scatter( x = data.date, y = data[\"WR\"],name=\"WR\")\n",
    "SO  =   go.Scatter( x = data.date, y = data[\"SO\"],name=\"So\")\n",
    "RSI =   go.Scatter( x = data.date, y = data[\"RSI\"],name=\"RSI\")\n",
    "PROC  =   go.Scatter( x = data.date, y = data[\"PROC\"],name=\"PROC\")\n",
    "close =   go.Scatter( x = data.date, y = data[\"close\"],name=\"close\")\n",
    "\n",
    "iplot([WR,SO,RSI,PROC,close])\n",
    "plt.show()"
   ]
  },
  {
   "cell_type": "markdown",
   "metadata": {},
   "source": [
    "# Implement Random Forest Strategy"
   ]
  },
  {
   "cell_type": "code",
   "execution_count": 17,
   "metadata": {},
   "outputs": [],
   "source": [
    "from sklearn.ensemble import RandomForestClassifier as make_forest\n",
    "\n",
    "criterion=\"gini\"\n",
    "num_features = 6\n",
    "n_estimators = 65\n",
    "prediction_window = 1\n",
    "oob_score = True\n",
    "\n",
    "train_labels = [\"Close_detrend\",\"volume\",\"EWMA\", \"SO\",\"WR\",\"RSI\"]\n",
    "\n",
    "selected_data = data.dropna(axis=0, how='any') .copy()\n",
    "selected_data = selected_data[['close', 'volume', 'RSI', 'PROC', 'SO', 'WR', 'EWMA', 'Close_detrend',\n",
    "                               'Target(1)', 'Target(3)', 'Target(5)', 'Target(10)', 'Target(14)',\n",
    "                               'Target(30)']]"
   ]
  },
  {
   "cell_type": "code",
   "execution_count": 18,
   "metadata": {
    "collapsed": true
   },
   "outputs": [],
   "source": [
    "def split_x_y(df, train_labels, PREDICTION_WINDOW):\n",
    "    x = df[train_labels].as_matrix()\n",
    "    y = df['Target({})'.format(PREDICTION_WINDOW)].as_matrix()\n",
    "    \n",
    "    return x,y\n",
    "    \n",
    "def train_on_df(x,y,train_frac):\n",
    "    msk = np.random.rand(len(x)) < train_frac\n",
    "    \n",
    "    train_x = x[msk]\n",
    "    train_y = y[msk]\n",
    "    \n",
    "    test_x = x[~msk]\n",
    "    test_y = y[~msk]\n",
    "    \n",
    "    random_Forest = make_forest(n_estimators=n_estimators, max_features=num_features, \\\n",
    "                                bootstrap=True, oob_score=oob_score, verbose=0, criterion=criterion, n_jobs=-1)\n",
    "    random_Forest.fit(train_x, train_y)\n",
    "        \n",
    "    predict_labels = random_Forest.predict(test_x)\n",
    "    test_accuracy = random_Forest.score(test_x, test_y)\n",
    "    return random_Forest, test_accuracy"
   ]
  },
  {
   "cell_type": "markdown",
   "metadata": {},
   "source": [
    "#### Prediction"
   ]
  },
  {
   "cell_type": "code",
   "execution_count": 19,
   "metadata": {},
   "outputs": [],
   "source": [
    "x1,y1 = split_x_y(selected_data, train_labels,1)\n",
    "x30,y30 = split_x_y(selected_data, train_labels,30)\n",
    "\n",
    "forest1, accurency1 = train_on_df(x1,y1,0.8)\n",
    "forest30, accurency30 = train_on_df(x30,y30,0.8)\n",
    "\n",
    "df_stock = pd.DataFrame()\n",
    "df_stock[\"close\"] = selected_data[\"close\"]\n",
    "df_stock[\"Close_detrend\"] = selected_data[\"Close_detrend\"]\n",
    "df_stock[\"Target(1)\"] = selected_data[\"Target(1)\"]\n",
    "df_stock[\"Target(30)\"] = selected_data[\"Target(30)\"]\n",
    "df_stock[\"Prediction(1)\"] = forest1.predict(selected_data[train_labels].as_matrix())\n",
    "df_stock[\"Prediction(30)\"] = forest30.predict(selected_data[train_labels].as_matrix())"
   ]
  },
  {
   "cell_type": "markdown",
   "metadata": {},
   "source": [
    "### Train forest"
   ]
  },
  {
   "cell_type": "code",
   "execution_count": 20,
   "metadata": {},
   "outputs": [
    {
     "name": "stdout",
     "output_type": "stream",
     "text": [
      "Accuracy model in one day:  52.9\nAccuracy model in 30 days:  95.17\n"
     ]
    }
   ],
   "source": [
    "x_1_day, y_1_day = split_x_y(selected_data, train_labels,1)\n",
    "x_30_day,y_30_day = split_x_y(selected_data, train_labels,30)\n",
    "\n",
    "complete_forest1, complete_acc1 = train_on_df(x_1_day,y_1_day,0.8)\n",
    "complete_forest30, complete_acc30 = train_on_df(x_30_day,y_30_day,0.8)\n",
    "\n",
    "print ('Accuracy model in one day: ', str(round(complete_acc1*100,2)))\n",
    "print ('Accuracy model in 30 days: ', str(round(complete_acc30*100,2)))"
   ]
  }
 ],
 "metadata": {
  "kernelspec": {
   "display_name": "Python 3",
   "language": "python",
   "name": "python3"
  },
  "language_info": {
   "codemirror_mode": {
    "name": "ipython",
    "version": 3.0
   },
   "file_extension": ".py",
   "mimetype": "text/x-python",
   "name": "python",
   "nbconvert_exporter": "python",
   "pygments_lexer": "ipython3",
   "version": "3.6.1"
  }
 },
 "nbformat": 4,
 "nbformat_minor": 0
}